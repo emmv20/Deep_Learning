{
  "cells": [
    {
      "cell_type": "markdown",
      "source": [
        "# Practica DL - Almada Emmanuel\n",
        "\n",
        "\n",
        "---\n",
        "\n"
      ],
      "metadata": {
        "id": "FC9eg9JxTFP3"
      }
    },
    {
      "cell_type": "markdown",
      "source": [
        "# Carga de datos e importacion de librerias."
      ],
      "metadata": {
        "id": "yVvQ9Z8Rsd2f"
      }
    },
    {
      "cell_type": "code",
      "source": [
        "from google.colab import drive\n",
        "drive.mount('/content/drive')\n"
      ],
      "metadata": {
        "colab": {
          "base_uri": "https://localhost:8080/"
        },
        "id": "gRK_cKEgMePQ",
        "outputId": "5aa6688a-70bc-4712-aee6-9446fb175cd5"
      },
      "execution_count": null,
      "outputs": [
        {
          "output_type": "stream",
          "name": "stdout",
          "text": [
            "Drive already mounted at /content/drive; to attempt to forcibly remount, call drive.mount(\"/content/drive\", force_remount=True).\n"
          ]
        }
      ]
    },
    {
      "cell_type": "code",
      "execution_count": null,
      "metadata": {
        "colab": {
          "base_uri": "https://localhost:8080/"
        },
        "id": "X74gvBMvEITI",
        "outputId": "418beaa9-e4c8-4067-f5cf-3adb7c60b1af"
      },
      "outputs": [
        {
          "output_type": "stream",
          "name": "stdout",
          "text": [
            "--2023-02-19 00:08:14--  https://public.opendatasoft.com/explore/dataset/airbnb-listings/download/?format=csv&disjunctive.host_verifications=true&disjunctive.amenities=true&disjunctive.features=true&refine.country=Spain&q=Madrid&timezone=Europe/London&use_labels_for_header=true&csv_separator=%3B\n",
            "Resolving public.opendatasoft.com (public.opendatasoft.com)... 34.249.199.226, 34.248.20.69\n",
            "Connecting to public.opendatasoft.com (public.opendatasoft.com)|34.249.199.226|:443... connected.\n",
            "HTTP request sent, awaiting response... 200 OK\n",
            "Length: unspecified [application/csv]\n",
            "Saving to: ‘airbnb-listings.csv’\n",
            "\n",
            "airbnb-listings.csv     [          <=>       ]  54.31M  3.05MB/s    in 19s     \n",
            "\n",
            "2023-02-19 00:08:34 (2.85 MB/s) - ‘airbnb-listings.csv’ saved [56950929]\n",
            "\n"
          ]
        }
      ],
      "source": [
        " !wget -O \"airbnb-listings.csv\" \"https://public.opendatasoft.com/explore/dataset/airbnb-listings/download/?format=csv&disjunctive.host_verifications=true&disjunctive.amenities=true&disjunctive.features=true&refine.country=Spain&q=Madrid&timezone=Europe/London&use_labels_for_header=true&csv_separator=%3B\""
      ]
    },
    {
      "cell_type": "code",
      "source": [
        "import pandas as pd\n",
        "import numpy as np\n",
        "from scipy import stats\n",
        "from sklearn.preprocessing import MinMaxScaler\n",
        "from sklearn.preprocessing import OneHotEncoder\n",
        "from matplotlib import pyplot as plt\n"
      ],
      "metadata": {
        "id": "Mhl51ybLdyAw"
      },
      "execution_count": null,
      "outputs": []
    },
    {
      "cell_type": "code",
      "source": [
        "del data"
      ],
      "metadata": {
        "id": "Np0vv0a2u_N0"
      },
      "execution_count": null,
      "outputs": []
    },
    {
      "cell_type": "code",
      "execution_count": null,
      "metadata": {
        "id": "LarX9QteFOKg"
      },
      "outputs": [],
      "source": [
        "airbnb = pd.read_csv('airbnb-listings.csv',sep=';')"
      ]
    },
    {
      "cell_type": "code",
      "source": [
        "airbnb.to_csv('/content/drive/My Drive/airbnb.csv', index=False)"
      ],
      "metadata": {
        "id": "rpiaXGub_wBn"
      },
      "execution_count": null,
      "outputs": []
    },
    {
      "cell_type": "markdown",
      "metadata": {
        "id": "_YeqdlY5ciL9"
      },
      "source": [
        "Conservo solamente las filas de Madrid."
      ]
    },
    {
      "cell_type": "code",
      "execution_count": null,
      "metadata": {
        "id": "SzeP064US_o0",
        "colab": {
          "base_uri": "https://localhost:8080/"
        },
        "outputId": "ede99081-3d13-4b0e-ab2d-88cdd503345a"
      },
      "outputs": [
        {
          "output_type": "stream",
          "name": "stdout",
          "text": [
            "13207 filas con 89 columnas\n"
          ]
        }
      ],
      "source": [
        "data = airbnb[airbnb[\"City\"] == \"Madrid\"]\n",
        "print(data.shape[0],'filas con',data.shape[1],'columnas')"
      ]
    },
    {
      "cell_type": "code",
      "source": [
        "columnas = ['Thumbnail Url',\n",
        "            'Property Type',\n",
        "            'Room Type',\n",
        "            'Bathrooms',\n",
        "            'Bedrooms',\n",
        "            'Beds',\n",
        "            'Bed Type',\n",
        "            'Price',\n",
        "            'Cleaning Fee',\n",
        "            'Security Deposit',\n",
        "            'Cancellation Policy']\n",
        "\n",
        "\n",
        "data = data.loc[:, columnas]"
      ],
      "metadata": {
        "id": "mgi7Dl12rQrT"
      },
      "execution_count": null,
      "outputs": []
    },
    {
      "cell_type": "markdown",
      "metadata": {
        "id": "jB-EAEVccXUJ"
      },
      "source": [
        "\n",
        "\n",
        "---\n",
        "\n",
        "\n",
        "# Funciones\n",
        "limpiar el dataframe."
      ]
    },
    {
      "cell_type": "markdown",
      "source": [
        "Funciones necesarias para procesamiento."
      ],
      "metadata": {
        "id": "lEywvOVbtUJl"
      }
    },
    {
      "cell_type": "code",
      "source": [
        "def crear_columnas_one_hot(df, nombre_columna):\n",
        "    columna = df[nombre_columna]\n",
        "    one_hot = pd.get_dummies(columna, prefix=nombre_columna)\n",
        "    df = pd.concat([df, one_hot], axis=1)\n",
        "    df.drop(columns=[nombre_columna], inplace=True)\n",
        "    return df\n",
        "\n"
      ],
      "metadata": {
        "id": "VYKkLeAsdt4b"
      },
      "execution_count": null,
      "outputs": []
    },
    {
      "cell_type": "code",
      "source": [
        "#funcion para escalar datos\n",
        "\n",
        "def minmaxScarler(df, col_name):\n",
        "    scaler = MinMaxScaler()\n",
        "    df[col_name] = scaler.fit_transform(df[[col_name]])\n",
        "    return"
      ],
      "metadata": {
        "id": "kKPdqP_-eIy2"
      },
      "execution_count": null,
      "outputs": []
    },
    {
      "cell_type": "code",
      "source": [
        "#Eliminar outliers\n",
        "def del_outliers(df, col_name):\n",
        "    column = df[col_name]\n",
        "    z_score = np.abs(stats.zscore(column))\n",
        "    outliers_i = column[z_score > 3].index\n",
        "    outliers = column[z_score > 3]\n",
        "    df.drop(outliers_i, inplace=True)\n",
        "    return"
      ],
      "metadata": {
        "id": "zwhXwlSveI9y"
      },
      "execution_count": null,
      "outputs": []
    },
    {
      "cell_type": "markdown",
      "source": [
        "# analisis exploratorio\n",
        "\n",
        "---\n",
        "\n"
      ],
      "metadata": {
        "id": "8dkuG_ezMsGD"
      }
    },
    {
      "cell_type": "code",
      "source": [
        "#Comprobamos los valores nulos de cada columna\n",
        "pd.options.display.max_rows=None \n",
        "data.isnull().sum()"
      ],
      "metadata": {
        "colab": {
          "base_uri": "https://localhost:8080/"
        },
        "id": "ajAArTGiHaRM",
        "outputId": "7f84e33d-450f-48f0-8f94-2b10e1133c28"
      },
      "execution_count": null,
      "outputs": [
        {
          "output_type": "execute_result",
          "data": {
            "text/plain": [
              "Thumbnail Url          2478\n",
              "Property Type             0\n",
              "Room Type                 0\n",
              "Bathrooms                49\n",
              "Bedrooms                 23\n",
              "Beds                     49\n",
              "Bed Type                  0\n",
              "Price                     9\n",
              "Cleaning Fee           5387\n",
              "Security Deposit       7572\n",
              "Cancellation Policy       0\n",
              "dtype: int64"
            ]
          },
          "metadata": {},
          "execution_count": 226
        }
      ]
    },
    {
      "cell_type": "markdown",
      "source": [
        "Realizo un drop para conservar los valores sin nan, teniendo en cuenta que solo utilizare 1000 registros.\n",
        "Si pudiera utilizar todos los datos, rellenaria **Neighbourhood**, ayudandome del zipcode, el **Security Deposit** con un promedio en relacion al precio, los mismo con **Cleaning Fee**"
      ],
      "metadata": {
        "id": "96_pFNIWNYc6"
      }
    },
    {
      "cell_type": "code",
      "source": [
        "data = data.dropna()"
      ],
      "metadata": {
        "id": "tabQwhD3XK74"
      },
      "execution_count": null,
      "outputs": []
    },
    {
      "cell_type": "markdown",
      "source": [
        "Luego de la limpieza de nulos:"
      ],
      "metadata": {
        "id": "94UHfn1_W2G2"
      }
    },
    {
      "cell_type": "code",
      "source": [
        "print(data.shape[0],'filas con',data.shape[1],'columnas')"
      ],
      "metadata": {
        "colab": {
          "base_uri": "https://localhost:8080/"
        },
        "id": "LpG8Y8vTwTmk",
        "outputId": "c7a071e3-882b-4b23-8bd4-ec7211496f22"
      },
      "execution_count": null,
      "outputs": [
        {
          "output_type": "stream",
          "name": "stdout",
          "text": [
            "3621 filas con 11 columnas\n"
          ]
        }
      ]
    },
    {
      "cell_type": "code",
      "source": [
        "data.dtypes"
      ],
      "metadata": {
        "colab": {
          "base_uri": "https://localhost:8080/"
        },
        "id": "vwLEWlCfaP4L",
        "outputId": "47c27447-b2f9-468c-9560-d7773f21235b"
      },
      "execution_count": null,
      "outputs": [
        {
          "output_type": "execute_result",
          "data": {
            "text/plain": [
              "Thumbnail Url           object\n",
              "Property Type           object\n",
              "Room Type               object\n",
              "Bathrooms              float64\n",
              "Bedrooms               float64\n",
              "Beds                   float64\n",
              "Bed Type                object\n",
              "Price                  float64\n",
              "Cleaning Fee           float64\n",
              "Security Deposit       float64\n",
              "Cancellation Policy     object\n",
              "dtype: object"
            ]
          },
          "metadata": {},
          "execution_count": 229
        }
      ]
    },
    {
      "cell_type": "markdown",
      "source": [
        "\n",
        "\n",
        "---\n",
        "\n",
        "\n",
        "# Property Type\n",
        "Aqui se puede observar una gran diferencia de datos de Apartments con respecto los demas.\n",
        "\n",
        "\n",
        "---\n",
        "\n"
      ],
      "metadata": {
        "id": "RjxZ_AHQ-_FT"
      }
    },
    {
      "cell_type": "code",
      "source": [
        "print(data['Property Type'].value_counts())\n",
        "print('Representado en porcentaje:')\n",
        "print(data['Property Type'].value_counts(normalize=True))"
      ],
      "metadata": {
        "colab": {
          "base_uri": "https://localhost:8080/"
        },
        "id": "YCojpNZLIi_h",
        "outputId": "56a50aae-0ca9-45ee-86fd-e07634afc661"
      },
      "execution_count": null,
      "outputs": [
        {
          "output_type": "stream",
          "name": "stdout",
          "text": [
            "Apartment             3111\n",
            "House                  185\n",
            "Loft                   108\n",
            "Condominium             93\n",
            "Other                   58\n",
            "Bed & Breakfast         52\n",
            "Chalet                   5\n",
            "Dorm                     4\n",
            "Townhouse                2\n",
            "Tent                     1\n",
            "Serviced apartment       1\n",
            "Villa                    1\n",
            "Name: Property Type, dtype: int64\n",
            "Representado en porcentaje:\n",
            "Apartment             0.859155\n",
            "House                 0.051091\n",
            "Loft                  0.029826\n",
            "Condominium           0.025684\n",
            "Other                 0.016018\n",
            "Bed & Breakfast       0.014361\n",
            "Chalet                0.001381\n",
            "Dorm                  0.001105\n",
            "Townhouse             0.000552\n",
            "Tent                  0.000276\n",
            "Serviced apartment    0.000276\n",
            "Villa                 0.000276\n",
            "Name: Property Type, dtype: float64\n"
          ]
        }
      ]
    },
    {
      "cell_type": "markdown",
      "source": [
        "\n",
        "**Apartment** representa un porcentaje muy grande del total.\n",
        "Modificaré los valores para convertir la columna en binaria, es decir, **apartament(1)** o **no apartment(0)** para simplificar."
      ],
      "metadata": {
        "id": "KI3Rq2sAuPtl"
      }
    },
    {
      "cell_type": "code",
      "source": [
        "data['Property Type'].replace(\n",
        "                      {'Apartment':1.0,\n",
        "                      'House':0.0,\n",
        "                      'Loft':0.0,\n",
        "                      'Condominium':0.0,\n",
        "                      'Other':0.0,\n",
        "                      'Bed & Breakfast':0.0,\n",
        "                      'Chalet':0.0,\n",
        "                      'Dorm':0.0,\n",
        "                      'Townhouse':0.0,\n",
        "                      'Tent':0.0,\n",
        "                      'Serviced apartment':0.0,\n",
        "                      'Villa':0.0\n",
        "     }, inplace=True)\n"
      ],
      "metadata": {
        "id": "JBCFvVdtvokI"
      },
      "execution_count": null,
      "outputs": []
    },
    {
      "cell_type": "code",
      "source": [
        "data['Property Type'].value_counts()"
      ],
      "metadata": {
        "colab": {
          "base_uri": "https://localhost:8080/"
        },
        "id": "r0hntD7kE9DK",
        "outputId": "5dbbc837-3a3e-4686-97a9-3a1e409b2a30"
      },
      "execution_count": null,
      "outputs": [
        {
          "output_type": "execute_result",
          "data": {
            "text/plain": [
              "1.0    3111\n",
              "0.0     510\n",
              "Name: Property Type, dtype: int64"
            ]
          },
          "metadata": {},
          "execution_count": 232
        }
      ]
    },
    {
      "cell_type": "markdown",
      "source": [
        "El nombre Property Type pierde sentido, con lo cual lo cambiaré a Apartment."
      ],
      "metadata": {
        "id": "O9ggJh_KHWDU"
      }
    },
    {
      "cell_type": "code",
      "source": [
        "data = data.rename(columns={'Property Type': 'Apartment'})"
      ],
      "metadata": {
        "id": "toRmUlsNGjbP"
      },
      "execution_count": null,
      "outputs": []
    },
    {
      "cell_type": "code",
      "source": [
        "data.head(10).T"
      ],
      "metadata": {
        "colab": {
          "base_uri": "https://localhost:8080/"
        },
        "id": "m6_A0DRutGlV",
        "outputId": "0662b6cf-12c2-4951-b4af-ce3ee21ee90e"
      },
      "execution_count": null,
      "outputs": [
        {
          "output_type": "execute_result",
          "data": {
            "text/plain": [
              "                                                                    0   \\\n",
              "Thumbnail Url        https://a0.muscache.com/im/pictures/d1a2212d-c...   \n",
              "Apartment                                                          0.0   \n",
              "Room Type                                              Entire home/apt   \n",
              "Bathrooms                                                          1.0   \n",
              "Bedrooms                                                           0.0   \n",
              "Beds                                                               1.0   \n",
              "Bed Type                                                      Real Bed   \n",
              "Price                                                             50.0   \n",
              "Cleaning Fee                                                      20.0   \n",
              "Security Deposit                                                 100.0   \n",
              "Cancellation Policy                                           moderate   \n",
              "\n",
              "                                                                    1   \\\n",
              "Thumbnail Url        https://a0.muscache.com/im/pictures/3eb59287-8...   \n",
              "Apartment                                                          1.0   \n",
              "Room Type                                              Entire home/apt   \n",
              "Bathrooms                                                          1.0   \n",
              "Bedrooms                                                           1.0   \n",
              "Beds                                                               2.0   \n",
              "Bed Type                                                      Real Bed   \n",
              "Price                                                             50.0   \n",
              "Cleaning Fee                                                      15.0   \n",
              "Security Deposit                                                 250.0   \n",
              "Cancellation Policy                                             strict   \n",
              "\n",
              "                                                                    4   \\\n",
              "Thumbnail Url        https://a0.muscache.com/im/pictures/6136974/57...   \n",
              "Apartment                                                          1.0   \n",
              "Room Type                                              Entire home/apt   \n",
              "Bathrooms                                                          1.0   \n",
              "Bedrooms                                                           2.0   \n",
              "Beds                                                               4.0   \n",
              "Bed Type                                                      Real Bed   \n",
              "Price                                                             95.0   \n",
              "Cleaning Fee                                                      60.0   \n",
              "Security Deposit                                                 200.0   \n",
              "Cancellation Policy                                             strict   \n",
              "\n",
              "                                                                    15  \\\n",
              "Thumbnail Url        https://a0.muscache.com/im/pictures/faa00251-5...   \n",
              "Apartment                                                          0.0   \n",
              "Room Type                                              Entire home/apt   \n",
              "Bathrooms                                                          1.0   \n",
              "Bedrooms                                                           1.0   \n",
              "Beds                                                               2.0   \n",
              "Bed Type                                                      Real Bed   \n",
              "Price                                                             45.0   \n",
              "Cleaning Fee                                                      15.0   \n",
              "Security Deposit                                                 150.0   \n",
              "Cancellation Policy                                             strict   \n",
              "\n",
              "                                                                    17  \\\n",
              "Thumbnail Url        https://a0.muscache.com/im/pictures/69877124/9...   \n",
              "Apartment                                                          1.0   \n",
              "Room Type                                              Entire home/apt   \n",
              "Bathrooms                                                          1.0   \n",
              "Bedrooms                                                           1.0   \n",
              "Beds                                                               1.0   \n",
              "Bed Type                                                      Real Bed   \n",
              "Price                                                             89.0   \n",
              "Cleaning Fee                                                      25.0   \n",
              "Security Deposit                                                 100.0   \n",
              "Cancellation Policy                                             strict   \n",
              "\n",
              "                                                                    23  \\\n",
              "Thumbnail Url        https://a0.muscache.com/im/pictures/beef54af-7...   \n",
              "Apartment                                                          1.0   \n",
              "Room Type                                                 Private room   \n",
              "Bathrooms                                                          1.5   \n",
              "Bedrooms                                                           1.0   \n",
              "Beds                                                               1.0   \n",
              "Bed Type                                                      Real Bed   \n",
              "Price                                                             52.0   \n",
              "Cleaning Fee                                                       8.0   \n",
              "Security Deposit                                                 150.0   \n",
              "Cancellation Policy                                           flexible   \n",
              "\n",
              "                                                                    26  \\\n",
              "Thumbnail Url        https://a0.muscache.com/im/pictures/57baa2b6-1...   \n",
              "Apartment                                                          1.0   \n",
              "Room Type                                              Entire home/apt   \n",
              "Bathrooms                                                          1.0   \n",
              "Bedrooms                                                           1.0   \n",
              "Beds                                                               1.0   \n",
              "Bed Type                                                      Real Bed   \n",
              "Price                                                             68.0   \n",
              "Cleaning Fee                                                      24.0   \n",
              "Security Deposit                                                 130.0   \n",
              "Cancellation Policy                                           flexible   \n",
              "\n",
              "                                                                    27  \\\n",
              "Thumbnail Url        https://a0.muscache.com/im/pictures/e1b8a07f-7...   \n",
              "Apartment                                                          1.0   \n",
              "Room Type                                              Entire home/apt   \n",
              "Bathrooms                                                          1.0   \n",
              "Bedrooms                                                           2.0   \n",
              "Beds                                                               2.0   \n",
              "Bed Type                                                      Real Bed   \n",
              "Price                                                             80.0   \n",
              "Cleaning Fee                                                      20.0   \n",
              "Security Deposit                                                 100.0   \n",
              "Cancellation Policy                                             strict   \n",
              "\n",
              "                                                                    30  \\\n",
              "Thumbnail Url        https://a0.muscache.com/im/pictures/12705245/3...   \n",
              "Apartment                                                          0.0   \n",
              "Room Type                                                 Private room   \n",
              "Bathrooms                                                          1.5   \n",
              "Bedrooms                                                           1.0   \n",
              "Beds                                                               1.0   \n",
              "Bed Type                                                      Real Bed   \n",
              "Price                                                             50.0   \n",
              "Cleaning Fee                                                      50.0   \n",
              "Security Deposit                                                 200.0   \n",
              "Cancellation Policy                                           moderate   \n",
              "\n",
              "                                                                    31  \n",
              "Thumbnail Url        https://a0.muscache.com/im/pictures/39444070/e...  \n",
              "Apartment                                                          1.0  \n",
              "Room Type                                              Entire home/apt  \n",
              "Bathrooms                                                          1.0  \n",
              "Bedrooms                                                           1.0  \n",
              "Beds                                                               1.0  \n",
              "Bed Type                                                      Real Bed  \n",
              "Price                                                             50.0  \n",
              "Cleaning Fee                                                      25.0  \n",
              "Security Deposit                                                  90.0  \n",
              "Cancellation Policy                                             strict  "
            ],
            "text/html": [
              "\n",
              "  <div id=\"df-d4623aa9-8474-42f3-ba99-ff36414e0e84\">\n",
              "    <div class=\"colab-df-container\">\n",
              "      <div>\n",
              "<style scoped>\n",
              "    .dataframe tbody tr th:only-of-type {\n",
              "        vertical-align: middle;\n",
              "    }\n",
              "\n",
              "    .dataframe tbody tr th {\n",
              "        vertical-align: top;\n",
              "    }\n",
              "\n",
              "    .dataframe thead th {\n",
              "        text-align: right;\n",
              "    }\n",
              "</style>\n",
              "<table border=\"1\" class=\"dataframe\">\n",
              "  <thead>\n",
              "    <tr style=\"text-align: right;\">\n",
              "      <th></th>\n",
              "      <th>0</th>\n",
              "      <th>1</th>\n",
              "      <th>4</th>\n",
              "      <th>15</th>\n",
              "      <th>17</th>\n",
              "      <th>23</th>\n",
              "      <th>26</th>\n",
              "      <th>27</th>\n",
              "      <th>30</th>\n",
              "      <th>31</th>\n",
              "    </tr>\n",
              "  </thead>\n",
              "  <tbody>\n",
              "    <tr>\n",
              "      <th>Thumbnail Url</th>\n",
              "      <td>https://a0.muscache.com/im/pictures/d1a2212d-c...</td>\n",
              "      <td>https://a0.muscache.com/im/pictures/3eb59287-8...</td>\n",
              "      <td>https://a0.muscache.com/im/pictures/6136974/57...</td>\n",
              "      <td>https://a0.muscache.com/im/pictures/faa00251-5...</td>\n",
              "      <td>https://a0.muscache.com/im/pictures/69877124/9...</td>\n",
              "      <td>https://a0.muscache.com/im/pictures/beef54af-7...</td>\n",
              "      <td>https://a0.muscache.com/im/pictures/57baa2b6-1...</td>\n",
              "      <td>https://a0.muscache.com/im/pictures/e1b8a07f-7...</td>\n",
              "      <td>https://a0.muscache.com/im/pictures/12705245/3...</td>\n",
              "      <td>https://a0.muscache.com/im/pictures/39444070/e...</td>\n",
              "    </tr>\n",
              "    <tr>\n",
              "      <th>Apartment</th>\n",
              "      <td>0.0</td>\n",
              "      <td>1.0</td>\n",
              "      <td>1.0</td>\n",
              "      <td>0.0</td>\n",
              "      <td>1.0</td>\n",
              "      <td>1.0</td>\n",
              "      <td>1.0</td>\n",
              "      <td>1.0</td>\n",
              "      <td>0.0</td>\n",
              "      <td>1.0</td>\n",
              "    </tr>\n",
              "    <tr>\n",
              "      <th>Room Type</th>\n",
              "      <td>Entire home/apt</td>\n",
              "      <td>Entire home/apt</td>\n",
              "      <td>Entire home/apt</td>\n",
              "      <td>Entire home/apt</td>\n",
              "      <td>Entire home/apt</td>\n",
              "      <td>Private room</td>\n",
              "      <td>Entire home/apt</td>\n",
              "      <td>Entire home/apt</td>\n",
              "      <td>Private room</td>\n",
              "      <td>Entire home/apt</td>\n",
              "    </tr>\n",
              "    <tr>\n",
              "      <th>Bathrooms</th>\n",
              "      <td>1.0</td>\n",
              "      <td>1.0</td>\n",
              "      <td>1.0</td>\n",
              "      <td>1.0</td>\n",
              "      <td>1.0</td>\n",
              "      <td>1.5</td>\n",
              "      <td>1.0</td>\n",
              "      <td>1.0</td>\n",
              "      <td>1.5</td>\n",
              "      <td>1.0</td>\n",
              "    </tr>\n",
              "    <tr>\n",
              "      <th>Bedrooms</th>\n",
              "      <td>0.0</td>\n",
              "      <td>1.0</td>\n",
              "      <td>2.0</td>\n",
              "      <td>1.0</td>\n",
              "      <td>1.0</td>\n",
              "      <td>1.0</td>\n",
              "      <td>1.0</td>\n",
              "      <td>2.0</td>\n",
              "      <td>1.0</td>\n",
              "      <td>1.0</td>\n",
              "    </tr>\n",
              "    <tr>\n",
              "      <th>Beds</th>\n",
              "      <td>1.0</td>\n",
              "      <td>2.0</td>\n",
              "      <td>4.0</td>\n",
              "      <td>2.0</td>\n",
              "      <td>1.0</td>\n",
              "      <td>1.0</td>\n",
              "      <td>1.0</td>\n",
              "      <td>2.0</td>\n",
              "      <td>1.0</td>\n",
              "      <td>1.0</td>\n",
              "    </tr>\n",
              "    <tr>\n",
              "      <th>Bed Type</th>\n",
              "      <td>Real Bed</td>\n",
              "      <td>Real Bed</td>\n",
              "      <td>Real Bed</td>\n",
              "      <td>Real Bed</td>\n",
              "      <td>Real Bed</td>\n",
              "      <td>Real Bed</td>\n",
              "      <td>Real Bed</td>\n",
              "      <td>Real Bed</td>\n",
              "      <td>Real Bed</td>\n",
              "      <td>Real Bed</td>\n",
              "    </tr>\n",
              "    <tr>\n",
              "      <th>Price</th>\n",
              "      <td>50.0</td>\n",
              "      <td>50.0</td>\n",
              "      <td>95.0</td>\n",
              "      <td>45.0</td>\n",
              "      <td>89.0</td>\n",
              "      <td>52.0</td>\n",
              "      <td>68.0</td>\n",
              "      <td>80.0</td>\n",
              "      <td>50.0</td>\n",
              "      <td>50.0</td>\n",
              "    </tr>\n",
              "    <tr>\n",
              "      <th>Cleaning Fee</th>\n",
              "      <td>20.0</td>\n",
              "      <td>15.0</td>\n",
              "      <td>60.0</td>\n",
              "      <td>15.0</td>\n",
              "      <td>25.0</td>\n",
              "      <td>8.0</td>\n",
              "      <td>24.0</td>\n",
              "      <td>20.0</td>\n",
              "      <td>50.0</td>\n",
              "      <td>25.0</td>\n",
              "    </tr>\n",
              "    <tr>\n",
              "      <th>Security Deposit</th>\n",
              "      <td>100.0</td>\n",
              "      <td>250.0</td>\n",
              "      <td>200.0</td>\n",
              "      <td>150.0</td>\n",
              "      <td>100.0</td>\n",
              "      <td>150.0</td>\n",
              "      <td>130.0</td>\n",
              "      <td>100.0</td>\n",
              "      <td>200.0</td>\n",
              "      <td>90.0</td>\n",
              "    </tr>\n",
              "    <tr>\n",
              "      <th>Cancellation Policy</th>\n",
              "      <td>moderate</td>\n",
              "      <td>strict</td>\n",
              "      <td>strict</td>\n",
              "      <td>strict</td>\n",
              "      <td>strict</td>\n",
              "      <td>flexible</td>\n",
              "      <td>flexible</td>\n",
              "      <td>strict</td>\n",
              "      <td>moderate</td>\n",
              "      <td>strict</td>\n",
              "    </tr>\n",
              "  </tbody>\n",
              "</table>\n",
              "</div>\n",
              "      <button class=\"colab-df-convert\" onclick=\"convertToInteractive('df-d4623aa9-8474-42f3-ba99-ff36414e0e84')\"\n",
              "              title=\"Convert this dataframe to an interactive table.\"\n",
              "              style=\"display:none;\">\n",
              "        \n",
              "  <svg xmlns=\"http://www.w3.org/2000/svg\" height=\"24px\"viewBox=\"0 0 24 24\"\n",
              "       width=\"24px\">\n",
              "    <path d=\"M0 0h24v24H0V0z\" fill=\"none\"/>\n",
              "    <path d=\"M18.56 5.44l.94 2.06.94-2.06 2.06-.94-2.06-.94-.94-2.06-.94 2.06-2.06.94zm-11 1L8.5 8.5l.94-2.06 2.06-.94-2.06-.94L8.5 2.5l-.94 2.06-2.06.94zm10 10l.94 2.06.94-2.06 2.06-.94-2.06-.94-.94-2.06-.94 2.06-2.06.94z\"/><path d=\"M17.41 7.96l-1.37-1.37c-.4-.4-.92-.59-1.43-.59-.52 0-1.04.2-1.43.59L10.3 9.45l-7.72 7.72c-.78.78-.78 2.05 0 2.83L4 21.41c.39.39.9.59 1.41.59.51 0 1.02-.2 1.41-.59l7.78-7.78 2.81-2.81c.8-.78.8-2.07 0-2.86zM5.41 20L4 18.59l7.72-7.72 1.47 1.35L5.41 20z\"/>\n",
              "  </svg>\n",
              "      </button>\n",
              "      \n",
              "  <style>\n",
              "    .colab-df-container {\n",
              "      display:flex;\n",
              "      flex-wrap:wrap;\n",
              "      gap: 12px;\n",
              "    }\n",
              "\n",
              "    .colab-df-convert {\n",
              "      background-color: #E8F0FE;\n",
              "      border: none;\n",
              "      border-radius: 50%;\n",
              "      cursor: pointer;\n",
              "      display: none;\n",
              "      fill: #1967D2;\n",
              "      height: 32px;\n",
              "      padding: 0 0 0 0;\n",
              "      width: 32px;\n",
              "    }\n",
              "\n",
              "    .colab-df-convert:hover {\n",
              "      background-color: #E2EBFA;\n",
              "      box-shadow: 0px 1px 2px rgba(60, 64, 67, 0.3), 0px 1px 3px 1px rgba(60, 64, 67, 0.15);\n",
              "      fill: #174EA6;\n",
              "    }\n",
              "\n",
              "    [theme=dark] .colab-df-convert {\n",
              "      background-color: #3B4455;\n",
              "      fill: #D2E3FC;\n",
              "    }\n",
              "\n",
              "    [theme=dark] .colab-df-convert:hover {\n",
              "      background-color: #434B5C;\n",
              "      box-shadow: 0px 1px 3px 1px rgba(0, 0, 0, 0.15);\n",
              "      filter: drop-shadow(0px 1px 2px rgba(0, 0, 0, 0.3));\n",
              "      fill: #FFFFFF;\n",
              "    }\n",
              "  </style>\n",
              "\n",
              "      <script>\n",
              "        const buttonEl =\n",
              "          document.querySelector('#df-d4623aa9-8474-42f3-ba99-ff36414e0e84 button.colab-df-convert');\n",
              "        buttonEl.style.display =\n",
              "          google.colab.kernel.accessAllowed ? 'block' : 'none';\n",
              "\n",
              "        async function convertToInteractive(key) {\n",
              "          const element = document.querySelector('#df-d4623aa9-8474-42f3-ba99-ff36414e0e84');\n",
              "          const dataTable =\n",
              "            await google.colab.kernel.invokeFunction('convertToInteractive',\n",
              "                                                     [key], {});\n",
              "          if (!dataTable) return;\n",
              "\n",
              "          const docLinkHtml = 'Like what you see? Visit the ' +\n",
              "            '<a target=\"_blank\" href=https://colab.research.google.com/notebooks/data_table.ipynb>data table notebook</a>'\n",
              "            + ' to learn more about interactive tables.';\n",
              "          element.innerHTML = '';\n",
              "          dataTable['output_type'] = 'display_data';\n",
              "          await google.colab.output.renderOutput(dataTable, element);\n",
              "          const docLink = document.createElement('div');\n",
              "          docLink.innerHTML = docLinkHtml;\n",
              "          element.appendChild(docLink);\n",
              "        }\n",
              "      </script>\n",
              "    </div>\n",
              "  </div>\n",
              "  "
            ]
          },
          "metadata": {},
          "execution_count": 234
        }
      ]
    },
    {
      "cell_type": "markdown",
      "source": [
        "# Room Type\n"
      ],
      "metadata": {
        "id": "8ihdBctyMbys"
      }
    },
    {
      "cell_type": "code",
      "source": [
        "plt.hist(data['Room Type'], color='lightblue', edgecolor='black')\n",
        "plt.show()"
      ],
      "metadata": {
        "colab": {
          "base_uri": "https://localhost:8080/"
        },
        "id": "ZjM8x7fx_x4A",
        "outputId": "d3bef58d-695f-40e8-8964-f642f0945d3a"
      },
      "execution_count": null,
      "outputs": [
        {
          "output_type": "display_data",
          "data": {
            "text/plain": [
              "<Figure size 432x288 with 1 Axes>"
            ],
            "image/png": "[encoded data removed]"
          },
          "metadata": {
            "needs_background": "light"
          }
        }
      ]
    },
    {
      "cell_type": "code",
      "source": [
        "data['Room Type'].value_counts()"
      ],
      "metadata": {
        "colab": {
          "base_uri": "https://localhost:8080/"
        },
        "id": "DyT4OgB1NDZl",
        "outputId": "93e650c2-34fc-4330-80d9-5f3f25937c32"
      },
      "execution_count": null,
      "outputs": [
        {
          "output_type": "execute_result",
          "data": {
            "text/plain": [
              "Entire home/apt    2963\n",
              "Private room        638\n",
              "Shared room          20\n",
              "Name: Room Type, dtype: int64"
            ]
          },
          "metadata": {},
          "execution_count": 236
        }
      ]
    },
    {
      "cell_type": "markdown",
      "source": [
        "Shared room tiene solo 20 reg, es menos del 1% de Entere home apt.\n",
        "Creo que lo mejor es quitar esos registros."
      ],
      "metadata": {
        "id": "MvpvDYoyNZ80"
      }
    },
    {
      "cell_type": "code",
      "source": [
        "data['Room Type'].replace({'Shared room': np.nan}, inplace=True)\n",
        "data = data.dropna()"
      ],
      "metadata": {
        "id": "3z2S6GviabWD"
      },
      "execution_count": null,
      "outputs": []
    },
    {
      "cell_type": "markdown",
      "source": [
        "Ahora que hay solo 2 registros, al igual que con Property Type, remplazo los valores."
      ],
      "metadata": {
        "id": "AbBmkFW6N6TX"
      }
    },
    {
      "cell_type": "code",
      "source": [
        "data['Room Type'].replace(\n",
        "                      {'Entire home/apt':1.0,\n",
        "                      'Private room':0.0\n",
        "     }, inplace=True)"
      ],
      "metadata": {
        "colab": {
          "base_uri": "https://localhost:8080/"
        },
        "id": "y5NeDb5qN5yz",
        "outputId": "7a6f6769-8ca3-4990-b40a-e3a8212415d9"
      },
      "execution_count": null,
      "outputs": [
        {
          "output_type": "stream",
          "name": "stderr",
          "text": [
            "/usr/local/lib/python3.8/dist-packages/pandas/core/generic.py:6619: SettingWithCopyWarning: \n",
            "A value is trying to be set on a copy of a slice from a DataFrame\n",
            "\n",
            "See the caveats in the documentation: https://pandas.pydata.org/pandas-docs/stable/user_guide/indexing.html#returning-a-view-versus-a-copy\n",
            "  return self._update_inplace(result)\n"
          ]
        }
      ]
    },
    {
      "cell_type": "markdown",
      "source": [
        "Ahora cambio el nombre."
      ],
      "metadata": {
        "id": "-9aiYsCUOeu2"
      }
    },
    {
      "cell_type": "code",
      "source": [
        "data = data.rename(columns={'Room Type': 'Entire home/apt'})"
      ],
      "metadata": {
        "id": "P3cpdxhEOhKl"
      },
      "execution_count": null,
      "outputs": []
    },
    {
      "cell_type": "code",
      "source": [
        "data['Entire home/apt'].value_counts()"
      ],
      "metadata": {
        "colab": {
          "base_uri": "https://localhost:8080/"
        },
        "id": "-PtBelKh6wt-",
        "outputId": "19320ad3-f2ee-414a-9619-3fd2f6ee566b"
      },
      "execution_count": null,
      "outputs": [
        {
          "output_type": "execute_result",
          "data": {
            "text/plain": [
              "1.0    2963\n",
              "0.0     638\n",
              "Name: Entire home/apt, dtype: int64"
            ]
          },
          "metadata": {},
          "execution_count": 240
        }
      ]
    },
    {
      "cell_type": "code",
      "source": [
        "data.head(10).T"
      ],
      "metadata": {
        "colab": {
          "base_uri": "https://localhost:8080/"
        },
        "id": "TGfZpgi1uOo-",
        "outputId": "5910ae55-d757-461c-a498-bffd08c4b9ae"
      },
      "execution_count": null,
      "outputs": [
        {
          "output_type": "execute_result",
          "data": {
            "text/plain": [
              "                                                                    0   \\\n",
              "Thumbnail Url        https://a0.muscache.com/im/pictures/d1a2212d-c...   \n",
              "Apartment                                                          0.0   \n",
              "Entire home/apt                                                    1.0   \n",
              "Bathrooms                                                          1.0   \n",
              "Bedrooms                                                           0.0   \n",
              "Beds                                                               1.0   \n",
              "Bed Type                                                      Real Bed   \n",
              "Price                                                             50.0   \n",
              "Cleaning Fee                                                      20.0   \n",
              "Security Deposit                                                 100.0   \n",
              "Cancellation Policy                                           moderate   \n",
              "\n",
              "                                                                    1   \\\n",
              "Thumbnail Url        https://a0.muscache.com/im/pictures/3eb59287-8...   \n",
              "Apartment                                                          1.0   \n",
              "Entire home/apt                                                    1.0   \n",
              "Bathrooms                                                          1.0   \n",
              "Bedrooms                                                           1.0   \n",
              "Beds                                                               2.0   \n",
              "Bed Type                                                      Real Bed   \n",
              "Price                                                             50.0   \n",
              "Cleaning Fee                                                      15.0   \n",
              "Security Deposit                                                 250.0   \n",
              "Cancellation Policy                                             strict   \n",
              "\n",
              "                                                                    4   \\\n",
              "Thumbnail Url        https://a0.muscache.com/im/pictures/6136974/57...   \n",
              "Apartment                                                          1.0   \n",
              "Entire home/apt                                                    1.0   \n",
              "Bathrooms                                                          1.0   \n",
              "Bedrooms                                                           2.0   \n",
              "Beds                                                               4.0   \n",
              "Bed Type                                                      Real Bed   \n",
              "Price                                                             95.0   \n",
              "Cleaning Fee                                                      60.0   \n",
              "Security Deposit                                                 200.0   \n",
              "Cancellation Policy                                             strict   \n",
              "\n",
              "                                                                    15  \\\n",
              "Thumbnail Url        https://a0.muscache.com/im/pictures/faa00251-5...   \n",
              "Apartment                                                          0.0   \n",
              "Entire home/apt                                                    1.0   \n",
              "Bathrooms                                                          1.0   \n",
              "Bedrooms                                                           1.0   \n",
              "Beds                                                               2.0   \n",
              "Bed Type                                                      Real Bed   \n",
              "Price                                                             45.0   \n",
              "Cleaning Fee                                                      15.0   \n",
              "Security Deposit                                                 150.0   \n",
              "Cancellation Policy                                             strict   \n",
              "\n",
              "                                                                    17  \\\n",
              "Thumbnail Url        https://a0.muscache.com/im/pictures/69877124/9...   \n",
              "Apartment                                                          1.0   \n",
              "Entire home/apt                                                    1.0   \n",
              "Bathrooms                                                          1.0   \n",
              "Bedrooms                                                           1.0   \n",
              "Beds                                                               1.0   \n",
              "Bed Type                                                      Real Bed   \n",
              "Price                                                             89.0   \n",
              "Cleaning Fee                                                      25.0   \n",
              "Security Deposit                                                 100.0   \n",
              "Cancellation Policy                                             strict   \n",
              "\n",
              "                                                                    23  \\\n",
              "Thumbnail Url        https://a0.muscache.com/im/pictures/beef54af-7...   \n",
              "Apartment                                                          1.0   \n",
              "Entire home/apt                                                    0.0   \n",
              "Bathrooms                                                          1.5   \n",
              "Bedrooms                                                           1.0   \n",
              "Beds                                                               1.0   \n",
              "Bed Type                                                      Real Bed   \n",
              "Price                                                             52.0   \n",
              "Cleaning Fee                                                       8.0   \n",
              "Security Deposit                                                 150.0   \n",
              "Cancellation Policy                                           flexible   \n",
              "\n",
              "                                                                    26  \\\n",
              "Thumbnail Url        https://a0.muscache.com/im/pictures/57baa2b6-1...   \n",
              "Apartment                                                          1.0   \n",
              "Entire home/apt                                                    1.0   \n",
              "Bathrooms                                                          1.0   \n",
              "Bedrooms                                                           1.0   \n",
              "Beds                                                               1.0   \n",
              "Bed Type                                                      Real Bed   \n",
              "Price                                                             68.0   \n",
              "Cleaning Fee                                                      24.0   \n",
              "Security Deposit                                                 130.0   \n",
              "Cancellation Policy                                           flexible   \n",
              "\n",
              "                                                                    27  \\\n",
              "Thumbnail Url        https://a0.muscache.com/im/pictures/e1b8a07f-7...   \n",
              "Apartment                                                          1.0   \n",
              "Entire home/apt                                                    1.0   \n",
              "Bathrooms                                                          1.0   \n",
              "Bedrooms                                                           2.0   \n",
              "Beds                                                               2.0   \n",
              "Bed Type                                                      Real Bed   \n",
              "Price                                                             80.0   \n",
              "Cleaning Fee                                                      20.0   \n",
              "Security Deposit                                                 100.0   \n",
              "Cancellation Policy                                             strict   \n",
              "\n",
              "                                                                    30  \\\n",
              "Thumbnail Url        https://a0.muscache.com/im/pictures/12705245/3...   \n",
              "Apartment                                                          0.0   \n",
              "Entire home/apt                                                    0.0   \n",
              "Bathrooms                                                          1.5   \n",
              "Bedrooms                                                           1.0   \n",
              "Beds                                                               1.0   \n",
              "Bed Type                                                      Real Bed   \n",
              "Price                                                             50.0   \n",
              "Cleaning Fee                                                      50.0   \n",
              "Security Deposit                                                 200.0   \n",
              "Cancellation Policy                                           moderate   \n",
              "\n",
              "                                                                    31  \n",
              "Thumbnail Url        https://a0.muscache.com/im/pictures/39444070/e...  \n",
              "Apartment                                                          1.0  \n",
              "Entire home/apt                                                    1.0  \n",
              "Bathrooms                                                          1.0  \n",
              "Bedrooms                                                           1.0  \n",
              "Beds                                                               1.0  \n",
              "Bed Type                                                      Real Bed  \n",
              "Price                                                             50.0  \n",
              "Cleaning Fee                                                      25.0  \n",
              "Security Deposit                                                  90.0  \n",
              "Cancellation Policy                                             strict  "
            ],
            "text/html": [
              "\n",
              "  <div id=\"df-6327d350-6b17-414a-8836-32e3ce342fbc\">\n",
              "    <div class=\"colab-df-container\">\n",
              "      <div>\n",
              "<style scoped>\n",
              "    .dataframe tbody tr th:only-of-type {\n",
              "        vertical-align: middle;\n",
              "    }\n",
              "\n",
              "    .dataframe tbody tr th {\n",
              "        vertical-align: top;\n",
              "    }\n",
              "\n",
              "    .dataframe thead th {\n",
              "        text-align: right;\n",
              "    }\n",
              "</style>\n",
              "<table border=\"1\" class=\"dataframe\">\n",
              "  <thead>\n",
              "    <tr style=\"text-align: right;\">\n",
              "      <th></th>\n",
              "      <th>0</th>\n",
              "      <th>1</th>\n",
              "      <th>4</th>\n",
              "      <th>15</th>\n",
              "      <th>17</th>\n",
              "      <th>23</th>\n",
              "      <th>26</th>\n",
              "      <th>27</th>\n",
              "      <th>30</th>\n",
              "      <th>31</th>\n",
              "    </tr>\n",
              "  </thead>\n",
              "  <tbody>\n",
              "    <tr>\n",
              "      <th>Thumbnail Url</th>\n",
              "      <td>https://a0.muscache.com/im/pictures/d1a2212d-c...</td>\n",
              "      <td>https://a0.muscache.com/im/pictures/3eb59287-8...</td>\n",
              "      <td>https://a0.muscache.com/im/pictures/6136974/57...</td>\n",
              "      <td>https://a0.muscache.com/im/pictures/faa00251-5...</td>\n",
              "      <td>https://a0.muscache.com/im/pictures/69877124/9...</td>\n",
              "      <td>https://a0.muscache.com/im/pictures/beef54af-7...</td>\n",
              "      <td>https://a0.muscache.com/im/pictures/57baa2b6-1...</td>\n",
              "      <td>https://a0.muscache.com/im/pictures/e1b8a07f-7...</td>\n",
              "      <td>https://a0.muscache.com/im/pictures/12705245/3...</td>\n",
              "      <td>https://a0.muscache.com/im/pictures/39444070/e...</td>\n",
              "    </tr>\n",
              "    <tr>\n",
              "      <th>Apartment</th>\n",
              "      <td>0.0</td>\n",
              "      <td>1.0</td>\n",
              "      <td>1.0</td>\n",
              "      <td>0.0</td>\n",
              "      <td>1.0</td>\n",
              "      <td>1.0</td>\n",
              "      <td>1.0</td>\n",
              "      <td>1.0</td>\n",
              "      <td>0.0</td>\n",
              "      <td>1.0</td>\n",
              "    </tr>\n",
              "    <tr>\n",
              "      <th>Entire home/apt</th>\n",
              "      <td>1.0</td>\n",
              "      <td>1.0</td>\n",
              "      <td>1.0</td>\n",
              "      <td>1.0</td>\n",
              "      <td>1.0</td>\n",
              "      <td>0.0</td>\n",
              "      <td>1.0</td>\n",
              "      <td>1.0</td>\n",
              "      <td>0.0</td>\n",
              "      <td>1.0</td>\n",
              "    </tr>\n",
              "    <tr>\n",
              "      <th>Bathrooms</th>\n",
              "      <td>1.0</td>\n",
              "      <td>1.0</td>\n",
              "      <td>1.0</td>\n",
              "      <td>1.0</td>\n",
              "      <td>1.0</td>\n",
              "      <td>1.5</td>\n",
              "      <td>1.0</td>\n",
              "      <td>1.0</td>\n",
              "      <td>1.5</td>\n",
              "      <td>1.0</td>\n",
              "    </tr>\n",
              "    <tr>\n",
              "      <th>Bedrooms</th>\n",
              "      <td>0.0</td>\n",
              "      <td>1.0</td>\n",
              "      <td>2.0</td>\n",
              "      <td>1.0</td>\n",
              "      <td>1.0</td>\n",
              "      <td>1.0</td>\n",
              "      <td>1.0</td>\n",
              "      <td>2.0</td>\n",
              "      <td>1.0</td>\n",
              "      <td>1.0</td>\n",
              "    </tr>\n",
              "    <tr>\n",
              "      <th>Beds</th>\n",
              "      <td>1.0</td>\n",
              "      <td>2.0</td>\n",
              "      <td>4.0</td>\n",
              "      <td>2.0</td>\n",
              "      <td>1.0</td>\n",
              "      <td>1.0</td>\n",
              "      <td>1.0</td>\n",
              "      <td>2.0</td>\n",
              "      <td>1.0</td>\n",
              "      <td>1.0</td>\n",
              "    </tr>\n",
              "    <tr>\n",
              "      <th>Bed Type</th>\n",
              "      <td>Real Bed</td>\n",
              "      <td>Real Bed</td>\n",
              "      <td>Real Bed</td>\n",
              "      <td>Real Bed</td>\n",
              "      <td>Real Bed</td>\n",
              "      <td>Real Bed</td>\n",
              "      <td>Real Bed</td>\n",
              "      <td>Real Bed</td>\n",
              "      <td>Real Bed</td>\n",
              "      <td>Real Bed</td>\n",
              "    </tr>\n",
              "    <tr>\n",
              "      <th>Price</th>\n",
              "      <td>50.0</td>\n",
              "      <td>50.0</td>\n",
              "      <td>95.0</td>\n",
              "      <td>45.0</td>\n",
              "      <td>89.0</td>\n",
              "      <td>52.0</td>\n",
              "      <td>68.0</td>\n",
              "      <td>80.0</td>\n",
              "      <td>50.0</td>\n",
              "      <td>50.0</td>\n",
              "    </tr>\n",
              "    <tr>\n",
              "      <th>Cleaning Fee</th>\n",
              "      <td>20.0</td>\n",
              "      <td>15.0</td>\n",
              "      <td>60.0</td>\n",
              "      <td>15.0</td>\n",
              "      <td>25.0</td>\n",
              "      <td>8.0</td>\n",
              "      <td>24.0</td>\n",
              "      <td>20.0</td>\n",
              "      <td>50.0</td>\n",
              "      <td>25.0</td>\n",
              "    </tr>\n",
              "    <tr>\n",
              "      <th>Security Deposit</th>\n",
              "      <td>100.0</td>\n",
              "      <td>250.0</td>\n",
              "      <td>200.0</td>\n",
              "      <td>150.0</td>\n",
              "      <td>100.0</td>\n",
              "      <td>150.0</td>\n",
              "      <td>130.0</td>\n",
              "      <td>100.0</td>\n",
              "      <td>200.0</td>\n",
              "      <td>90.0</td>\n",
              "    </tr>\n",
              "    <tr>\n",
              "      <th>Cancellation Policy</th>\n",
              "      <td>moderate</td>\n",
              "      <td>strict</td>\n",
              "      <td>strict</td>\n",
              "      <td>strict</td>\n",
              "      <td>strict</td>\n",
              "      <td>flexible</td>\n",
              "      <td>flexible</td>\n",
              "      <td>strict</td>\n",
              "      <td>moderate</td>\n",
              "      <td>strict</td>\n",
              "    </tr>\n",
              "  </tbody>\n",
              "</table>\n",
              "</div>\n",
              "      <button class=\"colab-df-convert\" onclick=\"convertToInteractive('df-6327d350-6b17-414a-8836-32e3ce342fbc')\"\n",
              "              title=\"Convert this dataframe to an interactive table.\"\n",
              "              style=\"display:none;\">\n",
              "        \n",
              "  <svg xmlns=\"http://www.w3.org/2000/svg\" height=\"24px\"viewBox=\"0 0 24 24\"\n",
              "       width=\"24px\">\n",
              "    <path d=\"M0 0h24v24H0V0z\" fill=\"none\"/>\n",
              "    <path d=\"M18.56 5.44l.94 2.06.94-2.06 2.06-.94-2.06-.94-.94-2.06-.94 2.06-2.06.94zm-11 1L8.5 8.5l.94-2.06 2.06-.94-2.06-.94L8.5 2.5l-.94 2.06-2.06.94zm10 10l.94 2.06.94-2.06 2.06-.94-2.06-.94-.94-2.06-.94 2.06-2.06.94z\"/><path d=\"M17.41 7.96l-1.37-1.37c-.4-.4-.92-.59-1.43-.59-.52 0-1.04.2-1.43.59L10.3 9.45l-7.72 7.72c-.78.78-.78 2.05 0 2.83L4 21.41c.39.39.9.59 1.41.59.51 0 1.02-.2 1.41-.59l7.78-7.78 2.81-2.81c.8-.78.8-2.07 0-2.86zM5.41 20L4 18.59l7.72-7.72 1.47 1.35L5.41 20z\"/>\n",
              "  </svg>\n",
              "      </button>\n",
              "      \n",
              "  <style>\n",
              "    .colab-df-container {\n",
              "      display:flex;\n",
              "      flex-wrap:wrap;\n",
              "      gap: 12px;\n",
              "    }\n",
              "\n",
              "    .colab-df-convert {\n",
              "      background-color: #E8F0FE;\n",
              "      border: none;\n",
              "      border-radius: 50%;\n",
              "      cursor: pointer;\n",
              "      display: none;\n",
              "      fill: #1967D2;\n",
              "      height: 32px;\n",
              "      padding: 0 0 0 0;\n",
              "      width: 32px;\n",
              "    }\n",
              "\n",
              "    .colab-df-convert:hover {\n",
              "      background-color: #E2EBFA;\n",
              "      box-shadow: 0px 1px 2px rgba(60, 64, 67, 0.3), 0px 1px 3px 1px rgba(60, 64, 67, 0.15);\n",
              "      fill: #174EA6;\n",
              "    }\n",
              "\n",
              "    [theme=dark] .colab-df-convert {\n",
              "      background-color: #3B4455;\n",
              "      fill: #D2E3FC;\n",
              "    }\n",
              "\n",
              "    [theme=dark] .colab-df-convert:hover {\n",
              "      background-color: #434B5C;\n",
              "      box-shadow: 0px 1px 3px 1px rgba(0, 0, 0, 0.15);\n",
              "      filter: drop-shadow(0px 1px 2px rgba(0, 0, 0, 0.3));\n",
              "      fill: #FFFFFF;\n",
              "    }\n",
              "  </style>\n",
              "\n",
              "      <script>\n",
              "        const buttonEl =\n",
              "          document.querySelector('#df-6327d350-6b17-414a-8836-32e3ce342fbc button.colab-df-convert');\n",
              "        buttonEl.style.display =\n",
              "          google.colab.kernel.accessAllowed ? 'block' : 'none';\n",
              "\n",
              "        async function convertToInteractive(key) {\n",
              "          const element = document.querySelector('#df-6327d350-6b17-414a-8836-32e3ce342fbc');\n",
              "          const dataTable =\n",
              "            await google.colab.kernel.invokeFunction('convertToInteractive',\n",
              "                                                     [key], {});\n",
              "          if (!dataTable) return;\n",
              "\n",
              "          const docLinkHtml = 'Like what you see? Visit the ' +\n",
              "            '<a target=\"_blank\" href=https://colab.research.google.com/notebooks/data_table.ipynb>data table notebook</a>'\n",
              "            + ' to learn more about interactive tables.';\n",
              "          element.innerHTML = '';\n",
              "          dataTable['output_type'] = 'display_data';\n",
              "          await google.colab.output.renderOutput(dataTable, element);\n",
              "          const docLink = document.createElement('div');\n",
              "          docLink.innerHTML = docLinkHtml;\n",
              "          element.appendChild(docLink);\n",
              "        }\n",
              "      </script>\n",
              "    </div>\n",
              "  </div>\n",
              "  "
            ]
          },
          "metadata": {},
          "execution_count": 241
        }
      ]
    },
    {
      "cell_type": "markdown",
      "source": [
        "\n",
        "\n",
        "---\n",
        "\n",
        "# Bathrooms"
      ],
      "metadata": {
        "id": "PCx1p8RRQgX5"
      }
    },
    {
      "cell_type": "markdown",
      "source": [
        "Los valores que contengan decimales los redondeare para arriba, los valores 0 los paso a nan y luego elimino."
      ],
      "metadata": {
        "id": "b_Wj9p_kODrs"
      }
    },
    {
      "cell_type": "code",
      "source": [
        "data['Bathrooms'].replace({0: np.nan}, inplace=True)\n",
        "data = data.dropna()"
      ],
      "metadata": {
        "id": "vCLzlj9DK5HO"
      },
      "execution_count": null,
      "outputs": []
    },
    {
      "cell_type": "code",
      "source": [
        "data['Bathrooms'].replace({0.5:1.0,\n",
        "                           1.5:2.0,\n",
        "                           2.5:3.0,\n",
        "                           3.5:4.0,\n",
        "                           4.5:5.0,\n",
        "                           5.5:6.0,\n",
        "                           6.5:7.0,\n",
        "                           7.5:8.0}, inplace=True)"
      ],
      "metadata": {
        "colab": {
          "base_uri": "https://localhost:8080/"
        },
        "id": "56naj-ziRm_e",
        "outputId": "20e9c69d-1c95-4920-c53e-9563409e7b62"
      },
      "execution_count": null,
      "outputs": [
        {
          "output_type": "stream",
          "name": "stderr",
          "text": [
            "/usr/local/lib/python3.8/dist-packages/pandas/core/generic.py:6619: SettingWithCopyWarning: \n",
            "A value is trying to be set on a copy of a slice from a DataFrame\n",
            "\n",
            "See the caveats in the documentation: https://pandas.pydata.org/pandas-docs/stable/user_guide/indexing.html#returning-a-view-versus-a-copy\n",
            "  return self._update_inplace(result)\n"
          ]
        }
      ]
    },
    {
      "cell_type": "code",
      "source": [
        "data['Bathrooms'].value_counts()"
      ],
      "metadata": {
        "colab": {
          "base_uri": "https://localhost:8080/"
        },
        "id": "YZ9TsrEKJW0X",
        "outputId": "ae2af9fc-0cc8-4425-e91c-31dfcabc3f8d"
      },
      "execution_count": null,
      "outputs": [
        {
          "output_type": "execute_result",
          "data": {
            "text/plain": [
              "1.0    2642\n",
              "2.0     794\n",
              "3.0     132\n",
              "4.0      17\n",
              "5.0       8\n",
              "6.0       4\n",
              "7.0       1\n",
              "Name: Bathrooms, dtype: int64"
            ]
          },
          "metadata": {},
          "execution_count": 244
        }
      ]
    },
    {
      "cell_type": "code",
      "source": [
        "plt.hist(data['Bathrooms'], color='lightblue', edgecolor='black')\n",
        "plt.show()"
      ],
      "metadata": {
        "colab": {
          "base_uri": "https://localhost:8080/"
        },
        "id": "oaf2PKOOR_aa",
        "outputId": "0c3ea4f3-437e-4b9e-90ad-d18106875bc9"
      },
      "execution_count": null,
      "outputs": [
        {
          "output_type": "display_data",
          "data": {
            "text/plain": [
              "<Figure size 432x288 with 1 Axes>"
            ],
            "image/png": "[encoded data removed]"
          },
          "metadata": {
            "needs_background": "light"
          }
        }
      ]
    },
    {
      "cell_type": "markdown",
      "source": [
        "Al parecer los valores mayores a 3 deberian ser eliminados.\n",
        "procedo a pasar la columna por la funcion que elimina outliers usando zcore."
      ],
      "metadata": {
        "id": "cj9MuLRmS23C"
      }
    },
    {
      "cell_type": "code",
      "source": [
        "del_outliers(data,'Bathrooms')"
      ],
      "metadata": {
        "id": "QS-23FSvSf01"
      },
      "execution_count": null,
      "outputs": []
    },
    {
      "cell_type": "code",
      "source": [
        "plt.hist(data['Bathrooms'], color='lightblue', edgecolor='black')\n",
        "plt.show()"
      ],
      "metadata": {
        "colab": {
          "base_uri": "https://localhost:8080/"
        },
        "id": "qnUPk2ywSzZM",
        "outputId": "b9e33279-f7c3-4e44-bf3c-8866f6b39278"
      },
      "execution_count": null,
      "outputs": [
        {
          "output_type": "display_data",
          "data": {
            "text/plain": [
              "<Figure size 432x288 with 1 Axes>"
            ],
            "image/png": "[encoded data removed]"
          },
          "metadata": {
            "needs_background": "light"
          }
        }
      ]
    },
    {
      "cell_type": "code",
      "source": [
        "data['Bathrooms'].value_counts()"
      ],
      "metadata": {
        "colab": {
          "base_uri": "https://localhost:8080/"
        },
        "id": "00gRtISb7LlO",
        "outputId": "8960dc57-7c6b-443c-af5f-7e914bd87ba0"
      },
      "execution_count": null,
      "outputs": [
        {
          "output_type": "execute_result",
          "data": {
            "text/plain": [
              "1.0    2642\n",
              "2.0     794\n",
              "3.0     132\n",
              "Name: Bathrooms, dtype: int64"
            ]
          },
          "metadata": {},
          "execution_count": 248
        }
      ]
    },
    {
      "cell_type": "code",
      "source": [
        "data['Bathrooms'].describe()"
      ],
      "metadata": {
        "colab": {
          "base_uri": "https://localhost:8080/"
        },
        "id": "Z46Uf-ah8VVh",
        "outputId": "eba8df99-d75e-491b-f35f-bf1c3e068d64"
      },
      "execution_count": null,
      "outputs": [
        {
          "output_type": "execute_result",
          "data": {
            "text/plain": [
              "count    3568.000000\n",
              "mean        1.296525\n",
              "std         0.531665\n",
              "min         1.000000\n",
              "25%         1.000000\n",
              "50%         1.000000\n",
              "75%         2.000000\n",
              "max         3.000000\n",
              "Name: Bathrooms, dtype: float64"
            ]
          },
          "metadata": {},
          "execution_count": 249
        }
      ]
    },
    {
      "cell_type": "markdown",
      "source": [
        "---\n",
        "# Bedrooms\n",
        "\n",
        "Los valores 0 de **Bedrooms** los paso a nan y luego borro"
      ],
      "metadata": {
        "id": "_u0fQTUCSlPj"
      }
    },
    {
      "cell_type": "code",
      "source": [
        "data['Bedrooms'].replace({0: np.nan}, inplace=True)\n",
        "data = data.dropna()"
      ],
      "metadata": {
        "id": "jzlRYjlISWfD"
      },
      "execution_count": null,
      "outputs": []
    },
    {
      "cell_type": "code",
      "source": [
        "data['Bedrooms'].value_counts()"
      ],
      "metadata": {
        "colab": {
          "base_uri": "https://localhost:8080/"
        },
        "id": "nWrvnw8FS-mb",
        "outputId": "b61bf019-29e2-402f-f935-ad7552b8e12b"
      },
      "execution_count": null,
      "outputs": [
        {
          "output_type": "execute_result",
          "data": {
            "text/plain": [
              "1.0    1950\n",
              "2.0     929\n",
              "3.0     300\n",
              "4.0      76\n",
              "5.0      16\n",
              "6.0       5\n",
              "8.0       2\n",
              "Name: Bedrooms, dtype: int64"
            ]
          },
          "metadata": {},
          "execution_count": 253
        }
      ]
    },
    {
      "cell_type": "code",
      "source": [
        "plt.hist(data['Bedrooms'], color='lightblue', edgecolor='black')\n",
        "plt.show()"
      ],
      "metadata": {
        "colab": {
          "base_uri": "https://localhost:8080/"
        },
        "id": "rKbliIz2iwNC",
        "outputId": "8c36a30d-2ef8-4c16-d3e8-471139398413"
      },
      "execution_count": null,
      "outputs": [
        {
          "output_type": "display_data",
          "data": {
            "text/plain": [
              "<Figure size 432x288 with 1 Axes>"
            ],
            "image/png": "[encoded data removed]"
          },
          "metadata": {
            "needs_background": "light"
          }
        }
      ]
    },
    {
      "cell_type": "markdown",
      "source": [
        "En **Bedrooms** hay datos para eliminar"
      ],
      "metadata": {
        "id": "5dNsBl9aTc7b"
      }
    },
    {
      "cell_type": "code",
      "source": [
        "del_outliers(data,'Bedrooms')"
      ],
      "metadata": {
        "id": "618av2W6i7p1"
      },
      "execution_count": null,
      "outputs": []
    },
    {
      "cell_type": "code",
      "source": [
        "plt.hist(data['Bedrooms'], color='lightblue', edgecolor='black')\n",
        "plt.show()"
      ],
      "metadata": {
        "colab": {
          "base_uri": "https://localhost:8080/"
        },
        "id": "vNyx2qLWkXPO",
        "outputId": "10b9e6a3-0059-400d-a9a6-8607a982a485"
      },
      "execution_count": null,
      "outputs": [
        {
          "output_type": "display_data",
          "data": {
            "text/plain": [
              "<Figure size 432x288 with 1 Axes>"
            ],
            "image/png": "[encoded data removed]"
          },
          "metadata": {
            "needs_background": "light"
          }
        }
      ]
    },
    {
      "cell_type": "code",
      "source": [
        "data['Bedrooms'].value_counts()"
      ],
      "metadata": {
        "colab": {
          "base_uri": "https://localhost:8080/"
        },
        "id": "AbLmlgoV80fx",
        "outputId": "6f23477e-dd21-4cc0-bee3-4b64d3b96bec"
      },
      "execution_count": null,
      "outputs": [
        {
          "output_type": "execute_result",
          "data": {
            "text/plain": [
              "1.0    1950\n",
              "2.0     929\n",
              "3.0     300\n",
              "4.0      76\n",
              "Name: Bedrooms, dtype: int64"
            ]
          },
          "metadata": {},
          "execution_count": 257
        }
      ]
    },
    {
      "cell_type": "markdown",
      "source": [
        "---\n",
        "# Beds"
      ],
      "metadata": {
        "id": "ebd9tP9fmQoO"
      }
    },
    {
      "cell_type": "code",
      "source": [
        "data['Beds'].value_counts()"
      ],
      "metadata": {
        "colab": {
          "base_uri": "https://localhost:8080/"
        },
        "id": "WaBa7PpTmQQx",
        "outputId": "e4fe7ab1-7a8e-4b0f-9aa2-5aad7dacd836"
      },
      "execution_count": null,
      "outputs": [
        {
          "output_type": "execute_result",
          "data": {
            "text/plain": [
              "1.0     1139\n",
              "2.0     1057\n",
              "3.0      528\n",
              "4.0      293\n",
              "5.0      123\n",
              "6.0       68\n",
              "7.0       22\n",
              "8.0       10\n",
              "9.0        7\n",
              "12.0       3\n",
              "10.0       3\n",
              "11.0       2\n",
              "Name: Beds, dtype: int64"
            ]
          },
          "metadata": {},
          "execution_count": 260
        }
      ]
    },
    {
      "cell_type": "markdown",
      "source": [
        "Quito outliers"
      ],
      "metadata": {
        "id": "taNVgOa_msGB"
      }
    },
    {
      "cell_type": "code",
      "source": [
        "del_outliers(data,'Beds')"
      ],
      "metadata": {
        "id": "EgjiBNEDmuSa"
      },
      "execution_count": null,
      "outputs": []
    },
    {
      "cell_type": "code",
      "source": [
        "data['Beds'].value_counts()"
      ],
      "metadata": {
        "colab": {
          "base_uri": "https://localhost:8080/"
        },
        "id": "o1-LltH6m0vu",
        "outputId": "a31f55f1-376d-49fa-fb59-fee330ca2290"
      },
      "execution_count": null,
      "outputs": [
        {
          "output_type": "execute_result",
          "data": {
            "text/plain": [
              "1.0    1139\n",
              "2.0    1057\n",
              "3.0     528\n",
              "4.0     293\n",
              "5.0     123\n",
              "6.0      68\n",
              "Name: Beds, dtype: int64"
            ]
          },
          "metadata": {},
          "execution_count": 262
        }
      ]
    },
    {
      "cell_type": "markdown",
      "source": [
        "---\n",
        "# bed type\n"
      ],
      "metadata": {
        "id": "iH4Ywzc2kcT_"
      }
    },
    {
      "cell_type": "markdown",
      "source": [
        "Aqui parece interesante agrupar las **bed type** que no sean Real bed."
      ],
      "metadata": {
        "id": "AuSsVYduUOiY"
      }
    },
    {
      "cell_type": "code",
      "source": [
        "data['Bed Type'].value_counts()"
      ],
      "metadata": {
        "colab": {
          "base_uri": "https://localhost:8080/"
        },
        "id": "rtdZekTQTyVN",
        "outputId": "4b807797-e746-47f3-d2c4-6bbcb39993a8"
      },
      "execution_count": null,
      "outputs": [
        {
          "output_type": "execute_result",
          "data": {
            "text/plain": [
              "Real Bed         3145\n",
              "Pull-out Sofa      54\n",
              "Futon               6\n",
              "Couch               3\n",
              "Name: Bed Type, dtype: int64"
            ]
          },
          "metadata": {},
          "execution_count": 265
        }
      ]
    },
    {
      "cell_type": "code",
      "source": [
        "data['Bed Type'].replace({'Real Bed':1.0,\n",
        "                          'Pull-out Sofa':0.0,\n",
        "                          'Futon':0.0,\n",
        "                          'Couch':0.0}\n",
        "                         , inplace=True)"
      ],
      "metadata": {
        "id": "iNI2zkGXTyST"
      },
      "execution_count": null,
      "outputs": []
    },
    {
      "cell_type": "code",
      "source": [
        "data['Bed Type'].value_counts()"
      ],
      "metadata": {
        "colab": {
          "base_uri": "https://localhost:8080/"
        },
        "id": "3_1t7eXnlRN5",
        "outputId": "cf836614-cdb1-4d9f-cda6-b4b5f71eb726"
      },
      "execution_count": null,
      "outputs": [
        {
          "output_type": "execute_result",
          "data": {
            "text/plain": [
              "1.0    3145\n",
              "0.0      63\n",
              "Name: Bed Type, dtype: int64"
            ]
          },
          "metadata": {},
          "execution_count": 267
        }
      ]
    },
    {
      "cell_type": "markdown",
      "source": [
        "Cambio de nombre."
      ],
      "metadata": {
        "id": "cglKcEQ2lceB"
      }
    },
    {
      "cell_type": "code",
      "source": [
        "data = data.rename(columns={'Bed Type': 'Real Bed'})"
      ],
      "metadata": {
        "id": "0_E-k1hSlgSh"
      },
      "execution_count": null,
      "outputs": []
    },
    {
      "cell_type": "markdown",
      "source": [
        "Ahora si quedo listo."
      ],
      "metadata": {
        "id": "d2sLxQ_0jtZC"
      }
    },
    {
      "cell_type": "code",
      "source": [
        "data['Real Bed'].value_counts()"
      ],
      "metadata": {
        "colab": {
          "base_uri": "https://localhost:8080/"
        },
        "id": "X0AIAmUSTyPb",
        "outputId": "93ac4db0-71e9-41e0-b1a9-2a3a68e982a4"
      },
      "execution_count": null,
      "outputs": [
        {
          "output_type": "execute_result",
          "data": {
            "text/plain": [
              "1.0    3145\n",
              "0.0      63\n",
              "Name: Real Bed, dtype: int64"
            ]
          },
          "metadata": {},
          "execution_count": 269
        }
      ]
    },
    {
      "cell_type": "code",
      "source": [
        "data.head(10).T"
      ],
      "metadata": {
        "colab": {
          "base_uri": "https://localhost:8080/"
        },
        "id": "3c8nq_CswyG5",
        "outputId": "f95c9313-9461-484d-aca4-38993df0cfdd"
      },
      "execution_count": null,
      "outputs": [
        {
          "output_type": "execute_result",
          "data": {
            "text/plain": [
              "                                                                    1   \\\n",
              "Thumbnail Url        https://a0.muscache.com/im/pictures/3eb59287-8...   \n",
              "Apartment                                                          1.0   \n",
              "Entire home/apt                                                    1.0   \n",
              "Bathrooms                                                          1.0   \n",
              "Bedrooms                                                           1.0   \n",
              "Beds                                                               2.0   \n",
              "Real Bed                                                           1.0   \n",
              "Price                                                             50.0   \n",
              "Cleaning Fee                                                      15.0   \n",
              "Security Deposit                                                 250.0   \n",
              "Cancellation Policy                                             strict   \n",
              "\n",
              "                                                                    4   \\\n",
              "Thumbnail Url        https://a0.muscache.com/im/pictures/6136974/57...   \n",
              "Apartment                                                          1.0   \n",
              "Entire home/apt                                                    1.0   \n",
              "Bathrooms                                                          1.0   \n",
              "Bedrooms                                                           2.0   \n",
              "Beds                                                               4.0   \n",
              "Real Bed                                                           1.0   \n",
              "Price                                                             95.0   \n",
              "Cleaning Fee                                                      60.0   \n",
              "Security Deposit                                                 200.0   \n",
              "Cancellation Policy                                             strict   \n",
              "\n",
              "                                                                    15  \\\n",
              "Thumbnail Url        https://a0.muscache.com/im/pictures/faa00251-5...   \n",
              "Apartment                                                          0.0   \n",
              "Entire home/apt                                                    1.0   \n",
              "Bathrooms                                                          1.0   \n",
              "Bedrooms                                                           1.0   \n",
              "Beds                                                               2.0   \n",
              "Real Bed                                                           1.0   \n",
              "Price                                                             45.0   \n",
              "Cleaning Fee                                                      15.0   \n",
              "Security Deposit                                                 150.0   \n",
              "Cancellation Policy                                             strict   \n",
              "\n",
              "                                                                    17  \\\n",
              "Thumbnail Url        https://a0.muscache.com/im/pictures/69877124/9...   \n",
              "Apartment                                                          1.0   \n",
              "Entire home/apt                                                    1.0   \n",
              "Bathrooms                                                          1.0   \n",
              "Bedrooms                                                           1.0   \n",
              "Beds                                                               1.0   \n",
              "Real Bed                                                           1.0   \n",
              "Price                                                             89.0   \n",
              "Cleaning Fee                                                      25.0   \n",
              "Security Deposit                                                 100.0   \n",
              "Cancellation Policy                                             strict   \n",
              "\n",
              "                                                                    23  \\\n",
              "Thumbnail Url        https://a0.muscache.com/im/pictures/beef54af-7...   \n",
              "Apartment                                                          1.0   \n",
              "Entire home/apt                                                    0.0   \n",
              "Bathrooms                                                          2.0   \n",
              "Bedrooms                                                           1.0   \n",
              "Beds                                                               1.0   \n",
              "Real Bed                                                           1.0   \n",
              "Price                                                             52.0   \n",
              "Cleaning Fee                                                       8.0   \n",
              "Security Deposit                                                 150.0   \n",
              "Cancellation Policy                                           flexible   \n",
              "\n",
              "                                                                    26  \\\n",
              "Thumbnail Url        https://a0.muscache.com/im/pictures/57baa2b6-1...   \n",
              "Apartment                                                          1.0   \n",
              "Entire home/apt                                                    1.0   \n",
              "Bathrooms                                                          1.0   \n",
              "Bedrooms                                                           1.0   \n",
              "Beds                                                               1.0   \n",
              "Real Bed                                                           1.0   \n",
              "Price                                                             68.0   \n",
              "Cleaning Fee                                                      24.0   \n",
              "Security Deposit                                                 130.0   \n",
              "Cancellation Policy                                           flexible   \n",
              "\n",
              "                                                                    27  \\\n",
              "Thumbnail Url        https://a0.muscache.com/im/pictures/e1b8a07f-7...   \n",
              "Apartment                                                          1.0   \n",
              "Entire home/apt                                                    1.0   \n",
              "Bathrooms                                                          1.0   \n",
              "Bedrooms                                                           2.0   \n",
              "Beds                                                               2.0   \n",
              "Real Bed                                                           1.0   \n",
              "Price                                                             80.0   \n",
              "Cleaning Fee                                                      20.0   \n",
              "Security Deposit                                                 100.0   \n",
              "Cancellation Policy                                             strict   \n",
              "\n",
              "                                                                    30  \\\n",
              "Thumbnail Url        https://a0.muscache.com/im/pictures/12705245/3...   \n",
              "Apartment                                                          0.0   \n",
              "Entire home/apt                                                    0.0   \n",
              "Bathrooms                                                          2.0   \n",
              "Bedrooms                                                           1.0   \n",
              "Beds                                                               1.0   \n",
              "Real Bed                                                           1.0   \n",
              "Price                                                             50.0   \n",
              "Cleaning Fee                                                      50.0   \n",
              "Security Deposit                                                 200.0   \n",
              "Cancellation Policy                                           moderate   \n",
              "\n",
              "                                                                    31  \\\n",
              "Thumbnail Url        https://a0.muscache.com/im/pictures/39444070/e...   \n",
              "Apartment                                                          1.0   \n",
              "Entire home/apt                                                    1.0   \n",
              "Bathrooms                                                          1.0   \n",
              "Bedrooms                                                           1.0   \n",
              "Beds                                                               1.0   \n",
              "Real Bed                                                           1.0   \n",
              "Price                                                             50.0   \n",
              "Cleaning Fee                                                      25.0   \n",
              "Security Deposit                                                  90.0   \n",
              "Cancellation Policy                                             strict   \n",
              "\n",
              "                                                                    32  \n",
              "Thumbnail Url        https://a0.muscache.com/im/pictures/54262579/c...  \n",
              "Apartment                                                          1.0  \n",
              "Entire home/apt                                                    0.0  \n",
              "Bathrooms                                                          1.0  \n",
              "Bedrooms                                                           1.0  \n",
              "Beds                                                               1.0  \n",
              "Real Bed                                                           1.0  \n",
              "Price                                                             40.0  \n",
              "Cleaning Fee                                                      20.0  \n",
              "Security Deposit                                                 150.0  \n",
              "Cancellation Policy                                           flexible  "
            ],
            "text/html": [
              "\n",
              "  <div id=\"df-98fe7bea-e6e5-4314-a3f0-6b1e704af4fa\">\n",
              "    <div class=\"colab-df-container\">\n",
              "      <div>\n",
              "<style scoped>\n",
              "    .dataframe tbody tr th:only-of-type {\n",
              "        vertical-align: middle;\n",
              "    }\n",
              "\n",
              "    .dataframe tbody tr th {\n",
              "        vertical-align: top;\n",
              "    }\n",
              "\n",
              "    .dataframe thead th {\n",
              "        text-align: right;\n",
              "    }\n",
              "</style>\n",
              "<table border=\"1\" class=\"dataframe\">\n",
              "  <thead>\n",
              "    <tr style=\"text-align: right;\">\n",
              "      <th></th>\n",
              "      <th>1</th>\n",
              "      <th>4</th>\n",
              "      <th>15</th>\n",
              "      <th>17</th>\n",
              "      <th>23</th>\n",
              "      <th>26</th>\n",
              "      <th>27</th>\n",
              "      <th>30</th>\n",
              "      <th>31</th>\n",
              "      <th>32</th>\n",
              "    </tr>\n",
              "  </thead>\n",
              "  <tbody>\n",
              "    <tr>\n",
              "      <th>Thumbnail Url</th>\n",
              "      <td>https://a0.muscache.com/im/pictures/3eb59287-8...</td>\n",
              "      <td>https://a0.muscache.com/im/pictures/6136974/57...</td>\n",
              "      <td>https://a0.muscache.com/im/pictures/faa00251-5...</td>\n",
              "      <td>https://a0.muscache.com/im/pictures/69877124/9...</td>\n",
              "      <td>https://a0.muscache.com/im/pictures/beef54af-7...</td>\n",
              "      <td>https://a0.muscache.com/im/pictures/57baa2b6-1...</td>\n",
              "      <td>https://a0.muscache.com/im/pictures/e1b8a07f-7...</td>\n",
              "      <td>https://a0.muscache.com/im/pictures/12705245/3...</td>\n",
              "      <td>https://a0.muscache.com/im/pictures/39444070/e...</td>\n",
              "      <td>https://a0.muscache.com/im/pictures/54262579/c...</td>\n",
              "    </tr>\n",
              "    <tr>\n",
              "      <th>Apartment</th>\n",
              "      <td>1.0</td>\n",
              "      <td>1.0</td>\n",
              "      <td>0.0</td>\n",
              "      <td>1.0</td>\n",
              "      <td>1.0</td>\n",
              "      <td>1.0</td>\n",
              "      <td>1.0</td>\n",
              "      <td>0.0</td>\n",
              "      <td>1.0</td>\n",
              "      <td>1.0</td>\n",
              "    </tr>\n",
              "    <tr>\n",
              "      <th>Entire home/apt</th>\n",
              "      <td>1.0</td>\n",
              "      <td>1.0</td>\n",
              "      <td>1.0</td>\n",
              "      <td>1.0</td>\n",
              "      <td>0.0</td>\n",
              "      <td>1.0</td>\n",
              "      <td>1.0</td>\n",
              "      <td>0.0</td>\n",
              "      <td>1.0</td>\n",
              "      <td>0.0</td>\n",
              "    </tr>\n",
              "    <tr>\n",
              "      <th>Bathrooms</th>\n",
              "      <td>1.0</td>\n",
              "      <td>1.0</td>\n",
              "      <td>1.0</td>\n",
              "      <td>1.0</td>\n",
              "      <td>2.0</td>\n",
              "      <td>1.0</td>\n",
              "      <td>1.0</td>\n",
              "      <td>2.0</td>\n",
              "      <td>1.0</td>\n",
              "      <td>1.0</td>\n",
              "    </tr>\n",
              "    <tr>\n",
              "      <th>Bedrooms</th>\n",
              "      <td>1.0</td>\n",
              "      <td>2.0</td>\n",
              "      <td>1.0</td>\n",
              "      <td>1.0</td>\n",
              "      <td>1.0</td>\n",
              "      <td>1.0</td>\n",
              "      <td>2.0</td>\n",
              "      <td>1.0</td>\n",
              "      <td>1.0</td>\n",
              "      <td>1.0</td>\n",
              "    </tr>\n",
              "    <tr>\n",
              "      <th>Beds</th>\n",
              "      <td>2.0</td>\n",
              "      <td>4.0</td>\n",
              "      <td>2.0</td>\n",
              "      <td>1.0</td>\n",
              "      <td>1.0</td>\n",
              "      <td>1.0</td>\n",
              "      <td>2.0</td>\n",
              "      <td>1.0</td>\n",
              "      <td>1.0</td>\n",
              "      <td>1.0</td>\n",
              "    </tr>\n",
              "    <tr>\n",
              "      <th>Real Bed</th>\n",
              "      <td>1.0</td>\n",
              "      <td>1.0</td>\n",
              "      <td>1.0</td>\n",
              "      <td>1.0</td>\n",
              "      <td>1.0</td>\n",
              "      <td>1.0</td>\n",
              "      <td>1.0</td>\n",
              "      <td>1.0</td>\n",
              "      <td>1.0</td>\n",
              "      <td>1.0</td>\n",
              "    </tr>\n",
              "    <tr>\n",
              "      <th>Price</th>\n",
              "      <td>50.0</td>\n",
              "      <td>95.0</td>\n",
              "      <td>45.0</td>\n",
              "      <td>89.0</td>\n",
              "      <td>52.0</td>\n",
              "      <td>68.0</td>\n",
              "      <td>80.0</td>\n",
              "      <td>50.0</td>\n",
              "      <td>50.0</td>\n",
              "      <td>40.0</td>\n",
              "    </tr>\n",
              "    <tr>\n",
              "      <th>Cleaning Fee</th>\n",
              "      <td>15.0</td>\n",
              "      <td>60.0</td>\n",
              "      <td>15.0</td>\n",
              "      <td>25.0</td>\n",
              "      <td>8.0</td>\n",
              "      <td>24.0</td>\n",
              "      <td>20.0</td>\n",
              "      <td>50.0</td>\n",
              "      <td>25.0</td>\n",
              "      <td>20.0</td>\n",
              "    </tr>\n",
              "    <tr>\n",
              "      <th>Security Deposit</th>\n",
              "      <td>250.0</td>\n",
              "      <td>200.0</td>\n",
              "      <td>150.0</td>\n",
              "      <td>100.0</td>\n",
              "      <td>150.0</td>\n",
              "      <td>130.0</td>\n",
              "      <td>100.0</td>\n",
              "      <td>200.0</td>\n",
              "      <td>90.0</td>\n",
              "      <td>150.0</td>\n",
              "    </tr>\n",
              "    <tr>\n",
              "      <th>Cancellation Policy</th>\n",
              "      <td>strict</td>\n",
              "      <td>strict</td>\n",
              "      <td>strict</td>\n",
              "      <td>strict</td>\n",
              "      <td>flexible</td>\n",
              "      <td>flexible</td>\n",
              "      <td>strict</td>\n",
              "      <td>moderate</td>\n",
              "      <td>strict</td>\n",
              "      <td>flexible</td>\n",
              "    </tr>\n",
              "  </tbody>\n",
              "</table>\n",
              "</div>\n",
              "      <button class=\"colab-df-convert\" onclick=\"convertToInteractive('df-98fe7bea-e6e5-4314-a3f0-6b1e704af4fa')\"\n",
              "              title=\"Convert this dataframe to an interactive table.\"\n",
              "              style=\"display:none;\">\n",
              "        \n",
              "  <svg xmlns=\"http://www.w3.org/2000/svg\" height=\"24px\"viewBox=\"0 0 24 24\"\n",
              "       width=\"24px\">\n",
              "    <path d=\"M0 0h24v24H0V0z\" fill=\"none\"/>\n",
              "    <path d=\"M18.56 5.44l.94 2.06.94-2.06 2.06-.94-2.06-.94-.94-2.06-.94 2.06-2.06.94zm-11 1L8.5 8.5l.94-2.06 2.06-.94-2.06-.94L8.5 2.5l-.94 2.06-2.06.94zm10 10l.94 2.06.94-2.06 2.06-.94-2.06-.94-.94-2.06-.94 2.06-2.06.94z\"/><path d=\"M17.41 7.96l-1.37-1.37c-.4-.4-.92-.59-1.43-.59-.52 0-1.04.2-1.43.59L10.3 9.45l-7.72 7.72c-.78.78-.78 2.05 0 2.83L4 21.41c.39.39.9.59 1.41.59.51 0 1.02-.2 1.41-.59l7.78-7.78 2.81-2.81c.8-.78.8-2.07 0-2.86zM5.41 20L4 18.59l7.72-7.72 1.47 1.35L5.41 20z\"/>\n",
              "  </svg>\n",
              "      </button>\n",
              "      \n",
              "  <style>\n",
              "    .colab-df-container {\n",
              "      display:flex;\n",
              "      flex-wrap:wrap;\n",
              "      gap: 12px;\n",
              "    }\n",
              "\n",
              "    .colab-df-convert {\n",
              "      background-color: #E8F0FE;\n",
              "      border: none;\n",
              "      border-radius: 50%;\n",
              "      cursor: pointer;\n",
              "      display: none;\n",
              "      fill: #1967D2;\n",
              "      height: 32px;\n",
              "      padding: 0 0 0 0;\n",
              "      width: 32px;\n",
              "    }\n",
              "\n",
              "    .colab-df-convert:hover {\n",
              "      background-color: #E2EBFA;\n",
              "      box-shadow: 0px 1px 2px rgba(60, 64, 67, 0.3), 0px 1px 3px 1px rgba(60, 64, 67, 0.15);\n",
              "      fill: #174EA6;\n",
              "    }\n",
              "\n",
              "    [theme=dark] .colab-df-convert {\n",
              "      background-color: #3B4455;\n",
              "      fill: #D2E3FC;\n",
              "    }\n",
              "\n",
              "    [theme=dark] .colab-df-convert:hover {\n",
              "      background-color: #434B5C;\n",
              "      box-shadow: 0px 1px 3px 1px rgba(0, 0, 0, 0.15);\n",
              "      filter: drop-shadow(0px 1px 2px rgba(0, 0, 0, 0.3));\n",
              "      fill: #FFFFFF;\n",
              "    }\n",
              "  </style>\n",
              "\n",
              "      <script>\n",
              "        const buttonEl =\n",
              "          document.querySelector('#df-98fe7bea-e6e5-4314-a3f0-6b1e704af4fa button.colab-df-convert');\n",
              "        buttonEl.style.display =\n",
              "          google.colab.kernel.accessAllowed ? 'block' : 'none';\n",
              "\n",
              "        async function convertToInteractive(key) {\n",
              "          const element = document.querySelector('#df-98fe7bea-e6e5-4314-a3f0-6b1e704af4fa');\n",
              "          const dataTable =\n",
              "            await google.colab.kernel.invokeFunction('convertToInteractive',\n",
              "                                                     [key], {});\n",
              "          if (!dataTable) return;\n",
              "\n",
              "          const docLinkHtml = 'Like what you see? Visit the ' +\n",
              "            '<a target=\"_blank\" href=https://colab.research.google.com/notebooks/data_table.ipynb>data table notebook</a>'\n",
              "            + ' to learn more about interactive tables.';\n",
              "          element.innerHTML = '';\n",
              "          dataTable['output_type'] = 'display_data';\n",
              "          await google.colab.output.renderOutput(dataTable, element);\n",
              "          const docLink = document.createElement('div');\n",
              "          docLink.innerHTML = docLinkHtml;\n",
              "          element.appendChild(docLink);\n",
              "        }\n",
              "      </script>\n",
              "    </div>\n",
              "  </div>\n",
              "  "
            ]
          },
          "metadata": {},
          "execution_count": 270
        }
      ]
    },
    {
      "cell_type": "markdown",
      "source": [
        "---\n",
        "# Price"
      ],
      "metadata": {
        "id": "nw9tHkuCm9-T"
      }
    },
    {
      "cell_type": "code",
      "source": [
        "plt.hist(data['Price'], color='lightblue', edgecolor='black')\n",
        "plt.show()"
      ],
      "metadata": {
        "colab": {
          "base_uri": "https://localhost:8080/"
        },
        "id": "fzT105AYoG8H",
        "outputId": "b0612e9f-1645-45b6-e6da-4b32fe07f571"
      },
      "execution_count": null,
      "outputs": [
        {
          "output_type": "display_data",
          "data": {
            "text/plain": [
              "<Figure size 432x288 with 1 Axes>"
            ],
            "image/png": "[encoded data removed]"
          },
          "metadata": {
            "needs_background": "light"
          }
        }
      ]
    },
    {
      "cell_type": "markdown",
      "source": [
        "Quito outliers:"
      ],
      "metadata": {
        "id": "EfyCrbFXnMOy"
      }
    },
    {
      "cell_type": "code",
      "source": [
        "del_outliers(data,'Price')"
      ],
      "metadata": {
        "id": "dL7SGwcBoG5x"
      },
      "execution_count": null,
      "outputs": []
    },
    {
      "cell_type": "code",
      "source": [
        "plt.hist(data['Price'], color='lightblue', edgecolor='black')\n",
        "plt.show()"
      ],
      "metadata": {
        "colab": {
          "base_uri": "https://localhost:8080/"
        },
        "id": "iILJt8YRoG3b",
        "outputId": "6bf63a11-3faa-4a75-c40f-30e4e88192ec"
      },
      "execution_count": null,
      "outputs": [
        {
          "output_type": "display_data",
          "data": {
            "text/plain": [
              "<Figure size 432x288 with 1 Axes>"
            ],
            "image/png": "[encoded data removed]"
          },
          "metadata": {
            "needs_background": "light"
          }
        }
      ]
    },
    {
      "cell_type": "code",
      "source": [
        "data.head(10).T"
      ],
      "metadata": {
        "colab": {
          "base_uri": "https://localhost:8080/"
        },
        "id": "HVYt8h6Uw6Xh",
        "outputId": "2fc675e7-eac0-4c7e-c4fa-509e88d6f918"
      },
      "execution_count": null,
      "outputs": [
        {
          "output_type": "execute_result",
          "data": {
            "text/plain": [
              "                                                                    1   \\\n",
              "Thumbnail Url        https://a0.muscache.com/im/pictures/3eb59287-8...   \n",
              "Apartment                                                          1.0   \n",
              "Entire home/apt                                                    1.0   \n",
              "Bathrooms                                                          1.0   \n",
              "Bedrooms                                                           1.0   \n",
              "Beds                                                               2.0   \n",
              "Real Bed                                                           1.0   \n",
              "Price                                                             50.0   \n",
              "Cleaning Fee                                                      15.0   \n",
              "Security Deposit                                                 250.0   \n",
              "Cancellation Policy                                             strict   \n",
              "\n",
              "                                                                    4   \\\n",
              "Thumbnail Url        https://a0.muscache.com/im/pictures/6136974/57...   \n",
              "Apartment                                                          1.0   \n",
              "Entire home/apt                                                    1.0   \n",
              "Bathrooms                                                          1.0   \n",
              "Bedrooms                                                           2.0   \n",
              "Beds                                                               4.0   \n",
              "Real Bed                                                           1.0   \n",
              "Price                                                             95.0   \n",
              "Cleaning Fee                                                      60.0   \n",
              "Security Deposit                                                 200.0   \n",
              "Cancellation Policy                                             strict   \n",
              "\n",
              "                                                                    15  \\\n",
              "Thumbnail Url        https://a0.muscache.com/im/pictures/faa00251-5...   \n",
              "Apartment                                                          0.0   \n",
              "Entire home/apt                                                    1.0   \n",
              "Bathrooms                                                          1.0   \n",
              "Bedrooms                                                           1.0   \n",
              "Beds                                                               2.0   \n",
              "Real Bed                                                           1.0   \n",
              "Price                                                             45.0   \n",
              "Cleaning Fee                                                      15.0   \n",
              "Security Deposit                                                 150.0   \n",
              "Cancellation Policy                                             strict   \n",
              "\n",
              "                                                                    17  \\\n",
              "Thumbnail Url        https://a0.muscache.com/im/pictures/69877124/9...   \n",
              "Apartment                                                          1.0   \n",
              "Entire home/apt                                                    1.0   \n",
              "Bathrooms                                                          1.0   \n",
              "Bedrooms                                                           1.0   \n",
              "Beds                                                               1.0   \n",
              "Real Bed                                                           1.0   \n",
              "Price                                                             89.0   \n",
              "Cleaning Fee                                                      25.0   \n",
              "Security Deposit                                                 100.0   \n",
              "Cancellation Policy                                             strict   \n",
              "\n",
              "                                                                    23  \\\n",
              "Thumbnail Url        https://a0.muscache.com/im/pictures/beef54af-7...   \n",
              "Apartment                                                          1.0   \n",
              "Entire home/apt                                                    0.0   \n",
              "Bathrooms                                                          2.0   \n",
              "Bedrooms                                                           1.0   \n",
              "Beds                                                               1.0   \n",
              "Real Bed                                                           1.0   \n",
              "Price                                                             52.0   \n",
              "Cleaning Fee                                                       8.0   \n",
              "Security Deposit                                                 150.0   \n",
              "Cancellation Policy                                           flexible   \n",
              "\n",
              "                                                                    26  \\\n",
              "Thumbnail Url        https://a0.muscache.com/im/pictures/57baa2b6-1...   \n",
              "Apartment                                                          1.0   \n",
              "Entire home/apt                                                    1.0   \n",
              "Bathrooms                                                          1.0   \n",
              "Bedrooms                                                           1.0   \n",
              "Beds                                                               1.0   \n",
              "Real Bed                                                           1.0   \n",
              "Price                                                             68.0   \n",
              "Cleaning Fee                                                      24.0   \n",
              "Security Deposit                                                 130.0   \n",
              "Cancellation Policy                                           flexible   \n",
              "\n",
              "                                                                    27  \\\n",
              "Thumbnail Url        https://a0.muscache.com/im/pictures/e1b8a07f-7...   \n",
              "Apartment                                                          1.0   \n",
              "Entire home/apt                                                    1.0   \n",
              "Bathrooms                                                          1.0   \n",
              "Bedrooms                                                           2.0   \n",
              "Beds                                                               2.0   \n",
              "Real Bed                                                           1.0   \n",
              "Price                                                             80.0   \n",
              "Cleaning Fee                                                      20.0   \n",
              "Security Deposit                                                 100.0   \n",
              "Cancellation Policy                                             strict   \n",
              "\n",
              "                                                                    30  \\\n",
              "Thumbnail Url        https://a0.muscache.com/im/pictures/12705245/3...   \n",
              "Apartment                                                          0.0   \n",
              "Entire home/apt                                                    0.0   \n",
              "Bathrooms                                                          2.0   \n",
              "Bedrooms                                                           1.0   \n",
              "Beds                                                               1.0   \n",
              "Real Bed                                                           1.0   \n",
              "Price                                                             50.0   \n",
              "Cleaning Fee                                                      50.0   \n",
              "Security Deposit                                                 200.0   \n",
              "Cancellation Policy                                           moderate   \n",
              "\n",
              "                                                                    31  \\\n",
              "Thumbnail Url        https://a0.muscache.com/im/pictures/39444070/e...   \n",
              "Apartment                                                          1.0   \n",
              "Entire home/apt                                                    1.0   \n",
              "Bathrooms                                                          1.0   \n",
              "Bedrooms                                                           1.0   \n",
              "Beds                                                               1.0   \n",
              "Real Bed                                                           1.0   \n",
              "Price                                                             50.0   \n",
              "Cleaning Fee                                                      25.0   \n",
              "Security Deposit                                                  90.0   \n",
              "Cancellation Policy                                             strict   \n",
              "\n",
              "                                                                    32  \n",
              "Thumbnail Url        https://a0.muscache.com/im/pictures/54262579/c...  \n",
              "Apartment                                                          1.0  \n",
              "Entire home/apt                                                    0.0  \n",
              "Bathrooms                                                          1.0  \n",
              "Bedrooms                                                           1.0  \n",
              "Beds                                                               1.0  \n",
              "Real Bed                                                           1.0  \n",
              "Price                                                             40.0  \n",
              "Cleaning Fee                                                      20.0  \n",
              "Security Deposit                                                 150.0  \n",
              "Cancellation Policy                                           flexible  "
            ],
            "text/html": [
              "\n",
              "  <div id=\"df-5e9e4b97-becb-412f-9b3a-9cd73700114f\">\n",
              "    <div class=\"colab-df-container\">\n",
              "      <div>\n",
              "<style scoped>\n",
              "    .dataframe tbody tr th:only-of-type {\n",
              "        vertical-align: middle;\n",
              "    }\n",
              "\n",
              "    .dataframe tbody tr th {\n",
              "        vertical-align: top;\n",
              "    }\n",
              "\n",
              "    .dataframe thead th {\n",
              "        text-align: right;\n",
              "    }\n",
              "</style>\n",
              "<table border=\"1\" class=\"dataframe\">\n",
              "  <thead>\n",
              "    <tr style=\"text-align: right;\">\n",
              "      <th></th>\n",
              "      <th>1</th>\n",
              "      <th>4</th>\n",
              "      <th>15</th>\n",
              "      <th>17</th>\n",
              "      <th>23</th>\n",
              "      <th>26</th>\n",
              "      <th>27</th>\n",
              "      <th>30</th>\n",
              "      <th>31</th>\n",
              "      <th>32</th>\n",
              "    </tr>\n",
              "  </thead>\n",
              "  <tbody>\n",
              "    <tr>\n",
              "      <th>Thumbnail Url</th>\n",
              "      <td>https://a0.muscache.com/im/pictures/3eb59287-8...</td>\n",
              "      <td>https://a0.muscache.com/im/pictures/6136974/57...</td>\n",
              "      <td>https://a0.muscache.com/im/pictures/faa00251-5...</td>\n",
              "      <td>https://a0.muscache.com/im/pictures/69877124/9...</td>\n",
              "      <td>https://a0.muscache.com/im/pictures/beef54af-7...</td>\n",
              "      <td>https://a0.muscache.com/im/pictures/57baa2b6-1...</td>\n",
              "      <td>https://a0.muscache.com/im/pictures/e1b8a07f-7...</td>\n",
              "      <td>https://a0.muscache.com/im/pictures/12705245/3...</td>\n",
              "      <td>https://a0.muscache.com/im/pictures/39444070/e...</td>\n",
              "      <td>https://a0.muscache.com/im/pictures/54262579/c...</td>\n",
              "    </tr>\n",
              "    <tr>\n",
              "      <th>Apartment</th>\n",
              "      <td>1.0</td>\n",
              "      <td>1.0</td>\n",
              "      <td>0.0</td>\n",
              "      <td>1.0</td>\n",
              "      <td>1.0</td>\n",
              "      <td>1.0</td>\n",
              "      <td>1.0</td>\n",
              "      <td>0.0</td>\n",
              "      <td>1.0</td>\n",
              "      <td>1.0</td>\n",
              "    </tr>\n",
              "    <tr>\n",
              "      <th>Entire home/apt</th>\n",
              "      <td>1.0</td>\n",
              "      <td>1.0</td>\n",
              "      <td>1.0</td>\n",
              "      <td>1.0</td>\n",
              "      <td>0.0</td>\n",
              "      <td>1.0</td>\n",
              "      <td>1.0</td>\n",
              "      <td>0.0</td>\n",
              "      <td>1.0</td>\n",
              "      <td>0.0</td>\n",
              "    </tr>\n",
              "    <tr>\n",
              "      <th>Bathrooms</th>\n",
              "      <td>1.0</td>\n",
              "      <td>1.0</td>\n",
              "      <td>1.0</td>\n",
              "      <td>1.0</td>\n",
              "      <td>2.0</td>\n",
              "      <td>1.0</td>\n",
              "      <td>1.0</td>\n",
              "      <td>2.0</td>\n",
              "      <td>1.0</td>\n",
              "      <td>1.0</td>\n",
              "    </tr>\n",
              "    <tr>\n",
              "      <th>Bedrooms</th>\n",
              "      <td>1.0</td>\n",
              "      <td>2.0</td>\n",
              "      <td>1.0</td>\n",
              "      <td>1.0</td>\n",
              "      <td>1.0</td>\n",
              "      <td>1.0</td>\n",
              "      <td>2.0</td>\n",
              "      <td>1.0</td>\n",
              "      <td>1.0</td>\n",
              "      <td>1.0</td>\n",
              "    </tr>\n",
              "    <tr>\n",
              "      <th>Beds</th>\n",
              "      <td>2.0</td>\n",
              "      <td>4.0</td>\n",
              "      <td>2.0</td>\n",
              "      <td>1.0</td>\n",
              "      <td>1.0</td>\n",
              "      <td>1.0</td>\n",
              "      <td>2.0</td>\n",
              "      <td>1.0</td>\n",
              "      <td>1.0</td>\n",
              "      <td>1.0</td>\n",
              "    </tr>\n",
              "    <tr>\n",
              "      <th>Real Bed</th>\n",
              "      <td>1.0</td>\n",
              "      <td>1.0</td>\n",
              "      <td>1.0</td>\n",
              "      <td>1.0</td>\n",
              "      <td>1.0</td>\n",
              "      <td>1.0</td>\n",
              "      <td>1.0</td>\n",
              "      <td>1.0</td>\n",
              "      <td>1.0</td>\n",
              "      <td>1.0</td>\n",
              "    </tr>\n",
              "    <tr>\n",
              "      <th>Price</th>\n",
              "      <td>50.0</td>\n",
              "      <td>95.0</td>\n",
              "      <td>45.0</td>\n",
              "      <td>89.0</td>\n",
              "      <td>52.0</td>\n",
              "      <td>68.0</td>\n",
              "      <td>80.0</td>\n",
              "      <td>50.0</td>\n",
              "      <td>50.0</td>\n",
              "      <td>40.0</td>\n",
              "    </tr>\n",
              "    <tr>\n",
              "      <th>Cleaning Fee</th>\n",
              "      <td>15.0</td>\n",
              "      <td>60.0</td>\n",
              "      <td>15.0</td>\n",
              "      <td>25.0</td>\n",
              "      <td>8.0</td>\n",
              "      <td>24.0</td>\n",
              "      <td>20.0</td>\n",
              "      <td>50.0</td>\n",
              "      <td>25.0</td>\n",
              "      <td>20.0</td>\n",
              "    </tr>\n",
              "    <tr>\n",
              "      <th>Security Deposit</th>\n",
              "      <td>250.0</td>\n",
              "      <td>200.0</td>\n",
              "      <td>150.0</td>\n",
              "      <td>100.0</td>\n",
              "      <td>150.0</td>\n",
              "      <td>130.0</td>\n",
              "      <td>100.0</td>\n",
              "      <td>200.0</td>\n",
              "      <td>90.0</td>\n",
              "      <td>150.0</td>\n",
              "    </tr>\n",
              "    <tr>\n",
              "      <th>Cancellation Policy</th>\n",
              "      <td>strict</td>\n",
              "      <td>strict</td>\n",
              "      <td>strict</td>\n",
              "      <td>strict</td>\n",
              "      <td>flexible</td>\n",
              "      <td>flexible</td>\n",
              "      <td>strict</td>\n",
              "      <td>moderate</td>\n",
              "      <td>strict</td>\n",
              "      <td>flexible</td>\n",
              "    </tr>\n",
              "  </tbody>\n",
              "</table>\n",
              "</div>\n",
              "      <button class=\"colab-df-convert\" onclick=\"convertToInteractive('df-5e9e4b97-becb-412f-9b3a-9cd73700114f')\"\n",
              "              title=\"Convert this dataframe to an interactive table.\"\n",
              "              style=\"display:none;\">\n",
              "        \n",
              "  <svg xmlns=\"http://www.w3.org/2000/svg\" height=\"24px\"viewBox=\"0 0 24 24\"\n",
              "       width=\"24px\">\n",
              "    <path d=\"M0 0h24v24H0V0z\" fill=\"none\"/>\n",
              "    <path d=\"M18.56 5.44l.94 2.06.94-2.06 2.06-.94-2.06-.94-.94-2.06-.94 2.06-2.06.94zm-11 1L8.5 8.5l.94-2.06 2.06-.94-2.06-.94L8.5 2.5l-.94 2.06-2.06.94zm10 10l.94 2.06.94-2.06 2.06-.94-2.06-.94-.94-2.06-.94 2.06-2.06.94z\"/><path d=\"M17.41 7.96l-1.37-1.37c-.4-.4-.92-.59-1.43-.59-.52 0-1.04.2-1.43.59L10.3 9.45l-7.72 7.72c-.78.78-.78 2.05 0 2.83L4 21.41c.39.39.9.59 1.41.59.51 0 1.02-.2 1.41-.59l7.78-7.78 2.81-2.81c.8-.78.8-2.07 0-2.86zM5.41 20L4 18.59l7.72-7.72 1.47 1.35L5.41 20z\"/>\n",
              "  </svg>\n",
              "      </button>\n",
              "      \n",
              "  <style>\n",
              "    .colab-df-container {\n",
              "      display:flex;\n",
              "      flex-wrap:wrap;\n",
              "      gap: 12px;\n",
              "    }\n",
              "\n",
              "    .colab-df-convert {\n",
              "      background-color: #E8F0FE;\n",
              "      border: none;\n",
              "      border-radius: 50%;\n",
              "      cursor: pointer;\n",
              "      display: none;\n",
              "      fill: #1967D2;\n",
              "      height: 32px;\n",
              "      padding: 0 0 0 0;\n",
              "      width: 32px;\n",
              "    }\n",
              "\n",
              "    .colab-df-convert:hover {\n",
              "      background-color: #E2EBFA;\n",
              "      box-shadow: 0px 1px 2px rgba(60, 64, 67, 0.3), 0px 1px 3px 1px rgba(60, 64, 67, 0.15);\n",
              "      fill: #174EA6;\n",
              "    }\n",
              "\n",
              "    [theme=dark] .colab-df-convert {\n",
              "      background-color: #3B4455;\n",
              "      fill: #D2E3FC;\n",
              "    }\n",
              "\n",
              "    [theme=dark] .colab-df-convert:hover {\n",
              "      background-color: #434B5C;\n",
              "      box-shadow: 0px 1px 3px 1px rgba(0, 0, 0, 0.15);\n",
              "      filter: drop-shadow(0px 1px 2px rgba(0, 0, 0, 0.3));\n",
              "      fill: #FFFFFF;\n",
              "    }\n",
              "  </style>\n",
              "\n",
              "      <script>\n",
              "        const buttonEl =\n",
              "          document.querySelector('#df-5e9e4b97-becb-412f-9b3a-9cd73700114f button.colab-df-convert');\n",
              "        buttonEl.style.display =\n",
              "          google.colab.kernel.accessAllowed ? 'block' : 'none';\n",
              "\n",
              "        async function convertToInteractive(key) {\n",
              "          const element = document.querySelector('#df-5e9e4b97-becb-412f-9b3a-9cd73700114f');\n",
              "          const dataTable =\n",
              "            await google.colab.kernel.invokeFunction('convertToInteractive',\n",
              "                                                     [key], {});\n",
              "          if (!dataTable) return;\n",
              "\n",
              "          const docLinkHtml = 'Like what you see? Visit the ' +\n",
              "            '<a target=\"_blank\" href=https://colab.research.google.com/notebooks/data_table.ipynb>data table notebook</a>'\n",
              "            + ' to learn more about interactive tables.';\n",
              "          element.innerHTML = '';\n",
              "          dataTable['output_type'] = 'display_data';\n",
              "          await google.colab.output.renderOutput(dataTable, element);\n",
              "          const docLink = document.createElement('div');\n",
              "          docLink.innerHTML = docLinkHtml;\n",
              "          element.appendChild(docLink);\n",
              "        }\n",
              "      </script>\n",
              "    </div>\n",
              "  </div>\n",
              "  "
            ]
          },
          "metadata": {},
          "execution_count": 274
        }
      ]
    },
    {
      "cell_type": "markdown",
      "source": [
        "---\n",
        "# Cleaning Fee\n"
      ],
      "metadata": {
        "id": "kep1-oWon9bT"
      }
    },
    {
      "cell_type": "code",
      "source": [
        "data['Cleaning Fee'].value_counts()"
      ],
      "metadata": {
        "colab": {
          "base_uri": "https://localhost:8080/"
        },
        "id": "jiyT5ktuoG01",
        "outputId": "09ca3ec8-a719-400d-e406-12c495ba73cc"
      },
      "execution_count": null,
      "outputs": [
        {
          "output_type": "execute_result",
          "data": {
            "text/plain": [
              "30.0     685\n",
              "20.0     411\n",
              "25.0     302\n",
              "40.0     286\n",
              "15.0     207\n",
              "50.0     188\n",
              "10.0     179\n",
              "35.0     150\n",
              "60.0      79\n",
              "5.0       69\n",
              "45.0      54\n",
              "70.0      45\n",
              "8.0       32\n",
              "24.0      30\n",
              "36.0      26\n",
              "18.0      26\n",
              "12.0      25\n",
              "29.0      23\n",
              "49.0      21\n",
              "32.0      19\n",
              "33.0      16\n",
              "80.0      16\n",
              "90.0      15\n",
              "39.0      14\n",
              "19.0      14\n",
              "48.0      14\n",
              "22.0      14\n",
              "100.0     13\n",
              "55.0      13\n",
              "75.0      12\n",
              "9.0       12\n",
              "17.0      11\n",
              "16.0      10\n",
              "28.0      10\n",
              "65.0      10\n",
              "7.0       10\n",
              "42.0      10\n",
              "23.0       9\n",
              "85.0       7\n",
              "27.0       6\n",
              "6.0        6\n",
              "140.0      5\n",
              "78.0       5\n",
              "95.0       4\n",
              "38.0       4\n",
              "37.0       3\n",
              "26.0       3\n",
              "21.0       3\n",
              "120.0      3\n",
              "14.0       3\n",
              "11.0       2\n",
              "77.0       2\n",
              "47.0       2\n",
              "13.0       2\n",
              "59.0       2\n",
              "68.0       2\n",
              "52.0       2\n",
              "72.0       2\n",
              "58.0       2\n",
              "4.0        1\n",
              "43.0       1\n",
              "41.0       1\n",
              "44.0       1\n",
              "34.0       1\n",
              "69.0       1\n",
              "79.0       1\n",
              "54.0       1\n",
              "Name: Cleaning Fee, dtype: int64"
            ]
          },
          "metadata": {},
          "execution_count": 62
        }
      ]
    },
    {
      "cell_type": "code",
      "source": [
        "data['Cleaning Fee'].describe()"
      ],
      "metadata": {
        "colab": {
          "base_uri": "https://localhost:8080/"
        },
        "id": "yootiKjQoH2q",
        "outputId": "8d8d3e84-75f0-428a-c696-e16353547653"
      },
      "execution_count": null,
      "outputs": [
        {
          "output_type": "execute_result",
          "data": {
            "text/plain": [
              "count    3158.000000\n",
              "mean       30.795440\n",
              "std        16.854798\n",
              "min         4.000000\n",
              "25%        20.000000\n",
              "50%        30.000000\n",
              "75%        40.000000\n",
              "max       140.000000\n",
              "Name: Cleaning Fee, dtype: float64"
            ]
          },
          "metadata": {},
          "execution_count": 63
        }
      ]
    },
    {
      "cell_type": "code",
      "source": [
        "plt.hist(data['Cleaning Fee'], color='lightblue', edgecolor='black')\n",
        "plt.show()"
      ],
      "metadata": {
        "colab": {
          "base_uri": "https://localhost:8080/"
        },
        "id": "wGH6GxlloHxx",
        "outputId": "db043f27-54b6-44a8-db1d-aca09dd911d1"
      },
      "execution_count": null,
      "outputs": [
        {
          "output_type": "display_data",
          "data": {
            "text/plain": [
              "<Figure size 432x288 with 1 Axes>"
            ],
            "image/png": "[encoded data removed]"
          },
          "metadata": {
            "needs_background": "light"
          }
        }
      ]
    },
    {
      "cell_type": "code",
      "source": [
        "del_outliers(data,'Cleaning Fee')"
      ],
      "metadata": {
        "id": "RR0vxFLroHvW"
      },
      "execution_count": null,
      "outputs": []
    },
    {
      "cell_type": "code",
      "source": [
        "plt.hist(data['Cleaning Fee'], color='lightblue', edgecolor='black')\n",
        "plt.show()"
      ],
      "metadata": {
        "colab": {
          "base_uri": "https://localhost:8080/"
        },
        "id": "qHSxc8KCoHtA",
        "outputId": "32aed7bb-9e85-4871-d5ac-555fe0921cac"
      },
      "execution_count": null,
      "outputs": [
        {
          "output_type": "display_data",
          "data": {
            "text/plain": [
              "<Figure size 432x288 with 1 Axes>"
            ],
            "image/png": "[encoded data removed]"
          },
          "metadata": {
            "needs_background": "light"
          }
        }
      ]
    },
    {
      "cell_type": "code",
      "source": [
        "# Creo intervalos para las categorías\n",
        "intervalos = [0, 30, 60, float('inf')] \n",
        "# categorías\n",
        "nombres = ['barato', 'medio', 'caro']\n",
        "\n",
        "\n",
        "data['Cleaning Fee'] = pd.cut(data['Cleaning Fee'], bins=intervalos, labels=nombres)\n",
        "\n"
      ],
      "metadata": {
        "id": "sRsXvA5Q09o4"
      },
      "execution_count": null,
      "outputs": []
    },
    {
      "cell_type": "code",
      "source": [
        "data['Cleaning Fee'].value_counts()"
      ],
      "metadata": {
        "colab": {
          "base_uri": "https://localhost:8080/"
        },
        "id": "KdFeldFS1nG0",
        "outputId": "f0172eb2-c05b-4fe3-c427-f8dd222fef29"
      },
      "execution_count": null,
      "outputs": [
        {
          "output_type": "execute_result",
          "data": {
            "text/plain": [
              "barato    2105\n",
              "medio      910\n",
              "caro        96\n",
              "Name: Cleaning Fee, dtype: int64"
            ]
          },
          "metadata": {},
          "execution_count": 279
        }
      ]
    },
    {
      "cell_type": "code",
      "source": [
        "data.columns"
      ],
      "metadata": {
        "colab": {
          "base_uri": "https://localhost:8080/"
        },
        "id": "uf0YsD4iD2oe",
        "outputId": "65c96f23-4c1d-406f-8e44-fd21cd431f14"
      },
      "execution_count": null,
      "outputs": [
        {
          "output_type": "execute_result",
          "data": {
            "text/plain": [
              "Index(['Thumbnail Url', 'Apartment', 'Entire home/apt', 'Bathrooms',\n",
              "       'Bedrooms', 'Beds', 'Real Bed', 'Price', 'Cleaning Fee',\n",
              "       'Security Deposit', 'Cancellation Policy'],\n",
              "      dtype='object')"
            ]
          },
          "metadata": {},
          "execution_count": 280
        }
      ]
    },
    {
      "cell_type": "code",
      "source": [
        "data = crear_columnas_one_hot(data,'Cleaning Fee')"
      ],
      "metadata": {
        "id": "i8u4OsW-1i7U"
      },
      "execution_count": null,
      "outputs": []
    },
    {
      "cell_type": "code",
      "source": [
        "data.columns"
      ],
      "metadata": {
        "colab": {
          "base_uri": "https://localhost:8080/"
        },
        "id": "7a4WQuInCxg-",
        "outputId": "05d5e2d0-ff3f-4284-8162-314303f61563"
      },
      "execution_count": null,
      "outputs": [
        {
          "output_type": "execute_result",
          "data": {
            "text/plain": [
              "Index(['Thumbnail Url', 'Apartment', 'Entire home/apt', 'Bathrooms',\n",
              "       'Bedrooms', 'Beds', 'Real Bed', 'Price', 'Security Deposit',\n",
              "       'Cancellation Policy', 'Cleaning Fee_barato', 'Cleaning Fee_medio',\n",
              "       'Cleaning Fee_caro'],\n",
              "      dtype='object')"
            ]
          },
          "metadata": {},
          "execution_count": 285
        }
      ]
    },
    {
      "cell_type": "markdown",
      "source": [
        "---\n",
        "# Security Deposit\n",
        "\n"
      ],
      "metadata": {
        "id": "yY8vlv0FpkoI"
      }
    },
    {
      "cell_type": "code",
      "source": [
        "data['Security Deposit'].value_counts()"
      ],
      "metadata": {
        "colab": {
          "base_uri": "https://localhost:8080/"
        },
        "id": "7bYrUvlzoHlc",
        "outputId": "4d130e9e-c181-4544-8873-fadd62568d63"
      },
      "execution_count": null,
      "outputs": [
        {
          "output_type": "execute_result",
          "data": {
            "text/plain": [
              "100.0    855\n",
              "200.0    697\n",
              "150.0    611\n",
              "300.0    215\n",
              "250.0    155\n",
              "90.0      72\n",
              "120.0     51\n",
              "500.0     46\n",
              "400.0     38\n",
              "96.0      31\n",
              "94.0      31\n",
              "95.0      28\n",
              "350.0     25\n",
              "85.0      23\n",
              "175.0     16\n",
              "80.0      16\n",
              "450.0     13\n",
              "180.0     11\n",
              "99.0      10\n",
              "125.0      8\n",
              "600.0      8\n",
              "130.0      7\n",
              "89.0       7\n",
              "225.0      7\n",
              "91.0       6\n",
              "199.0      6\n",
              "87.0       6\n",
              "70.0       6\n",
              "290.0      6\n",
              "88.0       6\n",
              "190.0      6\n",
              "299.0      6\n",
              "86.0       5\n",
              "93.0       5\n",
              "110.0      5\n",
              "160.0      4\n",
              "170.0      4\n",
              "188.0      3\n",
              "220.0      3\n",
              "295.0      3\n",
              "92.0       3\n",
              "140.0      2\n",
              "103.0      2\n",
              "117.0      2\n",
              "234.0      2\n",
              "800.0      2\n",
              "900.0      2\n",
              "700.0      2\n",
              "281.0      2\n",
              "84.0       2\n",
              "97.0       2\n",
              "550.0      2\n",
              "195.0      2\n",
              "159.0      1\n",
              "221.0      1\n",
              "410.0      1\n",
              "75.0       1\n",
              "113.0      1\n",
              "275.0      1\n",
              "148.0      1\n",
              "98.0       1\n",
              "298.0      1\n",
              "320.0      1\n",
              "118.0      1\n",
              "198.0      1\n",
              "490.0      1\n",
              "76.0       1\n",
              "115.0      1\n",
              "702.0      1\n",
              "101.0      1\n",
              "154.0      1\n",
              "128.0      1\n",
              "280.0      1\n",
              "166.0      1\n",
              "650.0      1\n",
              "105.0      1\n",
              "Name: Security Deposit, dtype: int64"
            ]
          },
          "metadata": {},
          "execution_count": 62
        }
      ]
    },
    {
      "cell_type": "code",
      "source": [
        "plt.hist(data['Security Deposit'], color='lightblue', edgecolor='black')\n",
        "plt.show()"
      ],
      "metadata": {
        "colab": {
          "base_uri": "https://localhost:8080/"
        },
        "id": "YhdezQMzp0kZ",
        "outputId": "93f6e89a-e17c-4340-fbe3-d6c955a910d2"
      },
      "execution_count": null,
      "outputs": [
        {
          "output_type": "display_data",
          "data": {
            "text/plain": [
              "<Figure size 432x288 with 1 Axes>"
            ],
            "image/png": "[encoded data removed]"
          },
          "metadata": {
            "needs_background": "light"
          }
        }
      ]
    },
    {
      "cell_type": "code",
      "source": [
        "del_outliers(data,'Security Deposit')"
      ],
      "metadata": {
        "id": "EEIg99sUoHet"
      },
      "execution_count": null,
      "outputs": []
    },
    {
      "cell_type": "code",
      "source": [
        "plt.hist(data['Security Deposit'], color='lightblue', edgecolor='black')\n",
        "plt.show()"
      ],
      "metadata": {
        "colab": {
          "base_uri": "https://localhost:8080/"
        },
        "id": "5eBJD-OkqBq8",
        "outputId": "3ff065ca-d11e-494b-bb84-4b720420c804"
      },
      "execution_count": null,
      "outputs": [
        {
          "output_type": "display_data",
          "data": {
            "text/plain": [
              "<Figure size 432x288 with 1 Axes>"
            ],
            "image/png": "[encoded data removed]"
          },
          "metadata": {
            "needs_background": "light"
          }
        }
      ]
    },
    {
      "cell_type": "code",
      "source": [
        "data['Security Deposit'].describe()"
      ],
      "metadata": {
        "colab": {
          "base_uri": "https://localhost:8080/"
        },
        "id": "kUZq1Pi5BOwq",
        "outputId": "1e9e46c5-36f1-496d-d936-e15b5221ec02"
      },
      "execution_count": null,
      "outputs": [
        {
          "output_type": "execute_result",
          "data": {
            "text/plain": [
              "count    3033.000000\n",
              "mean      163.899439\n",
              "std        69.637050\n",
              "min        70.000000\n",
              "25%       100.000000\n",
              "50%       150.000000\n",
              "75%       200.000000\n",
              "max       410.000000\n",
              "Name: Security Deposit, dtype: float64"
            ]
          },
          "metadata": {},
          "execution_count": 75
        }
      ]
    },
    {
      "cell_type": "code",
      "source": [
        "# Creo intervalos para las categorías\n",
        "bins = [0, 200, 400, float('inf')] \n",
        "# categorías\n",
        "names = ['Barato', 'Medio', 'Caro']\n",
        "\n",
        "\n",
        "data['Security Deposit'] = pd.cut(data['Security Deposit'], bins=bins, labels=names)\n",
        "\n"
      ],
      "metadata": {
        "id": "UEXBXrmjBhN7"
      },
      "execution_count": null,
      "outputs": []
    },
    {
      "cell_type": "code",
      "source": [
        "data['Security Deposit'].value_counts()"
      ],
      "metadata": {
        "colab": {
          "base_uri": "https://localhost:8080/"
        },
        "id": "3Mw8OvTcCkjy",
        "outputId": "80f90f94-633c-456c-dcc0-23442fc3a4ea"
      },
      "execution_count": null,
      "outputs": [
        {
          "output_type": "execute_result",
          "data": {
            "text/plain": [
              "Barato    2565\n",
              "Medio      467\n",
              "Caro         1\n",
              "Name: Security Deposit, dtype: int64"
            ]
          },
          "metadata": {},
          "execution_count": 290
        }
      ]
    },
    {
      "cell_type": "code",
      "source": [
        "data = crear_columnas_one_hot(data,'Security Deposit')"
      ],
      "metadata": {
        "id": "hKWjEtzOB4c7"
      },
      "execution_count": null,
      "outputs": []
    },
    {
      "cell_type": "markdown",
      "source": [
        "\n",
        "\n",
        "---\n",
        "# Cancellation Policy\n"
      ],
      "metadata": {
        "id": "79bIyfGxDaNG"
      }
    },
    {
      "cell_type": "code",
      "source": [
        "data['Cancellation Policy'].value_counts()"
      ],
      "metadata": {
        "colab": {
          "base_uri": "https://localhost:8080/"
        },
        "id": "QKwRKBtmqG6n",
        "outputId": "8940888b-c069-4296-e659-f884e544f608"
      },
      "execution_count": null,
      "outputs": [
        {
          "output_type": "execute_result",
          "data": {
            "text/plain": [
              "strict      1440\n",
              "moderate    1059\n",
              "flexible     534\n",
              "Name: Cancellation Policy, dtype: int64"
            ]
          },
          "metadata": {},
          "execution_count": 292
        }
      ]
    },
    {
      "cell_type": "code",
      "source": [
        "data = crear_columnas_one_hot(data,'Cancellation Policy')"
      ],
      "metadata": {
        "id": "_s96zhVJqbCB"
      },
      "execution_count": null,
      "outputs": []
    },
    {
      "cell_type": "code",
      "source": [
        "data.head(4).T"
      ],
      "metadata": {
        "colab": {
          "base_uri": "https://localhost:8080/"
        },
        "id": "PDRt9hSpqa_v",
        "outputId": "7113867f-697d-4cab-be12-64a159ee7664"
      },
      "execution_count": null,
      "outputs": [
        {
          "output_type": "execute_result",
          "data": {
            "text/plain": [
              "                                                                             1   \\\n",
              "Thumbnail Url                 https://a0.muscache.com/im/pictures/3eb59287-8...   \n",
              "Apartment                                                                   1.0   \n",
              "Entire home/apt                                                             1.0   \n",
              "Bathrooms                                                                   1.0   \n",
              "Bedrooms                                                                    1.0   \n",
              "Beds                                                                        2.0   \n",
              "Real Bed                                                                    1.0   \n",
              "Price                                                                      50.0   \n",
              "Cleaning Fee_barato                                                           1   \n",
              "Cleaning Fee_medio                                                            0   \n",
              "Cleaning Fee_caro                                                             0   \n",
              "Security Deposit_Barato                                                       0   \n",
              "Security Deposit_Medio                                                        1   \n",
              "Security Deposit_Caro                                                         0   \n",
              "Cancellation Policy_flexible                                                  0   \n",
              "Cancellation Policy_moderate                                                  0   \n",
              "Cancellation Policy_strict                                                    1   \n",
              "\n",
              "                                                                             4   \\\n",
              "Thumbnail Url                 https://a0.muscache.com/im/pictures/6136974/57...   \n",
              "Apartment                                                                   1.0   \n",
              "Entire home/apt                                                             1.0   \n",
              "Bathrooms                                                                   1.0   \n",
              "Bedrooms                                                                    2.0   \n",
              "Beds                                                                        4.0   \n",
              "Real Bed                                                                    1.0   \n",
              "Price                                                                      95.0   \n",
              "Cleaning Fee_barato                                                           0   \n",
              "Cleaning Fee_medio                                                            1   \n",
              "Cleaning Fee_caro                                                             0   \n",
              "Security Deposit_Barato                                                       1   \n",
              "Security Deposit_Medio                                                        0   \n",
              "Security Deposit_Caro                                                         0   \n",
              "Cancellation Policy_flexible                                                  0   \n",
              "Cancellation Policy_moderate                                                  0   \n",
              "Cancellation Policy_strict                                                    1   \n",
              "\n",
              "                                                                             15  \\\n",
              "Thumbnail Url                 https://a0.muscache.com/im/pictures/faa00251-5...   \n",
              "Apartment                                                                   0.0   \n",
              "Entire home/apt                                                             1.0   \n",
              "Bathrooms                                                                   1.0   \n",
              "Bedrooms                                                                    1.0   \n",
              "Beds                                                                        2.0   \n",
              "Real Bed                                                                    1.0   \n",
              "Price                                                                      45.0   \n",
              "Cleaning Fee_barato                                                           1   \n",
              "Cleaning Fee_medio                                                            0   \n",
              "Cleaning Fee_caro                                                             0   \n",
              "Security Deposit_Barato                                                       1   \n",
              "Security Deposit_Medio                                                        0   \n",
              "Security Deposit_Caro                                                         0   \n",
              "Cancellation Policy_flexible                                                  0   \n",
              "Cancellation Policy_moderate                                                  0   \n",
              "Cancellation Policy_strict                                                    1   \n",
              "\n",
              "                                                                             17  \n",
              "Thumbnail Url                 https://a0.muscache.com/im/pictures/69877124/9...  \n",
              "Apartment                                                                   1.0  \n",
              "Entire home/apt                                                             1.0  \n",
              "Bathrooms                                                                   1.0  \n",
              "Bedrooms                                                                    1.0  \n",
              "Beds                                                                        1.0  \n",
              "Real Bed                                                                    1.0  \n",
              "Price                                                                      89.0  \n",
              "Cleaning Fee_barato                                                           1  \n",
              "Cleaning Fee_medio                                                            0  \n",
              "Cleaning Fee_caro                                                             0  \n",
              "Security Deposit_Barato                                                       1  \n",
              "Security Deposit_Medio                                                        0  \n",
              "Security Deposit_Caro                                                         0  \n",
              "Cancellation Policy_flexible                                                  0  \n",
              "Cancellation Policy_moderate                                                  0  \n",
              "Cancellation Policy_strict                                                    1  "
            ],
            "text/html": [
              "\n",
              "  <div id=\"df-653e23b3-3831-46a1-b6eb-001fddf08e78\">\n",
              "    <div class=\"colab-df-container\">\n",
              "      <div>\n",
              "<style scoped>\n",
              "    .dataframe tbody tr th:only-of-type {\n",
              "        vertical-align: middle;\n",
              "    }\n",
              "\n",
              "    .dataframe tbody tr th {\n",
              "        vertical-align: top;\n",
              "    }\n",
              "\n",
              "    .dataframe thead th {\n",
              "        text-align: right;\n",
              "    }\n",
              "</style>\n",
              "<table border=\"1\" class=\"dataframe\">\n",
              "  <thead>\n",
              "    <tr style=\"text-align: right;\">\n",
              "      <th></th>\n",
              "      <th>1</th>\n",
              "      <th>4</th>\n",
              "      <th>15</th>\n",
              "      <th>17</th>\n",
              "    </tr>\n",
              "  </thead>\n",
              "  <tbody>\n",
              "    <tr>\n",
              "      <th>Thumbnail Url</th>\n",
              "      <td>https://a0.muscache.com/im/pictures/3eb59287-8...</td>\n",
              "      <td>https://a0.muscache.com/im/pictures/6136974/57...</td>\n",
              "      <td>https://a0.muscache.com/im/pictures/faa00251-5...</td>\n",
              "      <td>https://a0.muscache.com/im/pictures/69877124/9...</td>\n",
              "    </tr>\n",
              "    <tr>\n",
              "      <th>Apartment</th>\n",
              "      <td>1.0</td>\n",
              "      <td>1.0</td>\n",
              "      <td>0.0</td>\n",
              "      <td>1.0</td>\n",
              "    </tr>\n",
              "    <tr>\n",
              "      <th>Entire home/apt</th>\n",
              "      <td>1.0</td>\n",
              "      <td>1.0</td>\n",
              "      <td>1.0</td>\n",
              "      <td>1.0</td>\n",
              "    </tr>\n",
              "    <tr>\n",
              "      <th>Bathrooms</th>\n",
              "      <td>1.0</td>\n",
              "      <td>1.0</td>\n",
              "      <td>1.0</td>\n",
              "      <td>1.0</td>\n",
              "    </tr>\n",
              "    <tr>\n",
              "      <th>Bedrooms</th>\n",
              "      <td>1.0</td>\n",
              "      <td>2.0</td>\n",
              "      <td>1.0</td>\n",
              "      <td>1.0</td>\n",
              "    </tr>\n",
              "    <tr>\n",
              "      <th>Beds</th>\n",
              "      <td>2.0</td>\n",
              "      <td>4.0</td>\n",
              "      <td>2.0</td>\n",
              "      <td>1.0</td>\n",
              "    </tr>\n",
              "    <tr>\n",
              "      <th>Real Bed</th>\n",
              "      <td>1.0</td>\n",
              "      <td>1.0</td>\n",
              "      <td>1.0</td>\n",
              "      <td>1.0</td>\n",
              "    </tr>\n",
              "    <tr>\n",
              "      <th>Price</th>\n",
              "      <td>50.0</td>\n",
              "      <td>95.0</td>\n",
              "      <td>45.0</td>\n",
              "      <td>89.0</td>\n",
              "    </tr>\n",
              "    <tr>\n",
              "      <th>Cleaning Fee_barato</th>\n",
              "      <td>1</td>\n",
              "      <td>0</td>\n",
              "      <td>1</td>\n",
              "      <td>1</td>\n",
              "    </tr>\n",
              "    <tr>\n",
              "      <th>Cleaning Fee_medio</th>\n",
              "      <td>0</td>\n",
              "      <td>1</td>\n",
              "      <td>0</td>\n",
              "      <td>0</td>\n",
              "    </tr>\n",
              "    <tr>\n",
              "      <th>Cleaning Fee_caro</th>\n",
              "      <td>0</td>\n",
              "      <td>0</td>\n",
              "      <td>0</td>\n",
              "      <td>0</td>\n",
              "    </tr>\n",
              "    <tr>\n",
              "      <th>Security Deposit_Barato</th>\n",
              "      <td>0</td>\n",
              "      <td>1</td>\n",
              "      <td>1</td>\n",
              "      <td>1</td>\n",
              "    </tr>\n",
              "    <tr>\n",
              "      <th>Security Deposit_Medio</th>\n",
              "      <td>1</td>\n",
              "      <td>0</td>\n",
              "      <td>0</td>\n",
              "      <td>0</td>\n",
              "    </tr>\n",
              "    <tr>\n",
              "      <th>Security Deposit_Caro</th>\n",
              "      <td>0</td>\n",
              "      <td>0</td>\n",
              "      <td>0</td>\n",
              "      <td>0</td>\n",
              "    </tr>\n",
              "    <tr>\n",
              "      <th>Cancellation Policy_flexible</th>\n",
              "      <td>0</td>\n",
              "      <td>0</td>\n",
              "      <td>0</td>\n",
              "      <td>0</td>\n",
              "    </tr>\n",
              "    <tr>\n",
              "      <th>Cancellation Policy_moderate</th>\n",
              "      <td>0</td>\n",
              "      <td>0</td>\n",
              "      <td>0</td>\n",
              "      <td>0</td>\n",
              "    </tr>\n",
              "    <tr>\n",
              "      <th>Cancellation Policy_strict</th>\n",
              "      <td>1</td>\n",
              "      <td>1</td>\n",
              "      <td>1</td>\n",
              "      <td>1</td>\n",
              "    </tr>\n",
              "  </tbody>\n",
              "</table>\n",
              "</div>\n",
              "      <button class=\"colab-df-convert\" onclick=\"convertToInteractive('df-653e23b3-3831-46a1-b6eb-001fddf08e78')\"\n",
              "              title=\"Convert this dataframe to an interactive table.\"\n",
              "              style=\"display:none;\">\n",
              "        \n",
              "  <svg xmlns=\"http://www.w3.org/2000/svg\" height=\"24px\"viewBox=\"0 0 24 24\"\n",
              "       width=\"24px\">\n",
              "    <path d=\"M0 0h24v24H0V0z\" fill=\"none\"/>\n",
              "    <path d=\"M18.56 5.44l.94 2.06.94-2.06 2.06-.94-2.06-.94-.94-2.06-.94 2.06-2.06.94zm-11 1L8.5 8.5l.94-2.06 2.06-.94-2.06-.94L8.5 2.5l-.94 2.06-2.06.94zm10 10l.94 2.06.94-2.06 2.06-.94-2.06-.94-.94-2.06-.94 2.06-2.06.94z\"/><path d=\"M17.41 7.96l-1.37-1.37c-.4-.4-.92-.59-1.43-.59-.52 0-1.04.2-1.43.59L10.3 9.45l-7.72 7.72c-.78.78-.78 2.05 0 2.83L4 21.41c.39.39.9.59 1.41.59.51 0 1.02-.2 1.41-.59l7.78-7.78 2.81-2.81c.8-.78.8-2.07 0-2.86zM5.41 20L4 18.59l7.72-7.72 1.47 1.35L5.41 20z\"/>\n",
              "  </svg>\n",
              "      </button>\n",
              "      \n",
              "  <style>\n",
              "    .colab-df-container {\n",
              "      display:flex;\n",
              "      flex-wrap:wrap;\n",
              "      gap: 12px;\n",
              "    }\n",
              "\n",
              "    .colab-df-convert {\n",
              "      background-color: #E8F0FE;\n",
              "      border: none;\n",
              "      border-radius: 50%;\n",
              "      cursor: pointer;\n",
              "      display: none;\n",
              "      fill: #1967D2;\n",
              "      height: 32px;\n",
              "      padding: 0 0 0 0;\n",
              "      width: 32px;\n",
              "    }\n",
              "\n",
              "    .colab-df-convert:hover {\n",
              "      background-color: #E2EBFA;\n",
              "      box-shadow: 0px 1px 2px rgba(60, 64, 67, 0.3), 0px 1px 3px 1px rgba(60, 64, 67, 0.15);\n",
              "      fill: #174EA6;\n",
              "    }\n",
              "\n",
              "    [theme=dark] .colab-df-convert {\n",
              "      background-color: #3B4455;\n",
              "      fill: #D2E3FC;\n",
              "    }\n",
              "\n",
              "    [theme=dark] .colab-df-convert:hover {\n",
              "      background-color: #434B5C;\n",
              "      box-shadow: 0px 1px 3px 1px rgba(0, 0, 0, 0.15);\n",
              "      filter: drop-shadow(0px 1px 2px rgba(0, 0, 0, 0.3));\n",
              "      fill: #FFFFFF;\n",
              "    }\n",
              "  </style>\n",
              "\n",
              "      <script>\n",
              "        const buttonEl =\n",
              "          document.querySelector('#df-653e23b3-3831-46a1-b6eb-001fddf08e78 button.colab-df-convert');\n",
              "        buttonEl.style.display =\n",
              "          google.colab.kernel.accessAllowed ? 'block' : 'none';\n",
              "\n",
              "        async function convertToInteractive(key) {\n",
              "          const element = document.querySelector('#df-653e23b3-3831-46a1-b6eb-001fddf08e78');\n",
              "          const dataTable =\n",
              "            await google.colab.kernel.invokeFunction('convertToInteractive',\n",
              "                                                     [key], {});\n",
              "          if (!dataTable) return;\n",
              "\n",
              "          const docLinkHtml = 'Like what you see? Visit the ' +\n",
              "            '<a target=\"_blank\" href=https://colab.research.google.com/notebooks/data_table.ipynb>data table notebook</a>'\n",
              "            + ' to learn more about interactive tables.';\n",
              "          element.innerHTML = '';\n",
              "          dataTable['output_type'] = 'display_data';\n",
              "          await google.colab.output.renderOutput(dataTable, element);\n",
              "          const docLink = document.createElement('div');\n",
              "          docLink.innerHTML = docLinkHtml;\n",
              "          element.appendChild(docLink);\n",
              "        }\n",
              "      </script>\n",
              "    </div>\n",
              "  </div>\n",
              "  "
            ]
          },
          "metadata": {},
          "execution_count": 294
        }
      ]
    },
    {
      "cell_type": "code",
      "source": [
        "data.to_csv('/content/drive/My Drive/data_limpio.csv', index=False)"
      ],
      "metadata": {
        "id": "0VOjWxI2KWBL"
      },
      "execution_count": null,
      "outputs": []
    },
    {
      "cell_type": "markdown",
      "source": [
        "\n",
        "\n",
        "---\n",
        "\n",
        "# Descarga de Imagenes"
      ],
      "metadata": {
        "id": "mTJ6jyW4KaKf"
      }
    },
    {
      "cell_type": "code",
      "source": [
        "import imageio as io\n",
        "import numpy as np\n",
        "import pandas as pd\n",
        "import cv2"
      ],
      "metadata": {
        "id": "Q976jG3E_bGf"
      },
      "execution_count": null,
      "outputs": []
    },
    {
      "cell_type": "code",
      "execution_count": null,
      "metadata": {
        "colab": {
          "base_uri": "https://localhost:8080/"
        },
        "id": "gNmZF3CQFOU8",
        "outputId": "9db9745e-cc60-480c-8c6a-e1bb3e9b34ff"
      },
      "outputs": [
        {
          "output_type": "stream",
          "name": "stdout",
          "text": [
            "Imagen 0 descargada\n",
            "1\n",
            "Imagen 1 descargada\n",
            "2\n",
            "Imagen 2 descargada\n",
            "3\n",
            "Imagen 3 descargada\n",
            "4\n",
            "Imagen 4 descargada\n",
            "5\n",
            "Imagen 5 descargada\n",
            "6\n",
            "Imagen 6 descargada\n",
            "7\n",
            "Imagen 7 descargada\n",
            "8\n",
            "Imagen 8 descargada\n",
            "9\n",
            "Imagen 9 descargada\n",
            "10\n",
            "Imagen 10 descargada\n",
            "11\n",
            "Imagen 11 descargada\n",
            "12\n",
            "Imagen 12 descargada\n",
            "13\n",
            "Imagen 13 descargada\n",
            "14\n",
            "Imagen 14 descargada\n",
            "15\n",
            "Imagen 15 descargada\n",
            "16\n",
            "Imagen 16 descargada\n",
            "17\n",
            "Imagen 17 descargada\n",
            "18\n",
            "Imagen 18 descargada\n",
            "19\n",
            "Imagen 19 descargada\n",
            "20\n",
            "Imagen 20 descargada\n",
            "21\n",
            "Imagen 21 descargada\n",
            "22\n",
            "Imagen 22 descargada\n",
            "23\n",
            "Imagen 23 descargada\n",
            "24\n",
            "Imagen 24 descargada\n",
            "25\n",
            "Imagen 25 descargada\n",
            "26\n",
            "Imagen 26 descargada\n",
            "27\n",
            "Imagen 27 descargada\n",
            "28\n",
            "Imagen 28 descargada\n",
            "29\n",
            "Imagen 29 descargada\n",
            "30\n",
            "Imagen 30 descargada\n",
            "31\n",
            "Imagen 31 descargada\n",
            "32\n",
            "Imagen 32 descargada\n",
            "33\n",
            "Imagen 33 descargada\n",
            "34\n",
            "Imagen 34 descargada\n",
            "35\n",
            "Imagen 35 descargada\n",
            "36\n",
            "Imagen 36 descargada\n",
            "37\n",
            "Imagen 37 descargada\n",
            "38\n",
            "Imagen 38 descargada\n",
            "39\n",
            "Imagen 39 descargada\n",
            "40\n",
            "Imagen 40 descargada\n",
            "41\n",
            "Imagen 41 descargada\n",
            "42\n",
            "Imagen 42 descargada\n",
            "43\n",
            "Imagen 43 descargada\n",
            "44\n",
            "Imagen 44 descargada\n",
            "45\n",
            "Imagen 45 descargada\n",
            "46\n",
            "Imagen 46 descargada\n",
            "47\n",
            "Imagen 47 descargada\n",
            "48\n",
            "Imagen 48 descargada\n",
            "49\n",
            "Imagen 49 descargada\n",
            "50\n",
            "Imagen 50 descargada\n",
            "51\n",
            "Imagen 51 descargada\n",
            "52\n",
            "Imagen 52 descargada\n",
            "53\n",
            "Imagen 53 descargada\n",
            "54\n",
            "Imagen 54 descargada\n",
            "55\n",
            "Imagen 55 descargada\n",
            "56\n",
            "Imagen 56 descargada\n",
            "57\n",
            "Imagen 57 descargada\n",
            "58\n",
            "Imagen 58 descargada\n",
            "59\n",
            "Imagen 59 descargada\n",
            "60\n",
            "Imagen 60 descargada\n",
            "61\n",
            "Imagen 61 descargada\n",
            "62\n",
            "Imagen 62 descargada\n",
            "63\n",
            "Imagen 63 descargada\n",
            "64\n",
            "Imagen 64 descargada\n",
            "65\n",
            "Imagen 65 descargada\n",
            "66\n",
            "Imagen 66 descargada\n",
            "67\n",
            "Imagen 67 descargada\n",
            "68\n",
            "Imagen 68 descargada\n",
            "69\n",
            "Imagen 69 descargada\n",
            "70\n",
            "Imagen 70 descargada\n",
            "71\n",
            "Imagen 71 descargada\n",
            "72\n",
            "Imagen 72 descargada\n",
            "73\n",
            "Imagen 73 descargada\n",
            "74\n",
            "Imagen 74 descargada\n",
            "75\n",
            "Imagen 75 descargada\n",
            "76\n",
            "Imagen 76 descargada\n",
            "77\n",
            "Imagen 77 descargada\n",
            "78\n",
            "Imagen 78 descargada\n",
            "79\n",
            "Imagen 79 descargada\n",
            "80\n",
            "Imagen 80 descargada\n",
            "81\n",
            "Imagen 81 descargada\n",
            "82\n",
            "Imagen 82 descargada\n",
            "83\n",
            "Imagen 83 descargada\n",
            "84\n",
            "Imagen 84 descargada\n",
            "85\n",
            "Imagen 85 descargada\n",
            "86\n",
            "Imagen 86 descargada\n",
            "87\n",
            "Imagen 87 descargada\n",
            "88\n",
            "Imagen 88 descargada\n",
            "89\n",
            "Imagen 89 descargada\n",
            "90\n",
            "Imagen 90 descargada\n",
            "91\n",
            "Imagen 91 descargada\n",
            "92\n",
            "Imagen 92 descargada\n",
            "93\n",
            "Imagen 93 descargada\n",
            "94\n",
            "Imagen 94 descargada\n",
            "95\n",
            "Imagen 95 descargada\n",
            "96\n",
            "Imagen 96 descargada\n",
            "97\n",
            "Imagen 97 descargada\n",
            "98\n",
            "Imagen 98 descargada\n",
            "99\n",
            "Imagen 99 descargada\n",
            "100\n",
            "Imagen 100 descargada\n",
            "101\n",
            "Imagen 101 descargada\n",
            "102\n",
            "Imagen 102 descargada\n",
            "103\n",
            "Imagen 103 descargada\n",
            "104\n",
            "Imagen 104 descargada\n",
            "105\n",
            "Imagen 105 descargada\n",
            "106\n",
            "Imagen 106 descargada\n",
            "107\n",
            "Imagen 107 descargada\n",
            "108\n",
            "Imagen 108 descargada\n",
            "109\n",
            "Imagen 109 descargada\n",
            "110\n",
            "Imagen 110 descargada\n",
            "111\n",
            "Imagen 111 descargada\n",
            "112\n",
            "Imagen 112 descargada\n",
            "113\n",
            "Imagen 113 descargada\n",
            "114\n",
            "Imagen 114 descargada\n",
            "115\n",
            "Imagen 115 descargada\n",
            "116\n",
            "Imagen 116 descargada\n",
            "117\n",
            "Imagen 117 descargada\n",
            "118\n",
            "Imagen 118 descargada\n",
            "119\n",
            "Imagen 119 descargada\n",
            "120\n",
            "Imagen 120 descargada\n",
            "121\n",
            "Imagen 121 descargada\n",
            "122\n",
            "Imagen 122 descargada\n",
            "123\n",
            "Imagen 123 descargada\n",
            "124\n",
            "Imagen 124 descargada\n",
            "125\n",
            "Imagen 125 descargada\n",
            "126\n",
            "Imagen 126 descargada\n",
            "127\n",
            "Imagen 127 descargada\n",
            "128\n",
            "Imagen 128 descargada\n",
            "129\n",
            "Imagen 129 descargada\n",
            "130\n",
            "Imagen 130 descargada\n",
            "131\n",
            "Imagen 131 descargada\n",
            "132\n",
            "Imagen 132 descargada\n",
            "133\n",
            "Imagen 133 descargada\n",
            "134\n",
            "Imagen 134 descargada\n",
            "135\n",
            "Imagen 135 descargada\n",
            "136\n",
            "Imagen 136 descargada\n",
            "137\n",
            "Imagen 137 descargada\n",
            "138\n",
            "Imagen 138 descargada\n",
            "139\n",
            "Imagen 139 descargada\n",
            "140\n",
            "Imagen 140 descargada\n",
            "141\n",
            "Imagen 141 descargada\n",
            "142\n",
            "Imagen 142 descargada\n",
            "143\n",
            "Imagen 143 descargada\n",
            "144\n",
            "Imagen 144 descargada\n",
            "145\n",
            "Imagen 145 descargada\n",
            "146\n",
            "Imagen 146 descargada\n",
            "147\n",
            "Imagen 147 descargada\n",
            "148\n",
            "Imagen 148 descargada\n",
            "149\n",
            "Imagen 149 descargada\n",
            "150\n",
            "Imagen 150 descargada\n",
            "151\n",
            "Imagen 151 descargada\n",
            "152\n",
            "Imagen 152 descargada\n",
            "153\n",
            "Imagen 153 descargada\n",
            "154\n",
            "Imagen 154 descargada\n",
            "155\n",
            "Imagen 155 descargada\n",
            "156\n",
            "Imagen 156 descargada\n",
            "157\n",
            "Imagen 157 descargada\n",
            "158\n",
            "Imagen 158 descargada\n",
            "159\n",
            "Imagen 159 descargada\n",
            "160\n",
            "Imagen 160 descargada\n",
            "161\n",
            "Imagen 161 descargada\n",
            "162\n",
            "Imagen 162 descargada\n",
            "163\n",
            "Imagen 163 descargada\n",
            "164\n",
            "Imagen 164 descargada\n",
            "165\n",
            "Imagen 165 descargada\n",
            "166\n",
            "Imagen 166 descargada\n",
            "167\n",
            "Imagen 167 descargada\n",
            "168\n",
            "Imagen 168 descargada\n",
            "169\n",
            "Imagen 169 descargada\n",
            "170\n",
            "Imagen 170 descargada\n",
            "171\n",
            "Imagen 171 descargada\n",
            "172\n",
            "Imagen 172 descargada\n",
            "173\n",
            "Imagen 173 descargada\n",
            "174\n",
            "Imagen 174 descargada\n",
            "175\n",
            "Imagen 175 descargada\n",
            "176\n",
            "Imagen 176 descargada\n",
            "177\n",
            "Imagen 177 descargada\n",
            "178\n",
            "Imagen 178 descargada\n",
            "179\n",
            "Imagen 179 descargada\n",
            "180\n",
            "Imagen 180 descargada\n",
            "181\n",
            "Imagen 181 descargada\n",
            "182\n",
            "Imagen 182 descargada\n",
            "183\n",
            "Imagen 183 descargada\n",
            "184\n",
            "Imagen 184 descargada\n",
            "185\n",
            "Imagen 185 descargada\n",
            "186\n",
            "Imagen 186 descargada\n",
            "187\n",
            "Imagen 187 descargada\n",
            "188\n",
            "Imagen 188 descargada\n",
            "189\n",
            "Imagen 189 descargada\n",
            "190\n",
            "Imagen 190 descargada\n",
            "191\n",
            "Imagen 191 descargada\n",
            "192\n",
            "Imagen 192 descargada\n",
            "193\n",
            "Imagen 193 descargada\n",
            "194\n",
            "Imagen 194 descargada\n",
            "195\n",
            "Imagen 195 descargada\n",
            "196\n",
            "Imagen 196 descargada\n",
            "197\n",
            "Imagen 197 descargada\n",
            "198\n",
            "Imagen 198 descargada\n",
            "199\n",
            "Imagen 199 descargada\n",
            "200\n",
            "Imagen 200 descargada\n",
            "201\n",
            "Imagen 201 descargada\n",
            "202\n",
            "Imagen 202 descargada\n",
            "203\n",
            "Imagen 203 descargada\n",
            "204\n",
            "Imagen 204 descargada\n",
            "205\n",
            "Imagen 205 descargada\n",
            "206\n",
            "Imagen 206 descargada\n",
            "207\n",
            "Imagen 207 descargada\n",
            "208\n",
            "Imagen 208 descargada\n",
            "209\n",
            "Imagen 209 descargada\n",
            "210\n",
            "Imagen 210 descargada\n",
            "211\n",
            "Imagen 211 descargada\n",
            "212\n",
            "Imagen 212 descargada\n",
            "213\n",
            "Imagen 213 descargada\n",
            "214\n",
            "Imagen 214 descargada\n",
            "215\n",
            "Imagen 215 descargada\n",
            "216\n",
            "Imagen 216 descargada\n",
            "217\n",
            "Imagen 217 descargada\n",
            "218\n",
            "Imagen 218 descargada\n",
            "219\n",
            "Imagen 219 descargada\n",
            "220\n",
            "Imagen 220 descargada\n",
            "221\n",
            "Imagen 221 descargada\n",
            "222\n",
            "Imagen 222 descargada\n",
            "223\n",
            "Imagen 223 descargada\n",
            "224\n",
            "Imagen 224 descargada\n",
            "225\n",
            "Imagen 225 descargada\n",
            "226\n",
            "Imagen 226 descargada\n",
            "227\n",
            "Imagen 227 descargada\n",
            "228\n",
            "Imagen 228 descargada\n",
            "229\n",
            "Imagen 229 descargada\n",
            "230\n",
            "Imagen 230 descargada\n",
            "231\n",
            "Imagen 231 descargada\n",
            "232\n",
            "Imagen 232 descargada\n",
            "233\n",
            "Imagen 233 descargada\n",
            "234\n",
            "Imagen 234 descargada\n",
            "235\n",
            "Imagen 235 descargada\n",
            "236\n",
            "Imagen 236 descargada\n",
            "237\n",
            "Imagen 237 descargada\n",
            "238\n",
            "Imagen 238 descargada\n",
            "239\n",
            "Imagen 239 descargada\n",
            "240\n",
            "Imagen 240 descargada\n",
            "241\n",
            "Imagen 241 descargada\n",
            "242\n",
            "Imagen 242 descargada\n",
            "243\n",
            "Imagen 243 descargada\n",
            "244\n",
            "Imagen 244 descargada\n",
            "245\n",
            "Imagen 245 descargada\n",
            "246\n",
            "Imagen 246 descargada\n",
            "247\n",
            "Imagen 247 descargada\n",
            "248\n",
            "Imagen 248 descargada\n",
            "249\n",
            "Imagen 249 descargada\n",
            "250\n",
            "Imagen 250 descargada\n",
            "251\n",
            "Imagen 251 descargada\n",
            "252\n",
            "Imagen 252 descargada\n",
            "253\n",
            "Imagen 253 descargada\n",
            "254\n",
            "Imagen 254 descargada\n",
            "255\n",
            "Imagen 255 descargada\n",
            "256\n",
            "Imagen 256 descargada\n",
            "257\n",
            "Imagen 257 descargada\n",
            "258\n",
            "Imagen 258 descargada\n",
            "259\n",
            "Imagen 259 descargada\n",
            "260\n",
            "Imagen 260 descargada\n",
            "261\n",
            "Imagen 261 descargada\n",
            "262\n",
            "Imagen 262 descargada\n",
            "263\n",
            "Imagen 263 descargada\n",
            "264\n",
            "Imagen 264 descargada\n",
            "265\n",
            "Imagen 265 descargada\n",
            "266\n",
            "Imagen 266 descargada\n",
            "267\n",
            "Imagen 267 descargada\n",
            "268\n",
            "Imagen 268 descargada\n",
            "269\n",
            "Imagen 269 descargada\n",
            "270\n",
            "Imagen 270 descargada\n",
            "271\n",
            "Imagen 271 descargada\n",
            "272\n",
            "Imagen 272 descargada\n",
            "273\n",
            "Imagen 273 descargada\n",
            "274\n",
            "Imagen 274 descargada\n",
            "275\n",
            "Imagen 275 descargada\n",
            "276\n",
            "Imagen 276 descargada\n",
            "277\n",
            "Imagen 277 descargada\n",
            "278\n",
            "Imagen 278 descargada\n",
            "279\n",
            "Imagen 279 descargada\n",
            "280\n",
            "Imagen 280 descargada\n",
            "281\n",
            "Imagen 281 descargada\n",
            "282\n",
            "Imagen 282 descargada\n",
            "283\n",
            "Imagen 283 descargada\n",
            "284\n",
            "Imagen 284 descargada\n",
            "285\n",
            "Imagen 285 descargada\n",
            "286\n",
            "Imagen 286 descargada\n",
            "287\n",
            "Imagen 287 descargada\n",
            "288\n",
            "Imagen 288 descargada\n",
            "289\n",
            "Imagen 289 descargada\n",
            "290\n",
            "Imagen 290 descargada\n",
            "291\n",
            "Imagen 291 descargada\n",
            "292\n",
            "Imagen 292 descargada\n",
            "293\n",
            "Imagen 293 descargada\n",
            "294\n",
            "Imagen 294 descargada\n",
            "295\n",
            "Imagen 295 descargada\n",
            "296\n",
            "Imagen 296 descargada\n",
            "297\n",
            "Imagen 297 descargada\n",
            "298\n",
            "Imagen 298 descargada\n",
            "299\n",
            "Imagen 299 descargada\n",
            "300\n",
            "Imagen 300 descargada\n",
            "301\n",
            "Imagen 301 descargada\n",
            "302\n",
            "Imagen 302 descargada\n",
            "303\n",
            "Imagen 303 descargada\n",
            "304\n",
            "Imagen 304 descargada\n",
            "305\n",
            "Imagen 305 descargada\n",
            "306\n",
            "Imagen 306 descargada\n",
            "307\n",
            "Imagen 307 descargada\n",
            "308\n",
            "Imagen 308 descargada\n",
            "309\n",
            "Imagen 309 descargada\n",
            "310\n",
            "Imagen 310 descargada\n",
            "311\n",
            "Imagen 311 descargada\n",
            "312\n",
            "Imagen 312 descargada\n",
            "313\n",
            "Imagen 313 descargada\n",
            "314\n",
            "Imagen 314 descargada\n",
            "315\n",
            "Imagen 315 descargada\n",
            "316\n",
            "Imagen 316 descargada\n",
            "317\n",
            "Imagen 317 descargada\n",
            "318\n",
            "Imagen 318 descargada\n",
            "319\n",
            "Imagen 319 descargada\n",
            "320\n",
            "Imagen 320 descargada\n",
            "321\n",
            "Imagen 321 descargada\n",
            "322\n",
            "Imagen 322 descargada\n",
            "323\n",
            "Imagen 323 descargada\n",
            "324\n",
            "Imagen 324 descargada\n",
            "325\n",
            "Imagen 325 descargada\n",
            "326\n",
            "Imagen 326 descargada\n",
            "327\n",
            "Imagen 327 descargada\n",
            "328\n",
            "Imagen 328 descargada\n",
            "329\n",
            "Imagen 329 descargada\n",
            "330\n",
            "Imagen 330 descargada\n",
            "331\n",
            "Imagen 331 descargada\n",
            "332\n",
            "Imagen 332 descargada\n",
            "333\n",
            "Imagen 333 descargada\n",
            "334\n",
            "Imagen 334 descargada\n",
            "335\n",
            "Imagen 335 descargada\n",
            "336\n",
            "Imagen 336 descargada\n",
            "337\n",
            "Imagen 337 descargada\n",
            "338\n",
            "Imagen 338 descargada\n",
            "339\n",
            "Imagen 339 descargada\n",
            "340\n",
            "Imagen 340 descargada\n",
            "341\n",
            "Imagen 341 descargada\n",
            "342\n",
            "Imagen 342 descargada\n",
            "343\n",
            "Imagen 343 descargada\n",
            "344\n",
            "Imagen 344 descargada\n",
            "345\n",
            "Imagen 345 descargada\n",
            "346\n",
            "Imagen 346 descargada\n",
            "347\n",
            "Imagen 347 descargada\n",
            "348\n",
            "Imagen 348 descargada\n",
            "349\n",
            "Imagen 349 descargada\n",
            "350\n",
            "Imagen 350 descargada\n",
            "351\n",
            "Imagen 351 descargada\n",
            "352\n",
            "Imagen 352 descargada\n",
            "353\n",
            "Imagen 353 descargada\n",
            "354\n",
            "Imagen 354 descargada\n",
            "355\n",
            "Imagen 355 descargada\n",
            "356\n",
            "Imagen 356 descargada\n",
            "357\n",
            "Imagen 357 descargada\n",
            "358\n",
            "Imagen 358 descargada\n",
            "359\n",
            "Imagen 359 descargada\n",
            "360\n",
            "Imagen 360 descargada\n",
            "361\n",
            "Imagen 361 descargada\n",
            "362\n",
            "Imagen 362 descargada\n",
            "363\n",
            "Imagen 363 descargada\n",
            "364\n",
            "Imagen 364 descargada\n",
            "365\n",
            "Imagen 365 descargada\n",
            "366\n",
            "Imagen 366 descargada\n",
            "367\n",
            "Imagen 367 descargada\n",
            "368\n",
            "Imagen 368 descargada\n",
            "369\n",
            "Imagen 369 descargada\n",
            "370\n",
            "Imagen 370 descargada\n",
            "371\n",
            "Imagen 371 descargada\n",
            "372\n",
            "Imagen 372 descargada\n",
            "373\n",
            "Imagen 373 descargada\n",
            "374\n",
            "Imagen 374 descargada\n",
            "375\n",
            "Imagen 375 descargada\n",
            "376\n",
            "Imagen 376 descargada\n",
            "377\n",
            "Imagen 377 descargada\n",
            "378\n",
            "Imagen 378 descargada\n",
            "379\n",
            "Imagen 379 descargada\n",
            "380\n",
            "Imagen 380 descargada\n",
            "381\n",
            "Imagen 381 descargada\n",
            "382\n",
            "Imagen 382 descargada\n",
            "383\n",
            "Imagen 383 descargada\n",
            "384\n",
            "Imagen 384 descargada\n",
            "385\n",
            "Imagen 385 descargada\n",
            "386\n",
            "Imagen 386 descargada\n",
            "387\n",
            "Imagen 387 descargada\n",
            "388\n",
            "Imagen 388 descargada\n",
            "389\n",
            "Imagen 389 descargada\n",
            "390\n",
            "Imagen 390 descargada\n",
            "391\n",
            "Imagen 391 descargada\n",
            "392\n",
            "Imagen 392 descargada\n",
            "393\n",
            "Imagen 393 descargada\n",
            "394\n",
            "Imagen 394 descargada\n",
            "395\n",
            "Imagen 395 descargada\n",
            "396\n",
            "Imagen 396 descargada\n",
            "397\n",
            "Imagen 397 descargada\n",
            "398\n",
            "Imagen 398 descargada\n",
            "399\n",
            "Imagen 399 descargada\n",
            "400\n",
            "Imagen 400 descargada\n",
            "401\n",
            "Imagen 401 descargada\n",
            "402\n",
            "Imagen 402 descargada\n",
            "403\n",
            "Imagen 403 descargada\n",
            "404\n",
            "Imagen 404 descargada\n",
            "405\n",
            "Imagen 405 descargada\n",
            "406\n",
            "Imagen 406 descargada\n",
            "407\n",
            "Imagen 407 descargada\n",
            "408\n",
            "Imagen 408 descargada\n",
            "409\n",
            "Imagen 409 descargada\n",
            "410\n",
            "Imagen 410 descargada\n",
            "411\n",
            "Imagen 411 descargada\n",
            "412\n",
            "Imagen 412 descargada\n",
            "413\n",
            "Imagen 413 descargada\n",
            "414\n",
            "Imagen 414 descargada\n",
            "415\n",
            "Imagen 415 descargada\n",
            "416\n",
            "Imagen 416 descargada\n",
            "417\n",
            "Imagen 417 descargada\n",
            "418\n",
            "Imagen 418 descargada\n",
            "419\n",
            "Imagen 419 descargada\n",
            "420\n",
            "Imagen 420 descargada\n",
            "421\n",
            "Imagen 421 descargada\n",
            "422\n",
            "Imagen 422 descargada\n",
            "423\n",
            "Imagen 423 descargada\n",
            "424\n",
            "Imagen 424 descargada\n",
            "425\n",
            "Imagen 425 descargada\n",
            "426\n",
            "Imagen 426 descargada\n",
            "427\n",
            "Imagen 427 descargada\n",
            "428\n",
            "Imagen 428 descargada\n",
            "429\n",
            "Imagen 429 descargada\n",
            "430\n",
            "Imagen 430 descargada\n",
            "431\n",
            "Imagen 431 descargada\n",
            "432\n",
            "Imagen 432 descargada\n",
            "433\n",
            "Imagen 433 descargada\n",
            "434\n",
            "Imagen 434 descargada\n",
            "435\n",
            "Imagen 435 descargada\n",
            "436\n",
            "Imagen 436 descargada\n",
            "437\n",
            "Imagen 437 descargada\n",
            "438\n",
            "Imagen 438 descargada\n",
            "439\n",
            "Imagen 439 descargada\n",
            "440\n",
            "Imagen 440 descargada\n",
            "441\n",
            "Imagen 441 descargada\n",
            "442\n",
            "Imagen 442 descargada\n",
            "443\n",
            "Imagen 443 descargada\n",
            "444\n",
            "Imagen 444 descargada\n",
            "445\n",
            "Imagen 445 descargada\n",
            "446\n",
            "Imagen 446 descargada\n",
            "447\n",
            "Imagen 447 descargada\n",
            "448\n",
            "Imagen 448 descargada\n",
            "449\n",
            "Imagen 449 descargada\n",
            "450\n",
            "Imagen 450 descargada\n",
            "451\n",
            "Imagen 451 descargada\n",
            "452\n",
            "Imagen 452 descargada\n",
            "453\n",
            "Imagen 453 descargada\n",
            "454\n",
            "Imagen 454 descargada\n",
            "455\n",
            "Imagen 455 descargada\n",
            "456\n",
            "Imagen 456 descargada\n",
            "457\n",
            "Imagen 457 descargada\n",
            "458\n",
            "Imagen 458 descargada\n",
            "459\n",
            "Imagen 459 descargada\n",
            "460\n",
            "Imagen 460 descargada\n",
            "461\n",
            "Imagen 461 descargada\n",
            "462\n",
            "Imagen 462 descargada\n",
            "463\n",
            "Imagen 463 descargada\n",
            "464\n",
            "Imagen 464 descargada\n",
            "465\n",
            "Imagen 465 descargada\n",
            "466\n",
            "Imagen 466 descargada\n",
            "467\n",
            "Imagen 467 descargada\n",
            "468\n",
            "Imagen 468 descargada\n",
            "469\n",
            "Imagen 469 descargada\n",
            "470\n",
            "Imagen 470 descargada\n",
            "471\n",
            "Imagen 471 descargada\n",
            "472\n",
            "Imagen 472 descargada\n",
            "473\n",
            "Imagen 473 descargada\n",
            "474\n",
            "Imagen 474 descargada\n",
            "475\n",
            "Imagen 475 descargada\n",
            "476\n",
            "Imagen 476 descargada\n",
            "477\n",
            "Imagen 477 descargada\n",
            "478\n",
            "Imagen 478 descargada\n",
            "479\n",
            "Imagen 479 descargada\n",
            "480\n",
            "Imagen 480 descargada\n",
            "481\n",
            "Imagen 481 descargada\n",
            "482\n",
            "Imagen 482 descargada\n",
            "483\n",
            "Imagen 483 descargada\n",
            "484\n",
            "Imagen 484 descargada\n",
            "485\n",
            "Imagen 485 descargada\n",
            "486\n",
            "Imagen 486 descargada\n",
            "487\n",
            "Imagen 487 descargada\n",
            "488\n",
            "Imagen 488 descargada\n",
            "489\n",
            "Imagen 489 descargada\n",
            "490\n",
            "Imagen 490 descargada\n",
            "491\n",
            "Imagen 491 descargada\n",
            "492\n",
            "Imagen 492 descargada\n",
            "493\n",
            "Imagen 493 descargada\n",
            "494\n",
            "Imagen 494 descargada\n",
            "495\n",
            "Imagen 495 descargada\n",
            "496\n",
            "Imagen 496 descargada\n",
            "497\n",
            "Imagen 497 descargada\n",
            "498\n",
            "Imagen 498 descargada\n",
            "499\n",
            "Imagen 499 descargada\n",
            "500\n",
            "Imagen 500 descargada\n",
            "501\n",
            "Imagen 501 descargada\n",
            "502\n",
            "Imagen 502 descargada\n",
            "503\n",
            "Imagen 503 descargada\n",
            "504\n",
            "Imagen 504 descargada\n",
            "505\n",
            "Imagen 505 descargada\n",
            "506\n",
            "Imagen 506 descargada\n",
            "507\n",
            "Imagen 507 descargada\n",
            "508\n",
            "Imagen 508 descargada\n",
            "509\n",
            "Imagen 509 descargada\n",
            "510\n",
            "Imagen 510 descargada\n",
            "511\n",
            "Imagen 511 descargada\n",
            "512\n",
            "Imagen 512 descargada\n",
            "513\n",
            "Imagen 513 descargada\n",
            "514\n",
            "Imagen 514 descargada\n",
            "515\n",
            "Imagen 515 descargada\n",
            "516\n",
            "Imagen 516 descargada\n",
            "517\n",
            "Imagen 517 descargada\n",
            "518\n",
            "Imagen 518 descargada\n",
            "519\n",
            "Imagen 519 descargada\n",
            "520\n",
            "Imagen 520 descargada\n",
            "521\n",
            "Imagen 521 descargada\n",
            "522\n",
            "Imagen 522 descargada\n",
            "523\n",
            "Imagen 523 descargada\n",
            "524\n",
            "Imagen 524 descargada\n",
            "525\n",
            "Imagen 525 descargada\n",
            "526\n",
            "Imagen 526 descargada\n",
            "527\n",
            "Imagen 527 descargada\n",
            "528\n",
            "Imagen 528 descargada\n",
            "529\n",
            "Imagen 529 descargada\n",
            "530\n",
            "Imagen 530 descargada\n",
            "531\n",
            "Imagen 531 descargada\n",
            "532\n",
            "Imagen 532 descargada\n",
            "533\n",
            "Imagen 533 descargada\n",
            "534\n",
            "Imagen 534 descargada\n",
            "535\n",
            "Imagen 535 descargada\n",
            "536\n",
            "Imagen 536 descargada\n",
            "537\n",
            "Imagen 537 descargada\n",
            "538\n",
            "Imagen 538 descargada\n",
            "539\n",
            "Imagen 539 descargada\n",
            "540\n",
            "Imagen 540 descargada\n",
            "541\n",
            "Imagen 541 descargada\n",
            "542\n",
            "Imagen 542 descargada\n",
            "543\n",
            "Imagen 543 descargada\n",
            "544\n",
            "Imagen 544 descargada\n",
            "545\n",
            "Imagen 545 descargada\n",
            "546\n",
            "Imagen 546 descargada\n",
            "547\n",
            "Imagen 547 descargada\n",
            "548\n",
            "Imagen 548 descargada\n",
            "549\n",
            "Imagen 549 descargada\n",
            "550\n",
            "Imagen 550 descargada\n",
            "551\n",
            "Imagen 551 descargada\n",
            "552\n",
            "Imagen 552 descargada\n",
            "553\n",
            "Imagen 553 descargada\n",
            "554\n",
            "Imagen 554 descargada\n",
            "555\n",
            "Imagen 555 descargada\n",
            "556\n",
            "Imagen 556 descargada\n",
            "557\n",
            "Imagen 557 descargada\n",
            "558\n",
            "Imagen 558 descargada\n",
            "559\n",
            "Imagen 559 descargada\n",
            "560\n",
            "Imagen 560 descargada\n",
            "561\n",
            "Imagen 561 descargada\n",
            "562\n",
            "Imagen 562 descargada\n",
            "563\n",
            "Imagen 563 descargada\n",
            "564\n",
            "Imagen 564 descargada\n",
            "565\n",
            "Imagen 565 descargada\n",
            "566\n",
            "Imagen 566 descargada\n",
            "567\n",
            "Imagen 567 descargada\n",
            "568\n",
            "Imagen 568 descargada\n",
            "569\n",
            "Imagen 569 descargada\n",
            "570\n",
            "Imagen 570 descargada\n",
            "571\n",
            "Imagen 571 descargada\n",
            "572\n",
            "Imagen 572 descargada\n",
            "573\n",
            "Imagen 573 descargada\n",
            "574\n",
            "Imagen 574 descargada\n",
            "575\n",
            "Imagen 575 descargada\n",
            "576\n",
            "Imagen 576 descargada\n",
            "577\n",
            "Imagen 577 descargada\n",
            "578\n",
            "Imagen 578 descargada\n",
            "579\n",
            "Imagen 579 descargada\n",
            "580\n",
            "Imagen 580 descargada\n",
            "581\n",
            "Imagen 581 descargada\n",
            "582\n",
            "Imagen 582 descargada\n",
            "583\n",
            "Imagen 583 descargada\n",
            "584\n",
            "Imagen 584 descargada\n",
            "585\n",
            "Imagen 585 descargada\n",
            "586\n",
            "Imagen 586 descargada\n",
            "587\n",
            "Imagen 587 descargada\n",
            "588\n",
            "Imagen 588 descargada\n",
            "589\n",
            "Imagen 589 descargada\n",
            "590\n",
            "Imagen 590 descargada\n",
            "591\n",
            "Imagen 591 descargada\n",
            "592\n",
            "Imagen 592 descargada\n",
            "593\n",
            "Imagen 593 descargada\n",
            "594\n",
            "Imagen 594 descargada\n",
            "595\n",
            "Imagen 595 descargada\n",
            "596\n",
            "Imagen 596 descargada\n",
            "597\n",
            "Imagen 597 descargada\n",
            "598\n",
            "Imagen 598 descargada\n",
            "599\n",
            "Imagen 599 descargada\n",
            "600\n",
            "Imagen 600 descargada\n",
            "601\n",
            "Imagen 601 descargada\n",
            "602\n",
            "Imagen 602 descargada\n",
            "603\n",
            "Imagen 603 descargada\n",
            "604\n",
            "Imagen 604 descargada\n",
            "605\n",
            "Imagen 605 descargada\n",
            "606\n",
            "Imagen 606 descargada\n",
            "607\n",
            "Imagen 607 descargada\n",
            "608\n",
            "Imagen 608 descargada\n",
            "609\n",
            "Imagen 609 descargada\n",
            "610\n",
            "Imagen 610 descargada\n",
            "611\n",
            "Imagen 611 descargada\n",
            "612\n",
            "Imagen 612 descargada\n",
            "613\n",
            "Imagen 613 descargada\n",
            "614\n",
            "Imagen 614 descargada\n",
            "615\n",
            "Imagen 615 descargada\n",
            "616\n",
            "Imagen 616 descargada\n",
            "617\n",
            "Imagen 617 descargada\n",
            "618\n",
            "Imagen 618 descargada\n",
            "619\n",
            "Imagen 619 descargada\n",
            "620\n",
            "Imagen 620 descargada\n",
            "621\n",
            "Imagen 621 descargada\n",
            "622\n",
            "Imagen 622 descargada\n",
            "623\n",
            "Imagen 623 descargada\n",
            "624\n",
            "Imagen 624 descargada\n",
            "625\n",
            "Imagen 625 descargada\n",
            "626\n",
            "Imagen 626 descargada\n",
            "627\n",
            "Imagen 627 descargada\n",
            "628\n",
            "Imagen 628 descargada\n",
            "629\n",
            "Imagen 629 descargada\n",
            "630\n",
            "Imagen 630 descargada\n",
            "631\n",
            "Imagen 631 descargada\n",
            "632\n",
            "Imagen 632 descargada\n",
            "633\n",
            "Imagen 633 descargada\n",
            "634\n",
            "Imagen 634 descargada\n",
            "635\n",
            "Imagen 635 descargada\n",
            "636\n",
            "Imagen 636 descargada\n",
            "637\n",
            "Imagen 637 descargada\n",
            "638\n",
            "Imagen 638 descargada\n",
            "639\n",
            "Imagen 639 descargada\n",
            "640\n",
            "Imagen 640 descargada\n",
            "641\n",
            "Imagen 641 descargada\n",
            "642\n",
            "Imagen 642 descargada\n",
            "643\n",
            "Imagen 643 descargada\n",
            "644\n",
            "Imagen 644 descargada\n",
            "645\n",
            "Imagen 645 descargada\n",
            "646\n",
            "Imagen 646 descargada\n",
            "647\n",
            "Imagen 647 descargada\n",
            "648\n",
            "Imagen 648 descargada\n",
            "649\n",
            "Imagen 649 descargada\n",
            "650\n",
            "Imagen 650 descargada\n",
            "651\n",
            "Imagen 651 descargada\n",
            "652\n",
            "Imagen 652 descargada\n",
            "653\n",
            "Imagen 653 descargada\n",
            "654\n",
            "Imagen 654 descargada\n",
            "655\n",
            "Imagen 655 descargada\n",
            "656\n",
            "Imagen 656 descargada\n",
            "657\n",
            "Imagen 657 descargada\n",
            "658\n",
            "Imagen 658 descargada\n",
            "659\n",
            "Imagen 659 descargada\n",
            "660\n",
            "Imagen 660 descargada\n",
            "661\n",
            "Imagen 661 descargada\n",
            "662\n",
            "Imagen 662 descargada\n",
            "663\n",
            "Imagen 663 descargada\n",
            "664\n",
            "Imagen 664 descargada\n",
            "665\n",
            "Imagen 665 descargada\n",
            "666\n",
            "Imagen 666 descargada\n",
            "667\n",
            "Imagen 667 descargada\n",
            "668\n",
            "Imagen 668 descargada\n",
            "669\n",
            "Imagen 669 descargada\n",
            "670\n",
            "Imagen 670 descargada\n",
            "671\n",
            "Imagen 671 descargada\n",
            "672\n",
            "Imagen 672 descargada\n",
            "673\n",
            "Imagen 673 descargada\n",
            "674\n",
            "Imagen 674 descargada\n",
            "675\n",
            "Imagen 675 descargada\n",
            "676\n",
            "Imagen 676 descargada\n",
            "677\n",
            "Imagen 677 descargada\n",
            "678\n",
            "Imagen 678 descargada\n",
            "679\n",
            "Imagen 679 descargada\n",
            "680\n",
            "Imagen 680 descargada\n",
            "681\n",
            "Imagen 681 descargada\n",
            "682\n",
            "Imagen 682 descargada\n",
            "683\n",
            "Imagen 683 descargada\n",
            "684\n",
            "Imagen 684 descargada\n",
            "685\n",
            "Imagen 685 descargada\n",
            "686\n",
            "Imagen 686 descargada\n",
            "687\n",
            "Imagen 687 descargada\n",
            "688\n",
            "Imagen 688 descargada\n",
            "689\n",
            "Imagen 689 descargada\n",
            "690\n",
            "Imagen 690 descargada\n",
            "691\n",
            "Imagen 691 descargada\n",
            "692\n",
            "Imagen 692 descargada\n",
            "693\n",
            "Imagen 693 descargada\n",
            "694\n",
            "Imagen 694 descargada\n",
            "695\n",
            "Imagen 695 descargada\n",
            "696\n",
            "Imagen 696 descargada\n",
            "697\n",
            "Imagen 697 descargada\n",
            "698\n",
            "Imagen 698 descargada\n",
            "699\n",
            "Imagen 699 descargada\n",
            "700\n",
            "Imagen 700 descargada\n",
            "701\n",
            "Imagen 701 descargada\n",
            "702\n",
            "Imagen 702 descargada\n",
            "703\n",
            "Imagen 703 descargada\n",
            "704\n",
            "Imagen 704 descargada\n",
            "705\n",
            "Imagen 705 descargada\n",
            "706\n",
            "Imagen 706 descargada\n",
            "707\n",
            "Imagen 707 descargada\n",
            "708\n",
            "Imagen 708 descargada\n",
            "709\n",
            "Imagen 709 descargada\n",
            "710\n",
            "Imagen 710 descargada\n",
            "711\n",
            "Imagen 711 descargada\n",
            "712\n",
            "Imagen 712 descargada\n",
            "713\n",
            "Imagen 713 descargada\n",
            "714\n",
            "Imagen 714 descargada\n",
            "715\n",
            "Imagen 715 descargada\n",
            "716\n",
            "Imagen 716 descargada\n",
            "717\n",
            "Imagen 717 descargada\n",
            "718\n",
            "Imagen 718 descargada\n",
            "719\n",
            "Imagen 719 descargada\n",
            "720\n",
            "Imagen 720 descargada\n",
            "721\n",
            "Imagen 721 descargada\n",
            "722\n",
            "Imagen 722 descargada\n",
            "723\n",
            "Imagen 723 descargada\n",
            "724\n",
            "Imagen 724 descargada\n",
            "725\n",
            "Imagen 725 descargada\n",
            "726\n",
            "Imagen 726 descargada\n",
            "727\n",
            "Imagen 727 descargada\n",
            "728\n",
            "Imagen 728 descargada\n",
            "729\n",
            "Imagen 729 descargada\n",
            "730\n",
            "Imagen 730 descargada\n",
            "731\n",
            "Imagen 731 descargada\n",
            "732\n",
            "Imagen 732 descargada\n",
            "733\n",
            "Imagen 733 descargada\n",
            "734\n",
            "Imagen 734 descargada\n",
            "735\n",
            "Imagen 735 descargada\n",
            "736\n",
            "Imagen 736 descargada\n",
            "737\n",
            "Imagen 737 descargada\n",
            "738\n",
            "Imagen 738 descargada\n",
            "739\n",
            "Imagen 739 descargada\n",
            "740\n",
            "Imagen 740 descargada\n",
            "741\n",
            "Imagen 741 descargada\n",
            "742\n",
            "Imagen 742 descargada\n",
            "743\n",
            "Imagen 743 descargada\n",
            "744\n",
            "Imagen 744 descargada\n",
            "745\n",
            "Imagen 745 descargada\n",
            "746\n",
            "Imagen 746 descargada\n",
            "747\n",
            "Imagen 747 descargada\n",
            "748\n",
            "Imagen 748 descargada\n",
            "749\n",
            "Imagen 749 descargada\n",
            "750\n",
            "Imagen 750 descargada\n",
            "751\n",
            "Imagen 751 descargada\n",
            "752\n",
            "Imagen 752 descargada\n",
            "753\n",
            "Imagen 753 descargada\n",
            "754\n",
            "Imagen 754 descargada\n",
            "755\n",
            "Imagen 755 descargada\n",
            "756\n",
            "Imagen 756 descargada\n",
            "757\n",
            "Imagen 757 descargada\n",
            "758\n",
            "Imagen 758 descargada\n",
            "759\n",
            "Imagen 759 descargada\n",
            "760\n",
            "Imagen 760 descargada\n",
            "761\n",
            "Imagen 761 descargada\n",
            "762\n",
            "Imagen 762 descargada\n",
            "763\n",
            "Imagen 763 descargada\n",
            "764\n",
            "Imagen 764 descargada\n",
            "765\n",
            "Imagen 765 descargada\n",
            "766\n",
            "Imagen 766 descargada\n",
            "767\n",
            "Imagen 767 descargada\n",
            "768\n",
            "Imagen 768 descargada\n",
            "769\n",
            "Imagen 769 descargada\n",
            "770\n",
            "Imagen 770 descargada\n",
            "771\n",
            "Imagen 771 descargada\n",
            "772\n",
            "Imagen 772 descargada\n",
            "773\n",
            "Imagen 773 descargada\n",
            "774\n",
            "Imagen 774 descargada\n",
            "775\n",
            "Imagen 775 descargada\n",
            "776\n",
            "Imagen 776 descargada\n",
            "777\n",
            "Imagen 777 descargada\n",
            "778\n",
            "Imagen 778 descargada\n",
            "779\n",
            "Imagen 779 descargada\n",
            "780\n",
            "Imagen 780 descargada\n",
            "781\n",
            "Imagen 781 descargada\n",
            "782\n",
            "Imagen 782 descargada\n",
            "783\n",
            "Imagen 783 descargada\n",
            "784\n",
            "Imagen 784 descargada\n",
            "785\n",
            "Imagen 785 descargada\n",
            "786\n",
            "Imagen 786 descargada\n",
            "787\n",
            "Imagen 787 descargada\n",
            "788\n",
            "Imagen 788 descargada\n",
            "789\n",
            "Imagen 789 descargada\n",
            "790\n",
            "Imagen 790 descargada\n",
            "791\n",
            "Imagen 791 descargada\n",
            "792\n",
            "Imagen 792 descargada\n",
            "793\n",
            "Imagen 793 descargada\n",
            "794\n",
            "Imagen 794 descargada\n",
            "795\n",
            "Imagen 795 descargada\n",
            "796\n",
            "Imagen 796 descargada\n",
            "797\n",
            "Imagen 797 descargada\n",
            "798\n",
            "Imagen 798 descargada\n",
            "799\n",
            "Imagen 799 descargada\n",
            "800\n"
          ]
        }
      ],
      "source": [
        "n_images = 800\n",
        "images = np.zeros((n_images, 64, 64, 3), dtype=np.uint8)\n",
        "urls = data['Thumbnail Url'] #aqui cargar las imagenes\n",
        "\n",
        "i_aux = 0\n",
        "good_urls = []\n",
        "for i_img, url in enumerate(urls):\n",
        "    if len(good_urls) >= n_images:\n",
        "        # ya tenemos n_images imágenes\n",
        "        break\n",
        "    try:\n",
        "        img = io.imread(url)\n",
        "        images[i_aux] = cv2.resize(img, (64, 64))\n",
        "        good_urls.append(i_img)\n",
        "        i_aux += 1\n",
        "        print(f'Imagen {i_img} descargada')\n",
        "        print(len(good_urls))\n",
        "    except IOError as err:\n",
        "        pass"
      ]
    },
    {
      "cell_type": "code",
      "source": [
        "np.save('images.npy', images)\n",
        "#np.save('data_limpio2.npy', data)"
      ],
      "metadata": {
        "id": "mAm0k7P4ENSE"
      },
      "execution_count": null,
      "outputs": []
    },
    {
      "cell_type": "markdown",
      "source": [
        "# Guardado/carga de img y df"
      ],
      "metadata": {
        "id": "E60filMbDxUX"
      }
    },
    {
      "cell_type": "code",
      "source": [
        "import pandas as pd\n",
        "import numpy as np"
      ],
      "metadata": {
        "id": "EYz9Xz2qLIKZ"
      },
      "execution_count": 4,
      "outputs": []
    },
    {
      "cell_type": "code",
      "execution_count": 4,
      "metadata": {
        "id": "qg66dvraFOXg",
        "colab": {
          "base_uri": "https://localhost:8080/",
          "height": 184
        },
        "outputId": "c4afa968-1ad3-4db8-e6c3-367ebb6ed5c2"
      },
      "outputs": [
        {
          "output_type": "error",
          "ename": "NameError",
          "evalue": "ignored",
          "traceback": [
            "\u001b[0;31m---------------------------------------------------------------------------\u001b[0m",
            "\u001b[0;31mNameError\u001b[0m                                 Traceback (most recent call last)",
            "\u001b[0;32m<ipython-input-4-52c8d3c45a14>\u001b[0m in \u001b[0;36m<module>\u001b[0;34m\u001b[0m\n\u001b[1;32m      1\u001b[0m \u001b[0;31m# Guardo las imagenes que tienen good urls\u001b[0m\u001b[0;34m\u001b[0m\u001b[0;34m\u001b[0m\u001b[0;34m\u001b[0m\u001b[0m\n\u001b[0;32m----> 2\u001b[0;31m \u001b[0mdata\u001b[0m \u001b[0;34m=\u001b[0m \u001b[0mdata\u001b[0m\u001b[0;34m.\u001b[0m\u001b[0miloc\u001b[0m\u001b[0;34m[\u001b[0m\u001b[0mgood_urls\u001b[0m\u001b[0;34m,\u001b[0m \u001b[0;34m:\u001b[0m\u001b[0;34m]\u001b[0m\u001b[0;34m\u001b[0m\u001b[0;34m\u001b[0m\u001b[0m\n\u001b[0m",
            "\u001b[0;31mNameError\u001b[0m: name 'data' is not defined"
          ]
        }
      ],
      "source": [
        "# Guardo las imagenes que tienen good urls\n",
        "data = data.iloc[good_urls, :]"
      ]
    },
    {
      "cell_type": "code",
      "source": [
        "!cp images.npy /content/drive/My\\ Drive/images.npy\n",
        "#!cp data_limpio2.npy /content/drive/My\\ Drive/data_limpio2.npy"
      ],
      "metadata": {
        "id": "yd5MXc2KA6aN"
      },
      "execution_count": null,
      "outputs": []
    },
    {
      "cell_type": "code",
      "source": [
        "# Guardo en Drive\n",
        "data.to_csv('/content/drive/My Drive/data_limpio.csv', index=False)"
      ],
      "metadata": {
        "id": "hsb5K__rHz-j"
      },
      "execution_count": null,
      "outputs": []
    },
    {
      "cell_type": "code",
      "source": [
        "# Cargar imganes\n",
        "\n",
        "images = np.load('/content/drive/My Drive/images.npy')\n",
        "print(images.shape)"
      ],
      "metadata": {
        "colab": {
          "base_uri": "https://localhost:8080/"
        },
        "id": "EaHcgNLe7FDf",
        "outputId": "98ed4ca8-9615-47f9-c6c3-abd5b98c893c"
      },
      "execution_count": 5,
      "outputs": [
        {
          "output_type": "stream",
          "name": "stdout",
          "text": [
            "(800, 64, 64, 3)\n"
          ]
        }
      ]
    },
    {
      "cell_type": "code",
      "source": [
        "# Para carga el df\n",
        "data = pd.read_csv('/content/drive/MyDrive/data_limpio.csv')"
      ],
      "metadata": {
        "id": "INrZnb5pKgIO"
      },
      "execution_count": 13,
      "outputs": []
    },
    {
      "cell_type": "markdown",
      "source": [
        "# Regresion\n",
        "\n",
        "---\n",
        "\n"
      ],
      "metadata": {
        "id": "grg1df_CGEKD"
      }
    },
    {
      "cell_type": "code",
      "source": [
        "import pandas as pd\n",
        "import numpy as np\n",
        "from sklearn.model_selection import train_test_split\n",
        "from sklearn.preprocessing import MinMaxScaler\n",
        "import tensorflow as tf\n",
        "from tensorflow import keras\n",
        "from tensorflow.keras import layers\n",
        "from tensorflow.keras.layers import Dropout, Flatten, Dense, GlobalMaxPool2D, Input, concatenate\n",
        "from tensorflow.keras.models import Sequential, Model\n",
        "from tensorflow.keras.optimizers import SGD, Adam\n",
        "from sklearn.metrics import mean_absolute_error, mean_squared_error\n",
        "import matplotlib.pyplot as plt\n",
        "from tensorflow.keras.applications import VGG16\n",
        "from tensorflow.keras.layers import Dense, Flatten, GlobalMaxPool2D\n",
        "from tensorflow.keras.optimizers import Adam\n"
      ],
      "metadata": {
        "id": "8xlG4wIFG4QC"
      },
      "execution_count": 7,
      "outputs": []
    },
    {
      "cell_type": "code",
      "source": [
        "# Para evitar tener que cargarlo\n",
        "df = data "
      ],
      "metadata": {
        "id": "lRhizut0KLOl"
      },
      "execution_count": 14,
      "outputs": []
    },
    {
      "cell_type": "code",
      "source": [
        "df.columns"
      ],
      "metadata": {
        "colab": {
          "base_uri": "https://localhost:8080/"
        },
        "id": "i7C1pX_uM5KK",
        "outputId": "72c337bf-f15c-4153-e4ff-6b4ce99a3bf6"
      },
      "execution_count": 20,
      "outputs": [
        {
          "output_type": "execute_result",
          "data": {
            "text/plain": [
              "Index(['Thumbnail Url', 'Apartment', 'Entire home/apt', 'Bathrooms',\n",
              "       'Bedrooms', 'Beds', 'Real Bed', 'Price', 'Cleaning Fee_barato',\n",
              "       'Cleaning Fee_medio', 'Cleaning Fee_caro', 'Security Deposit_Barato',\n",
              "       'Security Deposit_Medio', 'Security Deposit_Caro',\n",
              "       'Cancellation Policy_flexible', 'Cancellation Policy_moderate',\n",
              "       'Cancellation Policy_strict'],\n",
              "      dtype='object')"
            ]
          },
          "metadata": {},
          "execution_count": 20
        }
      ]
    },
    {
      "cell_type": "code",
      "source": [
        "# coge todas menos price y thumbnail\n",
        "columnas = [col for col in df.columns if col not in ['Price', 'Thumbnail Url']]\n",
        "\n",
        "X = df[columnas].astype('float32')\n",
        "\n",
        "y = df['Price'].astype('float32')\n"
      ],
      "metadata": {
        "id": "2fan610EKHTi"
      },
      "execution_count": 15,
      "outputs": []
    },
    {
      "cell_type": "code",
      "source": [
        "# Entrenamiento y prueba\n",
        "X_train, X_test, y_train, y_test = train_test_split(X, y, test_size=0.2, random_state=42)\n"
      ],
      "metadata": {
        "id": "2CyBDDfnfQyM"
      },
      "execution_count": 16,
      "outputs": []
    },
    {
      "cell_type": "code",
      "source": [
        "print('X_train',X_train.shape)\n",
        "print('X_test',X_test.shape)\n",
        "print('y_train',y_train.shape)\n",
        "print('y_test',y_test.shape)"
      ],
      "metadata": {
        "colab": {
          "base_uri": "https://localhost:8080/"
        },
        "id": "0NQA0iQgXC-z",
        "outputId": "89ea6139-6d06-44c1-90d1-9ec36414de09"
      },
      "execution_count": 22,
      "outputs": [
        {
          "output_type": "stream",
          "name": "stdout",
          "text": [
            "X_train (640, 15)\n",
            "X_test (160, 15)\n",
            "y_train (640,)\n",
            "y_test (160,)\n"
          ]
        }
      ]
    },
    {
      "cell_type": "code",
      "source": [
        "# Le agrego la dim\n",
        "X_train = np.random.rand(640, 15)\n",
        "X_test = np.random.rand(160, 15)\n",
        "y_train = np.random.rand(640, 1)\n",
        "y_test = np.random.rand(160, 1)\n"
      ],
      "metadata": {
        "id": "vZzdjuN0RA6d"
      },
      "execution_count": 23,
      "outputs": []
    },
    {
      "cell_type": "code",
      "source": [
        "print('X_train',X_train.shape)\n",
        "print('X_test',X_test.shape)\n",
        "print('y_train',y_train.shape)\n",
        "print('y_test',y_test.shape)"
      ],
      "metadata": {
        "colab": {
          "base_uri": "https://localhost:8080/"
        },
        "id": "a37nvzsLeYa2",
        "outputId": "ffe5a3f4-183c-48d8-bbc3-6b5f5c40d6a7"
      },
      "execution_count": 24,
      "outputs": [
        {
          "output_type": "stream",
          "name": "stdout",
          "text": [
            "X_train (640, 15)\n",
            "X_test (160, 15)\n",
            "y_train (640, 1)\n",
            "y_test (160, 1)\n"
          ]
        }
      ]
    },
    {
      "cell_type": "code",
      "source": [
        "# fun para Nnormalización y desnormalización\n",
        "def normalizar(datos):\n",
        "    return (datos - datos.mean()) / datos.std()\n",
        "\n",
        "def desnormalizar(datos_normalizados, datos_originales):\n",
        "    return (datos_normalizados * datos_originales.std()) + datos_originales.mean()\n",
        "\n",
        "\n",
        "# Normalizar datos\n",
        "X_train_norm = normalizar(X_train)\n",
        "X_test_norm = normalizar(X_test)\n",
        "y_train_norm = normalizar(y_train)\n",
        "y_test_norm = normalizar(y_test)\n",
        "\n",
        "\n",
        "# hiperparametros\n",
        "epocas = 200\n",
        "tasas_aprendizaje = [0.001] #[0.1,0.001, 0.0001]\n",
        "n_capas = [8] #[2,3,5,8,13,21]\n",
        "n_neuronas_por_capa = [16] #[8,16,32,64,128]\n",
        "optimizadores = ['sgd'] #['rmsprop', 'sgd','adam']\n",
        "batch_size=32\n",
        "\n",
        "\n",
        "# Var aux\n",
        "mejor_modelo = None\n",
        "mejor_mae = float('inf')\n",
        "mejor_perdida = float('inf')\n",
        "mejor_historial = None\n",
        "\n",
        "\n",
        "historiales = []\n",
        "\n",
        "\n",
        "for tasa_aprendizaje in tasas_aprendizaje:\n",
        "    for n_capas_ocultas in n_capas:\n",
        "        for n_neuronas in n_neuronas_por_capa:\n",
        "            for optimizador in optimizadores:\n",
        "\n",
        "                # Modelo\n",
        "                modelo = keras.Sequential([\n",
        "                    layers.Dense(n_neuronas, activation='relu', input_shape=(X_train_norm.shape[1],))\n",
        "                ])\n",
        "                for i in range(n_capas_ocultas-1):\n",
        "                    modelo.add(layers.Dense(n_neuronas, activation='relu'))\n",
        "                modelo.add(layers.Dense(1, activation='linear'))\n",
        "\n",
        "\n",
        "                # Comp modelo\n",
        "                if optimizador == 'sgd':\n",
        "                    opt = keras.optimizers.SGD(learning_rate=tasa_aprendizaje)\n",
        "                elif optimizador == 'rmsprop':\n",
        "                    opt = keras.optimizers.RMSprop(learning_rate=tasa_aprendizaje)\n",
        "                else:\n",
        "                    opt = keras.optimizers.Adam(learning_rate=tasa_aprendizaje)\n",
        "                modelo.compile(optimizer=opt, loss='mse', metrics=['mae'])\n",
        "\n",
        "\n",
        "                # train model\n",
        "                historial = modelo.fit(X_train_norm, y_train_norm, batch_size=batch_size, epochs=epocas, validation_split=0.2, shuffle=True)\n",
        "                historiales.append(historial)\n",
        "                # Eval  modelo\n",
        "                perdida_prueba, mae_prueba = modelo.evaluate(X_test_norm, y_test_norm)\n",
        "\n",
        "\n",
        "\n",
        "                # Pred y desnormalizar\n",
        "                y_pred_norm = modelo.predict(X_test_norm)\n",
        "                y_pred = desnormalizar(y_pred_norm, y_test)\n",
        "                y_test_orig = desnormalizar(y_test_norm, y_test)\n",
        "\n",
        "\n",
        "                # Cal errores\n",
        "                mae = mean_absolute_error(y_test_orig, y_pred)\n",
        "                mse = mean_squared_error(y_test_orig, y_pred)\n",
        "\n",
        "\n",
        "                # Guardar mejor modelo\n",
        "                if mae_prueba < mejor_mae and perdida_prueba < mejor_perdida:\n",
        "                    mejor_modelo = modelo\n",
        "                    mejor_mae = mae_prueba\n",
        "                    mejor_perdida = perdida_prueba\n",
        "                    mejor_historial = historial\n"
      ],
      "metadata": {
        "colab": {
          "base_uri": "https://localhost:8080/"
        },
        "id": "-0KV8-KmvO-L",
        "outputId": "ff9b06ea-11ff-4728-a773-8fc1fcaa7dae"
      },
      "execution_count": 25,
      "outputs": [
        {
          "output_type": "stream",
          "name": "stdout",
          "text": [
            "Epoch 1/200\n",
            "14/14 [==============================] - 1s 18ms/step - loss: 0.9914 - mae: 0.8578 - val_loss: 1.0222 - val_mae: 0.8730\n",
            "Epoch 2/200\n",
            "14/14 [==============================] - 0s 7ms/step - loss: 0.9910 - mae: 0.8576 - val_loss: 1.0223 - val_mae: 0.8733\n",
            "Epoch 3/200\n",
            "14/14 [==============================] - 0s 6ms/step - loss: 0.9904 - mae: 0.8573 - val_loss: 1.0224 - val_mae: 0.8736\n",
            "Epoch 4/200\n",
            "14/14 [==============================] - 0s 7ms/step - loss: 0.9901 - mae: 0.8571 - val_loss: 1.0225 - val_mae: 0.8739\n",
            "Epoch 5/200\n",
            "14/14 [==============================] - 0s 6ms/step - loss: 0.9898 - mae: 0.8570 - val_loss: 1.0226 - val_mae: 0.8741\n",
            "Epoch 6/200\n",
            "14/14 [==============================] - 0s 6ms/step - loss: 0.9893 - mae: 0.8568 - val_loss: 1.0228 - val_mae: 0.8744\n",
            "Epoch 7/200\n",
            "14/14 [==============================] - 0s 7ms/step - loss: 0.9890 - mae: 0.8567 - val_loss: 1.0229 - val_mae: 0.8746\n",
            "Epoch 8/200\n",
            "14/14 [==============================] - 0s 6ms/step - loss: 0.9887 - mae: 0.8565 - val_loss: 1.0230 - val_mae: 0.8748\n",
            "Epoch 9/200\n",
            "14/14 [==============================] - 0s 6ms/step - loss: 0.9883 - mae: 0.8563 - val_loss: 1.0232 - val_mae: 0.8750\n",
            "Epoch 10/200\n",
            "14/14 [==============================] - 0s 6ms/step - loss: 0.9882 - mae: 0.8563 - val_loss: 1.0233 - val_mae: 0.8752\n",
            "Epoch 11/200\n",
            "14/14 [==============================] - 0s 6ms/step - loss: 0.9879 - mae: 0.8561 - val_loss: 1.0234 - val_mae: 0.8754\n",
            "Epoch 12/200\n",
            "14/14 [==============================] - 0s 6ms/step - loss: 0.9877 - mae: 0.8560 - val_loss: 1.0235 - val_mae: 0.8755\n",
            "Epoch 13/200\n",
            "14/14 [==============================] - 0s 8ms/step - loss: 0.9876 - mae: 0.8560 - val_loss: 1.0236 - val_mae: 0.8757\n",
            "Epoch 14/200\n",
            "14/14 [==============================] - 0s 6ms/step - loss: 0.9874 - mae: 0.8558 - val_loss: 1.0237 - val_mae: 0.8758\n",
            "Epoch 15/200\n",
            "14/14 [==============================] - 0s 6ms/step - loss: 0.9873 - mae: 0.8557 - val_loss: 1.0238 - val_mae: 0.8759\n",
            "Epoch 16/200\n",
            "14/14 [==============================] - 0s 8ms/step - loss: 0.9871 - mae: 0.8556 - val_loss: 1.0239 - val_mae: 0.8760\n",
            "Epoch 17/200\n",
            "14/14 [==============================] - 0s 7ms/step - loss: 0.9870 - mae: 0.8555 - val_loss: 1.0240 - val_mae: 0.8761\n",
            "Epoch 18/200\n",
            "14/14 [==============================] - 0s 6ms/step - loss: 0.9869 - mae: 0.8555 - val_loss: 1.0241 - val_mae: 0.8762\n",
            "Epoch 19/200\n",
            "14/14 [==============================] - 0s 6ms/step - loss: 0.9868 - mae: 0.8554 - val_loss: 1.0242 - val_mae: 0.8763\n",
            "Epoch 20/200\n",
            "14/14 [==============================] - 0s 7ms/step - loss: 0.9867 - mae: 0.8554 - val_loss: 1.0243 - val_mae: 0.8764\n",
            "Epoch 21/200\n",
            "14/14 [==============================] - 0s 8ms/step - loss: 0.9865 - mae: 0.8553 - val_loss: 1.0243 - val_mae: 0.8764\n",
            "Epoch 22/200\n",
            "14/14 [==============================] - 0s 9ms/step - loss: 0.9864 - mae: 0.8553 - val_loss: 1.0244 - val_mae: 0.8765\n",
            "Epoch 23/200\n",
            "14/14 [==============================] - 0s 9ms/step - loss: 0.9864 - mae: 0.8553 - val_loss: 1.0244 - val_mae: 0.8766\n",
            "Epoch 24/200\n",
            "14/14 [==============================] - 0s 8ms/step - loss: 0.9863 - mae: 0.8552 - val_loss: 1.0245 - val_mae: 0.8766\n",
            "Epoch 25/200\n",
            "14/14 [==============================] - 0s 10ms/step - loss: 0.9861 - mae: 0.8552 - val_loss: 1.0246 - val_mae: 0.8767\n",
            "Epoch 26/200\n",
            "14/14 [==============================] - 0s 13ms/step - loss: 0.9861 - mae: 0.8551 - val_loss: 1.0246 - val_mae: 0.8768\n",
            "Epoch 27/200\n",
            "14/14 [==============================] - 0s 9ms/step - loss: 0.9860 - mae: 0.8551 - val_loss: 1.0247 - val_mae: 0.8768\n",
            "Epoch 28/200\n",
            "14/14 [==============================] - 0s 9ms/step - loss: 0.9860 - mae: 0.8551 - val_loss: 1.0247 - val_mae: 0.8768\n",
            "Epoch 29/200\n",
            "14/14 [==============================] - 0s 9ms/step - loss: 0.9858 - mae: 0.8550 - val_loss: 1.0248 - val_mae: 0.8769\n",
            "Epoch 30/200\n",
            "14/14 [==============================] - 0s 12ms/step - loss: 0.9857 - mae: 0.8550 - val_loss: 1.0248 - val_mae: 0.8769\n",
            "Epoch 31/200\n",
            "14/14 [==============================] - 0s 12ms/step - loss: 0.9857 - mae: 0.8550 - val_loss: 1.0248 - val_mae: 0.8770\n",
            "Epoch 32/200\n",
            "14/14 [==============================] - 0s 9ms/step - loss: 0.9856 - mae: 0.8549 - val_loss: 1.0248 - val_mae: 0.8770\n",
            "Epoch 33/200\n",
            "14/14 [==============================] - 0s 12ms/step - loss: 0.9855 - mae: 0.8549 - val_loss: 1.0249 - val_mae: 0.8770\n",
            "Epoch 34/200\n",
            "14/14 [==============================] - 0s 10ms/step - loss: 0.9855 - mae: 0.8548 - val_loss: 1.0250 - val_mae: 0.8771\n",
            "Epoch 35/200\n",
            "14/14 [==============================] - 0s 9ms/step - loss: 0.9854 - mae: 0.8548 - val_loss: 1.0250 - val_mae: 0.8771\n",
            "Epoch 36/200\n",
            "14/14 [==============================] - 0s 9ms/step - loss: 0.9853 - mae: 0.8548 - val_loss: 1.0250 - val_mae: 0.8771\n",
            "Epoch 37/200\n",
            "14/14 [==============================] - 0s 14ms/step - loss: 0.9852 - mae: 0.8547 - val_loss: 1.0250 - val_mae: 0.8772\n",
            "Epoch 38/200\n",
            "14/14 [==============================] - 0s 10ms/step - loss: 0.9850 - mae: 0.8547 - val_loss: 1.0250 - val_mae: 0.8772\n",
            "Epoch 39/200\n",
            "14/14 [==============================] - 0s 9ms/step - loss: 0.9849 - mae: 0.8546 - val_loss: 1.0251 - val_mae: 0.8772\n",
            "Epoch 40/200\n",
            "14/14 [==============================] - 0s 12ms/step - loss: 0.9848 - mae: 0.8547 - val_loss: 1.0251 - val_mae: 0.8772\n",
            "Epoch 41/200\n",
            "14/14 [==============================] - 0s 9ms/step - loss: 0.9848 - mae: 0.8546 - val_loss: 1.0251 - val_mae: 0.8773\n",
            "Epoch 42/200\n",
            "14/14 [==============================] - 0s 9ms/step - loss: 0.9846 - mae: 0.8546 - val_loss: 1.0251 - val_mae: 0.8773\n",
            "Epoch 43/200\n",
            "14/14 [==============================] - 0s 10ms/step - loss: 0.9846 - mae: 0.8545 - val_loss: 1.0252 - val_mae: 0.8773\n",
            "Epoch 44/200\n",
            "14/14 [==============================] - 0s 9ms/step - loss: 0.9844 - mae: 0.8545 - val_loss: 1.0252 - val_mae: 0.8773\n",
            "Epoch 45/200\n",
            "14/14 [==============================] - 0s 9ms/step - loss: 0.9844 - mae: 0.8545 - val_loss: 1.0252 - val_mae: 0.8773\n",
            "Epoch 46/200\n",
            "14/14 [==============================] - 0s 8ms/step - loss: 0.9844 - mae: 0.8545 - val_loss: 1.0252 - val_mae: 0.8773\n",
            "Epoch 47/200\n",
            "14/14 [==============================] - 0s 7ms/step - loss: 0.9843 - mae: 0.8545 - val_loss: 1.0253 - val_mae: 0.8774\n",
            "Epoch 48/200\n",
            "14/14 [==============================] - 0s 7ms/step - loss: 0.9842 - mae: 0.8544 - val_loss: 1.0253 - val_mae: 0.8774\n",
            "Epoch 49/200\n",
            "14/14 [==============================] - 0s 6ms/step - loss: 0.9840 - mae: 0.8544 - val_loss: 1.0253 - val_mae: 0.8774\n",
            "Epoch 50/200\n",
            "14/14 [==============================] - 0s 6ms/step - loss: 0.9840 - mae: 0.8543 - val_loss: 1.0253 - val_mae: 0.8774\n",
            "Epoch 51/200\n",
            "14/14 [==============================] - 0s 6ms/step - loss: 0.9839 - mae: 0.8543 - val_loss: 1.0253 - val_mae: 0.8774\n",
            "Epoch 52/200\n",
            "14/14 [==============================] - 0s 7ms/step - loss: 0.9838 - mae: 0.8543 - val_loss: 1.0253 - val_mae: 0.8774\n",
            "Epoch 53/200\n",
            "14/14 [==============================] - 0s 7ms/step - loss: 0.9838 - mae: 0.8543 - val_loss: 1.0253 - val_mae: 0.8774\n",
            "Epoch 54/200\n",
            "14/14 [==============================] - 0s 8ms/step - loss: 0.9837 - mae: 0.8542 - val_loss: 1.0253 - val_mae: 0.8774\n",
            "Epoch 55/200\n",
            "14/14 [==============================] - 0s 6ms/step - loss: 0.9836 - mae: 0.8542 - val_loss: 1.0253 - val_mae: 0.8774\n",
            "Epoch 56/200\n",
            "14/14 [==============================] - 0s 7ms/step - loss: 0.9835 - mae: 0.8541 - val_loss: 1.0254 - val_mae: 0.8774\n",
            "Epoch 57/200\n",
            "14/14 [==============================] - 0s 6ms/step - loss: 0.9834 - mae: 0.8541 - val_loss: 1.0254 - val_mae: 0.8774\n",
            "Epoch 58/200\n",
            "14/14 [==============================] - 0s 6ms/step - loss: 0.9835 - mae: 0.8542 - val_loss: 1.0254 - val_mae: 0.8774\n",
            "Epoch 59/200\n",
            "14/14 [==============================] - 0s 7ms/step - loss: 0.9833 - mae: 0.8540 - val_loss: 1.0254 - val_mae: 0.8774\n",
            "Epoch 60/200\n",
            "14/14 [==============================] - 0s 7ms/step - loss: 0.9832 - mae: 0.8540 - val_loss: 1.0254 - val_mae: 0.8774\n",
            "Epoch 61/200\n",
            "14/14 [==============================] - 0s 6ms/step - loss: 0.9831 - mae: 0.8540 - val_loss: 1.0254 - val_mae: 0.8774\n",
            "Epoch 62/200\n",
            "14/14 [==============================] - 0s 7ms/step - loss: 0.9830 - mae: 0.8540 - val_loss: 1.0254 - val_mae: 0.8775\n",
            "Epoch 63/200\n",
            "14/14 [==============================] - 0s 7ms/step - loss: 0.9830 - mae: 0.8539 - val_loss: 1.0255 - val_mae: 0.8775\n",
            "Epoch 64/200\n",
            "14/14 [==============================] - 0s 7ms/step - loss: 0.9829 - mae: 0.8540 - val_loss: 1.0255 - val_mae: 0.8775\n",
            "Epoch 65/200\n",
            "14/14 [==============================] - 0s 7ms/step - loss: 0.9829 - mae: 0.8539 - val_loss: 1.0255 - val_mae: 0.8775\n",
            "Epoch 66/200\n",
            "14/14 [==============================] - 0s 7ms/step - loss: 0.9828 - mae: 0.8540 - val_loss: 1.0255 - val_mae: 0.8775\n",
            "Epoch 67/200\n",
            "14/14 [==============================] - 0s 6ms/step - loss: 0.9827 - mae: 0.8539 - val_loss: 1.0255 - val_mae: 0.8775\n",
            "Epoch 68/200\n",
            "14/14 [==============================] - 0s 6ms/step - loss: 0.9826 - mae: 0.8538 - val_loss: 1.0255 - val_mae: 0.8775\n",
            "Epoch 69/200\n",
            "14/14 [==============================] - 0s 6ms/step - loss: 0.9825 - mae: 0.8538 - val_loss: 1.0256 - val_mae: 0.8775\n",
            "Epoch 70/200\n",
            "14/14 [==============================] - 0s 6ms/step - loss: 0.9824 - mae: 0.8537 - val_loss: 1.0256 - val_mae: 0.8775\n",
            "Epoch 71/200\n",
            "14/14 [==============================] - 0s 7ms/step - loss: 0.9823 - mae: 0.8537 - val_loss: 1.0256 - val_mae: 0.8775\n",
            "Epoch 72/200\n",
            "14/14 [==============================] - 0s 7ms/step - loss: 0.9822 - mae: 0.8536 - val_loss: 1.0256 - val_mae: 0.8775\n",
            "Epoch 73/200\n",
            "14/14 [==============================] - 0s 7ms/step - loss: 0.9822 - mae: 0.8536 - val_loss: 1.0257 - val_mae: 0.8775\n",
            "Epoch 74/200\n",
            "14/14 [==============================] - 0s 7ms/step - loss: 0.9820 - mae: 0.8535 - val_loss: 1.0257 - val_mae: 0.8775\n",
            "Epoch 75/200\n",
            "14/14 [==============================] - 0s 8ms/step - loss: 0.9820 - mae: 0.8535 - val_loss: 1.0256 - val_mae: 0.8775\n",
            "Epoch 76/200\n",
            "14/14 [==============================] - 0s 8ms/step - loss: 0.9818 - mae: 0.8535 - val_loss: 1.0257 - val_mae: 0.8775\n",
            "Epoch 77/200\n",
            "14/14 [==============================] - 0s 6ms/step - loss: 0.9817 - mae: 0.8535 - val_loss: 1.0257 - val_mae: 0.8775\n",
            "Epoch 78/200\n",
            "14/14 [==============================] - 0s 7ms/step - loss: 0.9817 - mae: 0.8535 - val_loss: 1.0257 - val_mae: 0.8775\n",
            "Epoch 79/200\n",
            "14/14 [==============================] - 0s 7ms/step - loss: 0.9816 - mae: 0.8534 - val_loss: 1.0257 - val_mae: 0.8775\n",
            "Epoch 80/200\n",
            "14/14 [==============================] - 0s 7ms/step - loss: 0.9816 - mae: 0.8534 - val_loss: 1.0257 - val_mae: 0.8774\n",
            "Epoch 81/200\n",
            "14/14 [==============================] - 0s 6ms/step - loss: 0.9814 - mae: 0.8533 - val_loss: 1.0257 - val_mae: 0.8774\n",
            "Epoch 82/200\n",
            "14/14 [==============================] - 0s 7ms/step - loss: 0.9813 - mae: 0.8534 - val_loss: 1.0257 - val_mae: 0.8774\n",
            "Epoch 83/200\n",
            "14/14 [==============================] - 0s 7ms/step - loss: 0.9813 - mae: 0.8533 - val_loss: 1.0257 - val_mae: 0.8774\n",
            "Epoch 84/200\n",
            "14/14 [==============================] - 0s 6ms/step - loss: 0.9811 - mae: 0.8532 - val_loss: 1.0257 - val_mae: 0.8774\n",
            "Epoch 85/200\n",
            "14/14 [==============================] - 0s 10ms/step - loss: 0.9810 - mae: 0.8532 - val_loss: 1.0257 - val_mae: 0.8773\n",
            "Epoch 86/200\n",
            "14/14 [==============================] - 0s 7ms/step - loss: 0.9808 - mae: 0.8531 - val_loss: 1.0257 - val_mae: 0.8773\n",
            "Epoch 87/200\n",
            "14/14 [==============================] - 0s 7ms/step - loss: 0.9809 - mae: 0.8532 - val_loss: 1.0257 - val_mae: 0.8773\n",
            "Epoch 88/200\n",
            "14/14 [==============================] - 0s 6ms/step - loss: 0.9806 - mae: 0.8531 - val_loss: 1.0257 - val_mae: 0.8773\n",
            "Epoch 89/200\n",
            "14/14 [==============================] - 0s 7ms/step - loss: 0.9807 - mae: 0.8531 - val_loss: 1.0257 - val_mae: 0.8773\n",
            "Epoch 90/200\n",
            "14/14 [==============================] - 0s 7ms/step - loss: 0.9806 - mae: 0.8530 - val_loss: 1.0257 - val_mae: 0.8773\n",
            "Epoch 91/200\n",
            "14/14 [==============================] - 0s 6ms/step - loss: 0.9805 - mae: 0.8530 - val_loss: 1.0257 - val_mae: 0.8773\n",
            "Epoch 92/200\n",
            "14/14 [==============================] - 0s 7ms/step - loss: 0.9803 - mae: 0.8530 - val_loss: 1.0257 - val_mae: 0.8772\n",
            "Epoch 93/200\n",
            "14/14 [==============================] - 0s 8ms/step - loss: 0.9802 - mae: 0.8530 - val_loss: 1.0257 - val_mae: 0.8772\n",
            "Epoch 94/200\n",
            "14/14 [==============================] - 0s 6ms/step - loss: 0.9802 - mae: 0.8529 - val_loss: 1.0257 - val_mae: 0.8772\n",
            "Epoch 95/200\n",
            "14/14 [==============================] - 0s 8ms/step - loss: 0.9800 - mae: 0.8528 - val_loss: 1.0257 - val_mae: 0.8772\n",
            "Epoch 96/200\n",
            "14/14 [==============================] - 0s 7ms/step - loss: 0.9800 - mae: 0.8529 - val_loss: 1.0258 - val_mae: 0.8772\n",
            "Epoch 97/200\n",
            "14/14 [==============================] - 0s 6ms/step - loss: 0.9799 - mae: 0.8528 - val_loss: 1.0258 - val_mae: 0.8772\n",
            "Epoch 98/200\n",
            "14/14 [==============================] - 0s 7ms/step - loss: 0.9797 - mae: 0.8528 - val_loss: 1.0258 - val_mae: 0.8772\n",
            "Epoch 99/200\n",
            "14/14 [==============================] - 0s 6ms/step - loss: 0.9796 - mae: 0.8527 - val_loss: 1.0258 - val_mae: 0.8772\n",
            "Epoch 100/200\n",
            "14/14 [==============================] - 0s 6ms/step - loss: 0.9795 - mae: 0.8527 - val_loss: 1.0258 - val_mae: 0.8772\n",
            "Epoch 101/200\n",
            "14/14 [==============================] - 0s 7ms/step - loss: 0.9794 - mae: 0.8527 - val_loss: 1.0259 - val_mae: 0.8772\n",
            "Epoch 102/200\n",
            "14/14 [==============================] - 0s 6ms/step - loss: 0.9793 - mae: 0.8526 - val_loss: 1.0259 - val_mae: 0.8772\n",
            "Epoch 103/200\n",
            "14/14 [==============================] - 0s 7ms/step - loss: 0.9793 - mae: 0.8526 - val_loss: 1.0259 - val_mae: 0.8772\n",
            "Epoch 104/200\n",
            "14/14 [==============================] - 0s 6ms/step - loss: 0.9792 - mae: 0.8526 - val_loss: 1.0259 - val_mae: 0.8772\n",
            "Epoch 105/200\n",
            "14/14 [==============================] - 0s 12ms/step - loss: 0.9790 - mae: 0.8525 - val_loss: 1.0260 - val_mae: 0.8772\n",
            "Epoch 106/200\n",
            "14/14 [==============================] - 0s 6ms/step - loss: 0.9789 - mae: 0.8525 - val_loss: 1.0260 - val_mae: 0.8772\n",
            "Epoch 107/200\n",
            "14/14 [==============================] - 0s 7ms/step - loss: 0.9787 - mae: 0.8524 - val_loss: 1.0260 - val_mae: 0.8772\n",
            "Epoch 108/200\n",
            "14/14 [==============================] - 0s 7ms/step - loss: 0.9787 - mae: 0.8524 - val_loss: 1.0261 - val_mae: 0.8772\n",
            "Epoch 109/200\n",
            "14/14 [==============================] - 0s 7ms/step - loss: 0.9786 - mae: 0.8524 - val_loss: 1.0261 - val_mae: 0.8772\n",
            "Epoch 110/200\n",
            "14/14 [==============================] - 0s 6ms/step - loss: 0.9784 - mae: 0.8524 - val_loss: 1.0262 - val_mae: 0.8772\n",
            "Epoch 111/200\n",
            "14/14 [==============================] - 0s 8ms/step - loss: 0.9784 - mae: 0.8524 - val_loss: 1.0262 - val_mae: 0.8772\n",
            "Epoch 112/200\n",
            "14/14 [==============================] - 0s 7ms/step - loss: 0.9782 - mae: 0.8523 - val_loss: 1.0262 - val_mae: 0.8772\n",
            "Epoch 113/200\n",
            "14/14 [==============================] - 0s 6ms/step - loss: 0.9781 - mae: 0.8522 - val_loss: 1.0263 - val_mae: 0.8772\n",
            "Epoch 114/200\n",
            "14/14 [==============================] - 0s 7ms/step - loss: 0.9780 - mae: 0.8522 - val_loss: 1.0264 - val_mae: 0.8773\n",
            "Epoch 115/200\n",
            "14/14 [==============================] - 0s 7ms/step - loss: 0.9778 - mae: 0.8521 - val_loss: 1.0264 - val_mae: 0.8773\n",
            "Epoch 116/200\n",
            "14/14 [==============================] - 0s 7ms/step - loss: 0.9777 - mae: 0.8521 - val_loss: 1.0265 - val_mae: 0.8773\n",
            "Epoch 117/200\n",
            "14/14 [==============================] - 0s 6ms/step - loss: 0.9776 - mae: 0.8521 - val_loss: 1.0265 - val_mae: 0.8773\n",
            "Epoch 118/200\n",
            "14/14 [==============================] - 0s 7ms/step - loss: 0.9774 - mae: 0.8520 - val_loss: 1.0266 - val_mae: 0.8773\n",
            "Epoch 119/200\n",
            "14/14 [==============================] - 0s 7ms/step - loss: 0.9773 - mae: 0.8519 - val_loss: 1.0266 - val_mae: 0.8773\n",
            "Epoch 120/200\n",
            "14/14 [==============================] - 0s 6ms/step - loss: 0.9773 - mae: 0.8520 - val_loss: 1.0266 - val_mae: 0.8773\n",
            "Epoch 121/200\n",
            "14/14 [==============================] - 0s 6ms/step - loss: 0.9771 - mae: 0.8518 - val_loss: 1.0266 - val_mae: 0.8772\n",
            "Epoch 122/200\n",
            "14/14 [==============================] - 0s 6ms/step - loss: 0.9769 - mae: 0.8519 - val_loss: 1.0266 - val_mae: 0.8772\n",
            "Epoch 123/200\n",
            "14/14 [==============================] - 0s 7ms/step - loss: 0.9769 - mae: 0.8519 - val_loss: 1.0266 - val_mae: 0.8772\n",
            "Epoch 124/200\n",
            "14/14 [==============================] - 0s 7ms/step - loss: 0.9766 - mae: 0.8517 - val_loss: 1.0266 - val_mae: 0.8772\n",
            "Epoch 125/200\n",
            "14/14 [==============================] - 0s 7ms/step - loss: 0.9765 - mae: 0.8517 - val_loss: 1.0266 - val_mae: 0.8772\n",
            "Epoch 126/200\n",
            "14/14 [==============================] - 0s 8ms/step - loss: 0.9764 - mae: 0.8517 - val_loss: 1.0266 - val_mae: 0.8772\n",
            "Epoch 127/200\n",
            "14/14 [==============================] - 0s 6ms/step - loss: 0.9763 - mae: 0.8516 - val_loss: 1.0266 - val_mae: 0.8772\n",
            "Epoch 128/200\n",
            "14/14 [==============================] - 0s 8ms/step - loss: 0.9762 - mae: 0.8516 - val_loss: 1.0267 - val_mae: 0.8772\n",
            "Epoch 129/200\n",
            "14/14 [==============================] - 0s 7ms/step - loss: 0.9760 - mae: 0.8515 - val_loss: 1.0267 - val_mae: 0.8772\n",
            "Epoch 130/200\n",
            "14/14 [==============================] - 0s 6ms/step - loss: 0.9759 - mae: 0.8515 - val_loss: 1.0267 - val_mae: 0.8772\n",
            "Epoch 131/200\n",
            "14/14 [==============================] - 0s 7ms/step - loss: 0.9758 - mae: 0.8515 - val_loss: 1.0268 - val_mae: 0.8772\n",
            "Epoch 132/200\n",
            "14/14 [==============================] - 0s 7ms/step - loss: 0.9756 - mae: 0.8515 - val_loss: 1.0268 - val_mae: 0.8772\n",
            "Epoch 133/200\n",
            "14/14 [==============================] - 0s 7ms/step - loss: 0.9755 - mae: 0.8514 - val_loss: 1.0269 - val_mae: 0.8772\n",
            "Epoch 134/200\n",
            "14/14 [==============================] - 0s 7ms/step - loss: 0.9755 - mae: 0.8514 - val_loss: 1.0269 - val_mae: 0.8772\n",
            "Epoch 135/200\n",
            "14/14 [==============================] - 0s 7ms/step - loss: 0.9752 - mae: 0.8513 - val_loss: 1.0269 - val_mae: 0.8771\n",
            "Epoch 136/200\n",
            "14/14 [==============================] - 0s 8ms/step - loss: 0.9752 - mae: 0.8513 - val_loss: 1.0268 - val_mae: 0.8771\n",
            "Epoch 137/200\n",
            "14/14 [==============================] - 0s 7ms/step - loss: 0.9750 - mae: 0.8512 - val_loss: 1.0269 - val_mae: 0.8771\n",
            "Epoch 138/200\n",
            "14/14 [==============================] - 0s 8ms/step - loss: 0.9748 - mae: 0.8512 - val_loss: 1.0269 - val_mae: 0.8771\n",
            "Epoch 139/200\n",
            "14/14 [==============================] - 0s 7ms/step - loss: 0.9747 - mae: 0.8511 - val_loss: 1.0268 - val_mae: 0.8771\n",
            "Epoch 140/200\n",
            "14/14 [==============================] - 0s 8ms/step - loss: 0.9746 - mae: 0.8511 - val_loss: 1.0269 - val_mae: 0.8771\n",
            "Epoch 141/200\n",
            "14/14 [==============================] - 0s 7ms/step - loss: 0.9745 - mae: 0.8510 - val_loss: 1.0268 - val_mae: 0.8770\n",
            "Epoch 142/200\n",
            "14/14 [==============================] - 0s 7ms/step - loss: 0.9744 - mae: 0.8510 - val_loss: 1.0269 - val_mae: 0.8770\n",
            "Epoch 143/200\n",
            "14/14 [==============================] - 0s 7ms/step - loss: 0.9743 - mae: 0.8510 - val_loss: 1.0269 - val_mae: 0.8770\n",
            "Epoch 144/200\n",
            "14/14 [==============================] - 0s 6ms/step - loss: 0.9743 - mae: 0.8511 - val_loss: 1.0269 - val_mae: 0.8770\n",
            "Epoch 145/200\n",
            "14/14 [==============================] - 0s 10ms/step - loss: 0.9740 - mae: 0.8509 - val_loss: 1.0270 - val_mae: 0.8771\n",
            "Epoch 146/200\n",
            "14/14 [==============================] - 0s 10ms/step - loss: 0.9740 - mae: 0.8509 - val_loss: 1.0270 - val_mae: 0.8770\n",
            "Epoch 147/200\n",
            "14/14 [==============================] - 0s 9ms/step - loss: 0.9739 - mae: 0.8509 - val_loss: 1.0270 - val_mae: 0.8770\n",
            "Epoch 148/200\n",
            "14/14 [==============================] - 0s 9ms/step - loss: 0.9736 - mae: 0.8507 - val_loss: 1.0270 - val_mae: 0.8771\n",
            "Epoch 149/200\n",
            "14/14 [==============================] - 0s 9ms/step - loss: 0.9737 - mae: 0.8508 - val_loss: 1.0270 - val_mae: 0.8771\n",
            "Epoch 150/200\n",
            "14/14 [==============================] - 0s 9ms/step - loss: 0.9735 - mae: 0.8507 - val_loss: 1.0271 - val_mae: 0.8771\n",
            "Epoch 151/200\n",
            "14/14 [==============================] - 0s 9ms/step - loss: 0.9735 - mae: 0.8507 - val_loss: 1.0271 - val_mae: 0.8771\n",
            "Epoch 152/200\n",
            "14/14 [==============================] - 0s 10ms/step - loss: 0.9733 - mae: 0.8506 - val_loss: 1.0271 - val_mae: 0.8771\n",
            "Epoch 153/200\n",
            "14/14 [==============================] - 0s 10ms/step - loss: 0.9731 - mae: 0.8506 - val_loss: 1.0272 - val_mae: 0.8771\n",
            "Epoch 154/200\n",
            "14/14 [==============================] - 0s 9ms/step - loss: 0.9730 - mae: 0.8506 - val_loss: 1.0273 - val_mae: 0.8772\n",
            "Epoch 155/200\n",
            "14/14 [==============================] - 0s 10ms/step - loss: 0.9728 - mae: 0.8505 - val_loss: 1.0274 - val_mae: 0.8772\n",
            "Epoch 156/200\n",
            "14/14 [==============================] - 0s 10ms/step - loss: 0.9727 - mae: 0.8505 - val_loss: 1.0274 - val_mae: 0.8772\n",
            "Epoch 157/200\n",
            "14/14 [==============================] - 0s 10ms/step - loss: 0.9726 - mae: 0.8504 - val_loss: 1.0275 - val_mae: 0.8772\n",
            "Epoch 158/200\n",
            "14/14 [==============================] - 0s 9ms/step - loss: 0.9726 - mae: 0.8504 - val_loss: 1.0275 - val_mae: 0.8772\n",
            "Epoch 159/200\n",
            "14/14 [==============================] - 0s 9ms/step - loss: 0.9724 - mae: 0.8504 - val_loss: 1.0276 - val_mae: 0.8773\n",
            "Epoch 160/200\n",
            "14/14 [==============================] - 0s 9ms/step - loss: 0.9722 - mae: 0.8504 - val_loss: 1.0276 - val_mae: 0.8773\n",
            "Epoch 161/200\n",
            "14/14 [==============================] - 0s 8ms/step - loss: 0.9720 - mae: 0.8502 - val_loss: 1.0276 - val_mae: 0.8773\n",
            "Epoch 162/200\n",
            "14/14 [==============================] - 0s 9ms/step - loss: 0.9720 - mae: 0.8502 - val_loss: 1.0277 - val_mae: 0.8773\n",
            "Epoch 163/200\n",
            "14/14 [==============================] - 0s 9ms/step - loss: 0.9719 - mae: 0.8502 - val_loss: 1.0278 - val_mae: 0.8773\n",
            "Epoch 164/200\n",
            "14/14 [==============================] - 0s 9ms/step - loss: 0.9717 - mae: 0.8501 - val_loss: 1.0278 - val_mae: 0.8773\n",
            "Epoch 165/200\n",
            "14/14 [==============================] - 0s 12ms/step - loss: 0.9716 - mae: 0.8501 - val_loss: 1.0278 - val_mae: 0.8773\n",
            "Epoch 166/200\n",
            "14/14 [==============================] - 0s 9ms/step - loss: 0.9715 - mae: 0.8500 - val_loss: 1.0278 - val_mae: 0.8773\n",
            "Epoch 167/200\n",
            "14/14 [==============================] - 0s 23ms/step - loss: 0.9713 - mae: 0.8499 - val_loss: 1.0278 - val_mae: 0.8773\n",
            "Epoch 168/200\n",
            "14/14 [==============================] - 0s 31ms/step - loss: 0.9714 - mae: 0.8500 - val_loss: 1.0279 - val_mae: 0.8774\n",
            "Epoch 169/200\n",
            "14/14 [==============================] - 0s 28ms/step - loss: 0.9711 - mae: 0.8499 - val_loss: 1.0279 - val_mae: 0.8773\n",
            "Epoch 170/200\n",
            "14/14 [==============================] - 0s 15ms/step - loss: 0.9710 - mae: 0.8499 - val_loss: 1.0280 - val_mae: 0.8773\n",
            "Epoch 171/200\n",
            "14/14 [==============================] - 0s 6ms/step - loss: 0.9709 - mae: 0.8499 - val_loss: 1.0280 - val_mae: 0.8774\n",
            "Epoch 172/200\n",
            "14/14 [==============================] - 0s 7ms/step - loss: 0.9707 - mae: 0.8498 - val_loss: 1.0281 - val_mae: 0.8774\n",
            "Epoch 173/200\n",
            "14/14 [==============================] - 0s 7ms/step - loss: 0.9705 - mae: 0.8497 - val_loss: 1.0282 - val_mae: 0.8774\n",
            "Epoch 174/200\n",
            "14/14 [==============================] - 0s 6ms/step - loss: 0.9705 - mae: 0.8497 - val_loss: 1.0282 - val_mae: 0.8774\n",
            "Epoch 175/200\n",
            "14/14 [==============================] - 0s 9ms/step - loss: 0.9703 - mae: 0.8497 - val_loss: 1.0282 - val_mae: 0.8774\n",
            "Epoch 176/200\n",
            "14/14 [==============================] - 0s 29ms/step - loss: 0.9702 - mae: 0.8496 - val_loss: 1.0283 - val_mae: 0.8775\n",
            "Epoch 177/200\n",
            "14/14 [==============================] - 0s 23ms/step - loss: 0.9700 - mae: 0.8495 - val_loss: 1.0283 - val_mae: 0.8775\n",
            "Epoch 178/200\n",
            "14/14 [==============================] - 0s 20ms/step - loss: 0.9699 - mae: 0.8495 - val_loss: 1.0284 - val_mae: 0.8775\n",
            "Epoch 179/200\n",
            "14/14 [==============================] - 0s 17ms/step - loss: 0.9698 - mae: 0.8495 - val_loss: 1.0284 - val_mae: 0.8774\n",
            "Epoch 180/200\n",
            "14/14 [==============================] - 0s 21ms/step - loss: 0.9696 - mae: 0.8493 - val_loss: 1.0284 - val_mae: 0.8774\n",
            "Epoch 181/200\n",
            "14/14 [==============================] - 0s 11ms/step - loss: 0.9696 - mae: 0.8495 - val_loss: 1.0284 - val_mae: 0.8774\n",
            "Epoch 182/200\n",
            "14/14 [==============================] - 0s 7ms/step - loss: 0.9693 - mae: 0.8493 - val_loss: 1.0284 - val_mae: 0.8774\n",
            "Epoch 183/200\n",
            "14/14 [==============================] - 0s 7ms/step - loss: 0.9693 - mae: 0.8492 - val_loss: 1.0285 - val_mae: 0.8775\n",
            "Epoch 184/200\n",
            "14/14 [==============================] - 0s 6ms/step - loss: 0.9690 - mae: 0.8492 - val_loss: 1.0286 - val_mae: 0.8775\n",
            "Epoch 185/200\n",
            "14/14 [==============================] - 0s 16ms/step - loss: 0.9690 - mae: 0.8491 - val_loss: 1.0286 - val_mae: 0.8775\n",
            "Epoch 186/200\n",
            "14/14 [==============================] - 0s 21ms/step - loss: 0.9689 - mae: 0.8492 - val_loss: 1.0286 - val_mae: 0.8775\n",
            "Epoch 187/200\n",
            "14/14 [==============================] - 0s 18ms/step - loss: 0.9686 - mae: 0.8490 - val_loss: 1.0286 - val_mae: 0.8775\n",
            "Epoch 188/200\n",
            "14/14 [==============================] - 0s 11ms/step - loss: 0.9684 - mae: 0.8490 - val_loss: 1.0286 - val_mae: 0.8774\n",
            "Epoch 189/200\n",
            "14/14 [==============================] - 0s 6ms/step - loss: 0.9684 - mae: 0.8490 - val_loss: 1.0286 - val_mae: 0.8774\n",
            "Epoch 190/200\n",
            "14/14 [==============================] - 0s 7ms/step - loss: 0.9682 - mae: 0.8489 - val_loss: 1.0287 - val_mae: 0.8775\n",
            "Epoch 191/200\n",
            "14/14 [==============================] - 0s 7ms/step - loss: 0.9681 - mae: 0.8490 - val_loss: 1.0287 - val_mae: 0.8774\n",
            "Epoch 192/200\n",
            "14/14 [==============================] - 0s 7ms/step - loss: 0.9678 - mae: 0.8488 - val_loss: 1.0287 - val_mae: 0.8774\n",
            "Epoch 193/200\n",
            "14/14 [==============================] - 0s 7ms/step - loss: 0.9678 - mae: 0.8487 - val_loss: 1.0288 - val_mae: 0.8775\n",
            "Epoch 194/200\n",
            "14/14 [==============================] - 0s 6ms/step - loss: 0.9677 - mae: 0.8488 - val_loss: 1.0289 - val_mae: 0.8775\n",
            "Epoch 195/200\n",
            "14/14 [==============================] - 0s 6ms/step - loss: 0.9675 - mae: 0.8488 - val_loss: 1.0289 - val_mae: 0.8775\n",
            "Epoch 196/200\n",
            "14/14 [==============================] - 0s 7ms/step - loss: 0.9674 - mae: 0.8486 - val_loss: 1.0290 - val_mae: 0.8775\n",
            "Epoch 197/200\n",
            "14/14 [==============================] - 0s 6ms/step - loss: 0.9673 - mae: 0.8487 - val_loss: 1.0289 - val_mae: 0.8775\n",
            "Epoch 198/200\n",
            "14/14 [==============================] - 0s 8ms/step - loss: 0.9670 - mae: 0.8485 - val_loss: 1.0290 - val_mae: 0.8775\n",
            "Epoch 199/200\n",
            "14/14 [==============================] - 0s 7ms/step - loss: 0.9669 - mae: 0.8485 - val_loss: 1.0291 - val_mae: 0.8775\n",
            "Epoch 200/200\n",
            "14/14 [==============================] - 0s 8ms/step - loss: 0.9667 - mae: 0.8484 - val_loss: 1.0291 - val_mae: 0.8775\n",
            "5/5 [==============================] - 0s 4ms/step - loss: 0.9893 - mae: 0.8568\n",
            "5/5 [==============================] - 0s 3ms/step\n"
          ]
        }
      ]
    },
    {
      "cell_type": "code",
      "source": [
        "print(\"Hiperparametros  mejor modelo encontrado:\")\n",
        "print(\"lr:\", mejor_modelo.optimizer.learning_rate.numpy())\n",
        "print(\"Capas ocultas:\", len(mejor_modelo.layers) - 2)\n",
        "print(\"Neuronas x capa oculta:\", mejor_modelo.layers[0].units)\n",
        "print(\"Optimizador:\", mejor_modelo.optimizer.__class__.__name__)\n",
        "print(\"Batch:\", batch_size)\n"
      ],
      "metadata": {
        "colab": {
          "base_uri": "https://localhost:8080/"
        },
        "id": "oZhzNnGdTj4U",
        "outputId": "e2495e37-9420-4b80-860d-b8d172eef9da"
      },
      "execution_count": 26,
      "outputs": [
        {
          "output_type": "stream",
          "name": "stdout",
          "text": [
            "Hiperparametros  mejor modelo encontrado:\n",
            "lr: 0.001\n",
            "Capas ocultas: 7\n",
            "Neuronas x capa oculta: 16\n",
            "Optimizador: SGD\n",
            "Batch: 32\n"
          ]
        }
      ]
    },
    {
      "cell_type": "markdown",
      "source": [
        "Hiperparametros  mejor modelo encontrado:\n",
        "lr: 0.1\n",
        "Capas ocultas: 1\n",
        "Neuronas x capa oculta: 16\n",
        "Optimizador: SGD\n",
        "Batch: 32"
      ],
      "metadata": {
        "id": "cScona5_h1i9"
      }
    },
    {
      "cell_type": "code",
      "source": [
        "# Predicciones del mejor modelo\n",
        "y_pred_norm = mejor_modelo.predict(X_test_norm)\n",
        "y_pred = desnormalizar(y_pred_norm, y_test)\n",
        "y_test_orig = desnormalizar(y_test_norm, y_test)\n",
        "\n",
        "# Grafica\n",
        "plt.plot(y_test_orig, label='Datos originales')\n",
        "plt.plot(y_pred, label='Predicciones')\n",
        "plt.legend()\n",
        "plt.show()\n",
        "\n",
        "# Eval en d normalizados\n",
        "loss = mejor_modelo.evaluate(X_test_norm, y_test_norm)\n",
        "print(f'Loss={loss}')\n"
      ],
      "metadata": {
        "colab": {
          "base_uri": "https://localhost:8080/",
          "height": 317
        },
        "id": "EPTr93KnO6EF",
        "outputId": "96556d56-bcc3-4a46-98d3-6faf245e359e"
      },
      "execution_count": 27,
      "outputs": [
        {
          "output_type": "stream",
          "name": "stdout",
          "text": [
            "5/5 [==============================] - 0s 3ms/step\n"
          ]
        },
        {
          "output_type": "display_data",
          "data": {
            "text/plain": [
              "<Figure size 432x288 with 1 Axes>"
            ],
            "image/png": "[encoded data removed]"
          },
          "metadata": {
            "needs_background": "light"
          }
        },
        {
          "output_type": "stream",
          "name": "stdout",
          "text": [
            "5/5 [==============================] - 0s 5ms/step - loss: 0.9893 - mae: 0.8568\n",
            "Loss=[0.9892929196357727, 0.8567891120910645]\n"
          ]
        }
      ]
    },
    {
      "cell_type": "markdown",
      "source": [
        "\n",
        "\n",
        "---\n",
        "\n",
        "# CNN"
      ],
      "metadata": {
        "id": "sUG4zwryLbz2"
      }
    },
    {
      "cell_type": "code",
      "source": [
        "# Dividir test train\n",
        "img_train, img_test = train_test_split(images, test_size=0.2, random_state=42)"
      ],
      "metadata": {
        "id": "WkoG59iCkNxg"
      },
      "execution_count": 8,
      "outputs": []
    },
    {
      "cell_type": "code",
      "source": [
        "print('-----primer split--------')\n",
        "print(img_train.shape,'img_train')\n",
        "print(img_test.shape,'img_test')\n",
        "print(y_train.shape,'price y_train')\n",
        "print(y_test.shape,'price y_test')"
      ],
      "metadata": {
        "colab": {
          "base_uri": "https://localhost:8080/"
        },
        "id": "Q4n98igxrbjN",
        "outputId": "920a69a7-e3a9-4425-8418-10c8124fe739"
      },
      "execution_count": 17,
      "outputs": [
        {
          "output_type": "stream",
          "name": "stdout",
          "text": [
            "-----primer split--------\n",
            "(640, 64, 64, 3) img_train\n",
            "(160, 64, 64, 3) img_test\n",
            "(640,) price y_train\n",
            "(160,) price y_test\n"
          ]
        }
      ]
    },
    {
      "cell_type": "code",
      "source": [
        "\n",
        "\n",
        "# Normalizar imágenes\n",
        "img_train = img_train / 255\n",
        "img_test = img_test / 255\n",
        "\n",
        "# VGG16 congelando algunas capas\n",
        "base_model = VGG16(weights='imagenet', include_top=False, input_shape=(64, 64, 3))\n",
        "for layer in base_model.layers:\n",
        "    if layer.name == 'block5_conv1':\n",
        "        break\n",
        "    layer.trainable = False\n",
        "\n",
        "# Capas personalizada\n",
        "x = base_model.output\n",
        "x = GlobalMaxPool2D(name='GlobalMaxPool')(x)\n",
        "x = Dense(16, activation='relu', name='fc1')(x)\n",
        "predictions = Dense(1, activation='linear', name='prediction')(x)\n",
        "\n",
        "# Model\n",
        "model1 = Model(inputs=base_model.input, outputs=predictions)\n",
        "model1.compile(optimizer=Adam(learning_rate=0.001), loss='mse', metrics=['mean_squared_error'])\n",
        "\n",
        "\n",
        "history = model1.fit(img_train, y_train, validation_split=0.2, epochs=200, batch_size=32, verbose=1)\n",
        "\n",
        "# Obt val\n",
        "train_loss = history.history['loss']\n",
        "val_loss = history.history['val_loss']\n",
        "\n",
        "# Graf\n",
        "plt.plot(train_loss, label='Training loss')\n",
        "plt.plot(val_loss, label='Validation loss')\n",
        "plt.title('Evolution of loss')\n",
        "plt.xlabel('Epochs')\n",
        "plt.ylabel('Loss')\n",
        "plt.legend()\n",
        "plt.show()\n"
      ],
      "metadata": {
        "colab": {
          "base_uri": "https://localhost:8080/",
          "height": 295
        },
        "id": "RFdxyKUszJ99",
        "outputId": "eb25bab3-b66b-4e66-ffa0-bd7e5a0bf242"
      },
      "execution_count": 37,
      "outputs": [
        {
          "output_type": "display_data",
          "data": {
            "text/plain": [
              "<Figure size 432x288 with 1 Axes>"
            ],
            "image/png": "[encoded data removed]"
          },
          "metadata": {
            "needs_background": "light"
          }
        }
      ]
    },
    {
      "cell_type": "markdown",
      "source": [
        "\n",
        "\n",
        "---\n",
        "\n",
        "# Hibrida"
      ],
      "metadata": {
        "id": "aXf1IgcUMJbM"
      }
    },
    {
      "cell_type": "code",
      "source": [
        "from tensorflow.keras.layers import Dropout\n",
        "\n",
        "input1 = mejor_modelo.input\n",
        "input2 = model1.input\n",
        "output1 = mejor_modelo.output\n",
        "output2 = model1.output\n",
        "merged = concatenate([output1, output2])\n",
        "x = Dense(64, activation='relu')(merged)\n",
        "x = Dropout(0.2)(x) \n",
        "x = Dense(32, activation='relu')(x)\n",
        "x = Dropout(0.2)(x) \n",
        "x = Dense(1, activation='linear')(x)\n",
        "modelo_hibrido = Model(inputs=[input1, input2], outputs=x)\n",
        "\n",
        "# Compilar y entrenar el modelo híbrido\n",
        "modelo_hibrido.compile(optimizer='adam', loss='mse', metrics=['mean_squared_error'])\n",
        "historial = modelo_hibrido.fit([X_train_norm, img_train], y_train_norm, epochs=200, validation_split=0.2, shuffle=True)\n",
        "\n",
        "# Gráfica del loss\n",
        "import matplotlib.pyplot as plt\n",
        "\n",
        "plt.plot(historial.history['loss'], label='train')\n",
        "plt.plot(historial.history['val_loss'], label='val')\n",
        "plt.title('Evolución del loss durante el entrenamiento')\n",
        "plt.xlabel('Época')\n",
        "plt.ylabel('Loss')\n",
        "plt.legend()\n",
        "plt.show()\n"
      ],
      "metadata": {
        "id": "lvkagYYyS6xc",
        "colab": {
          "base_uri": "https://localhost:8080/"
        },
        "outputId": "049e168f-66ae-4795-c0cd-9211b03f5879"
      },
      "execution_count": null,
      "outputs": [
        {
          "output_type": "stream",
          "name": "stdout",
          "text": [
            "Epoch 1/200\n",
            "16/16 [==============================] - 7s 58ms/step - loss: 0.3167 - mean_squared_error: 0.3167 - val_loss: 1.9227 - val_mean_squared_error: 1.9227\n",
            "Epoch 2/200\n",
            "16/16 [==============================] - 0s 28ms/step - loss: 0.1312 - mean_squared_error: 0.1312 - val_loss: 1.9183 - val_mean_squared_error: 1.9183\n",
            "Epoch 3/200\n",
            "16/16 [==============================] - 0s 28ms/step - loss: 0.0879 - mean_squared_error: 0.0879 - val_loss: 1.7711 - val_mean_squared_error: 1.7711\n",
            "Epoch 4/200\n",
            "16/16 [==============================] - 0s 27ms/step - loss: 0.0787 - mean_squared_error: 0.0787 - val_loss: 1.9380 - val_mean_squared_error: 1.9380\n",
            "Epoch 5/200\n",
            "16/16 [==============================] - 0s 28ms/step - loss: 0.0740 - mean_squared_error: 0.0740 - val_loss: 1.8957 - val_mean_squared_error: 1.8957\n",
            "Epoch 6/200\n",
            "16/16 [==============================] - 0s 27ms/step - loss: 0.0604 - mean_squared_error: 0.0604 - val_loss: 1.8592 - val_mean_squared_error: 1.8592\n",
            "Epoch 7/200\n",
            "16/16 [==============================] - 0s 31ms/step - loss: 0.0631 - mean_squared_error: 0.0631 - val_loss: 1.9869 - val_mean_squared_error: 1.9869\n",
            "Epoch 8/200\n",
            "16/16 [==============================] - 1s 34ms/step - loss: 0.0695 - mean_squared_error: 0.0695 - val_loss: 1.9877 - val_mean_squared_error: 1.9877\n",
            "Epoch 9/200\n",
            "16/16 [==============================] - 0s 28ms/step - loss: 0.0615 - mean_squared_error: 0.0615 - val_loss: 1.9509 - val_mean_squared_error: 1.9509\n",
            "Epoch 10/200\n",
            "16/16 [==============================] - 0s 28ms/step - loss: 0.0523 - mean_squared_error: 0.0523 - val_loss: 1.9822 - val_mean_squared_error: 1.9822\n",
            "Epoch 11/200\n",
            "16/16 [==============================] - 0s 28ms/step - loss: 0.0562 - mean_squared_error: 0.0562 - val_loss: 2.0582 - val_mean_squared_error: 2.0582\n",
            "Epoch 12/200\n",
            "16/16 [==============================] - 0s 28ms/step - loss: 0.0531 - mean_squared_error: 0.0531 - val_loss: 2.0657 - val_mean_squared_error: 2.0657\n",
            "Epoch 13/200\n",
            "16/16 [==============================] - 0s 28ms/step - loss: 0.0481 - mean_squared_error: 0.0481 - val_loss: 2.1230 - val_mean_squared_error: 2.1230\n",
            "Epoch 14/200\n",
            "16/16 [==============================] - 0s 27ms/step - loss: 0.0485 - mean_squared_error: 0.0485 - val_loss: 1.9725 - val_mean_squared_error: 1.9725\n",
            "Epoch 15/200\n",
            "16/16 [==============================] - 0s 28ms/step - loss: 0.0574 - mean_squared_error: 0.0574 - val_loss: 2.0980 - val_mean_squared_error: 2.0980\n",
            "Epoch 16/200\n",
            "16/16 [==============================] - 0s 28ms/step - loss: 0.0512 - mean_squared_error: 0.0512 - val_loss: 2.0567 - val_mean_squared_error: 2.0567\n",
            "Epoch 17/200\n",
            "16/16 [==============================] - 0s 28ms/step - loss: 0.0476 - mean_squared_error: 0.0476 - val_loss: 1.9922 - val_mean_squared_error: 1.9922\n",
            "Epoch 18/200\n",
            "16/16 [==============================] - 0s 28ms/step - loss: 0.0463 - mean_squared_error: 0.0463 - val_loss: 2.0928 - val_mean_squared_error: 2.0928\n",
            "Epoch 19/200\n",
            "16/16 [==============================] - 0s 28ms/step - loss: 0.0515 - mean_squared_error: 0.0515 - val_loss: 1.9720 - val_mean_squared_error: 1.9720\n",
            "Epoch 20/200\n",
            "16/16 [==============================] - 0s 27ms/step - loss: 0.0452 - mean_squared_error: 0.0452 - val_loss: 2.0322 - val_mean_squared_error: 2.0322\n",
            "Epoch 21/200\n",
            "16/16 [==============================] - 0s 28ms/step - loss: 0.0440 - mean_squared_error: 0.0440 - val_loss: 1.9406 - val_mean_squared_error: 1.9406\n",
            "Epoch 22/200\n",
            "16/16 [==============================] - 0s 28ms/step - loss: 0.0466 - mean_squared_error: 0.0466 - val_loss: 2.0847 - val_mean_squared_error: 2.0847\n",
            "Epoch 23/200\n",
            "16/16 [==============================] - 0s 30ms/step - loss: 0.0555 - mean_squared_error: 0.0555 - val_loss: 2.0283 - val_mean_squared_error: 2.0283\n",
            "Epoch 24/200\n",
            "16/16 [==============================] - 0s 30ms/step - loss: 0.0513 - mean_squared_error: 0.0513 - val_loss: 1.9388 - val_mean_squared_error: 1.9388\n",
            "Epoch 25/200\n",
            "16/16 [==============================] - 0s 31ms/step - loss: 0.0402 - mean_squared_error: 0.0402 - val_loss: 1.8989 - val_mean_squared_error: 1.8989\n",
            "Epoch 26/200\n",
            "16/16 [==============================] - 0s 30ms/step - loss: 0.0406 - mean_squared_error: 0.0406 - val_loss: 2.0634 - val_mean_squared_error: 2.0634\n",
            "Epoch 27/200\n",
            "16/16 [==============================] - 1s 36ms/step - loss: 0.0449 - mean_squared_error: 0.0449 - val_loss: 2.0580 - val_mean_squared_error: 2.0580\n",
            "Epoch 28/200\n",
            "16/16 [==============================] - 0s 29ms/step - loss: 0.0449 - mean_squared_error: 0.0449 - val_loss: 2.0570 - val_mean_squared_error: 2.0570\n",
            "Epoch 29/200\n",
            "16/16 [==============================] - 0s 30ms/step - loss: 0.0418 - mean_squared_error: 0.0418 - val_loss: 2.0556 - val_mean_squared_error: 2.0556\n",
            "Epoch 30/200\n",
            "16/16 [==============================] - 0s 29ms/step - loss: 0.0392 - mean_squared_error: 0.0392 - val_loss: 2.0074 - val_mean_squared_error: 2.0074\n",
            "Epoch 31/200\n",
            "16/16 [==============================] - 0s 28ms/step - loss: 0.0436 - mean_squared_error: 0.0436 - val_loss: 1.9473 - val_mean_squared_error: 1.9473\n",
            "Epoch 32/200\n",
            "16/16 [==============================] - 0s 29ms/step - loss: 0.0430 - mean_squared_error: 0.0430 - val_loss: 1.9222 - val_mean_squared_error: 1.9222\n",
            "Epoch 33/200\n",
            "16/16 [==============================] - 0s 28ms/step - loss: 0.0487 - mean_squared_error: 0.0487 - val_loss: 2.0318 - val_mean_squared_error: 2.0318\n",
            "Epoch 34/200\n",
            "16/16 [==============================] - 0s 28ms/step - loss: 0.0479 - mean_squared_error: 0.0479 - val_loss: 2.1918 - val_mean_squared_error: 2.1918\n",
            "Epoch 35/200\n",
            "16/16 [==============================] - 0s 28ms/step - loss: 0.0427 - mean_squared_error: 0.0427 - val_loss: 1.9616 - val_mean_squared_error: 1.9616\n",
            "Epoch 36/200\n",
            "16/16 [==============================] - 0s 28ms/step - loss: 0.0372 - mean_squared_error: 0.0372 - val_loss: 1.9635 - val_mean_squared_error: 1.9635\n",
            "Epoch 37/200\n",
            "16/16 [==============================] - 0s 28ms/step - loss: 0.0438 - mean_squared_error: 0.0438 - val_loss: 2.0298 - val_mean_squared_error: 2.0298\n",
            "Epoch 38/200\n",
            "16/16 [==============================] - 0s 28ms/step - loss: 0.0415 - mean_squared_error: 0.0415 - val_loss: 2.0388 - val_mean_squared_error: 2.0388\n",
            "Epoch 39/200\n",
            "16/16 [==============================] - 0s 28ms/step - loss: 0.0404 - mean_squared_error: 0.0404 - val_loss: 2.0119 - val_mean_squared_error: 2.0119\n",
            "Epoch 40/200\n",
            "16/16 [==============================] - 0s 28ms/step - loss: 0.0398 - mean_squared_error: 0.0398 - val_loss: 2.1186 - val_mean_squared_error: 2.1186\n",
            "Epoch 41/200\n",
            "16/16 [==============================] - 0s 29ms/step - loss: 0.0450 - mean_squared_error: 0.0450 - val_loss: 2.1138 - val_mean_squared_error: 2.1138\n",
            "Epoch 42/200\n",
            "16/16 [==============================] - 0s 28ms/step - loss: 0.0454 - mean_squared_error: 0.0454 - val_loss: 2.0430 - val_mean_squared_error: 2.0430\n",
            "Epoch 43/200\n",
            "16/16 [==============================] - 0s 28ms/step - loss: 0.0465 - mean_squared_error: 0.0465 - val_loss: 1.9424 - val_mean_squared_error: 1.9424\n",
            "Epoch 44/200\n",
            "16/16 [==============================] - 0s 29ms/step - loss: 0.0464 - mean_squared_error: 0.0464 - val_loss: 2.0198 - val_mean_squared_error: 2.0198\n",
            "Epoch 45/200\n",
            "16/16 [==============================] - 0s 28ms/step - loss: 0.0428 - mean_squared_error: 0.0428 - val_loss: 1.9534 - val_mean_squared_error: 1.9534\n",
            "Epoch 46/200\n",
            "16/16 [==============================] - 0s 28ms/step - loss: 0.0417 - mean_squared_error: 0.0417 - val_loss: 1.9662 - val_mean_squared_error: 1.9662\n",
            "Epoch 47/200\n",
            "16/16 [==============================] - 0s 29ms/step - loss: 0.0385 - mean_squared_error: 0.0385 - val_loss: 2.0015 - val_mean_squared_error: 2.0015\n",
            "Epoch 48/200\n",
            "16/16 [==============================] - 0s 28ms/step - loss: 0.0464 - mean_squared_error: 0.0464 - val_loss: 2.0638 - val_mean_squared_error: 2.0638\n",
            "Epoch 49/200\n",
            "16/16 [==============================] - 0s 28ms/step - loss: 0.0426 - mean_squared_error: 0.0426 - val_loss: 2.1137 - val_mean_squared_error: 2.1137\n",
            "Epoch 50/200\n",
            "16/16 [==============================] - 0s 28ms/step - loss: 0.0430 - mean_squared_error: 0.0430 - val_loss: 1.9334 - val_mean_squared_error: 1.9334\n",
            "Epoch 51/200\n",
            "16/16 [==============================] - 0s 29ms/step - loss: 0.0451 - mean_squared_error: 0.0451 - val_loss: 1.9949 - val_mean_squared_error: 1.9949\n",
            "Epoch 52/200\n",
            "16/16 [==============================] - 0s 29ms/step - loss: 0.0408 - mean_squared_error: 0.0408 - val_loss: 2.0849 - val_mean_squared_error: 2.0849\n",
            "Epoch 53/200\n",
            "16/16 [==============================] - 0s 30ms/step - loss: 0.0376 - mean_squared_error: 0.0376 - val_loss: 1.9889 - val_mean_squared_error: 1.9889\n",
            "Epoch 54/200\n",
            "16/16 [==============================] - 0s 30ms/step - loss: 0.0430 - mean_squared_error: 0.0430 - val_loss: 2.0818 - val_mean_squared_error: 2.0818\n",
            "Epoch 55/200\n",
            "16/16 [==============================] - 0s 30ms/step - loss: 0.0446 - mean_squared_error: 0.0446 - val_loss: 2.0009 - val_mean_squared_error: 2.0009\n",
            "Epoch 56/200\n",
            "16/16 [==============================] - 0s 30ms/step - loss: 0.0400 - mean_squared_error: 0.0400 - val_loss: 2.1351 - val_mean_squared_error: 2.1351\n",
            "Epoch 57/200\n",
            "16/16 [==============================] - 0s 30ms/step - loss: 0.0482 - mean_squared_error: 0.0482 - val_loss: 2.0533 - val_mean_squared_error: 2.0533\n",
            "Epoch 58/200\n",
            "16/16 [==============================] - 0s 29ms/step - loss: 0.0447 - mean_squared_error: 0.0447 - val_loss: 1.9654 - val_mean_squared_error: 1.9654\n",
            "Epoch 59/200\n",
            "16/16 [==============================] - 0s 30ms/step - loss: 0.0438 - mean_squared_error: 0.0438 - val_loss: 2.0068 - val_mean_squared_error: 2.0068\n",
            "Epoch 60/200\n",
            "16/16 [==============================] - 0s 29ms/step - loss: 0.0383 - mean_squared_error: 0.0383 - val_loss: 2.1122 - val_mean_squared_error: 2.1122\n",
            "Epoch 61/200\n",
            "16/16 [==============================] - 0s 29ms/step - loss: 0.0417 - mean_squared_error: 0.0417 - val_loss: 2.0205 - val_mean_squared_error: 2.0205\n",
            "Epoch 62/200\n",
            "16/16 [==============================] - 0s 28ms/step - loss: 0.0359 - mean_squared_error: 0.0359 - val_loss: 2.0651 - val_mean_squared_error: 2.0651\n",
            "Epoch 63/200\n",
            "16/16 [==============================] - 0s 28ms/step - loss: 0.0424 - mean_squared_error: 0.0424 - val_loss: 2.1364 - val_mean_squared_error: 2.1364\n",
            "Epoch 64/200\n",
            "16/16 [==============================] - 0s 29ms/step - loss: 0.0475 - mean_squared_error: 0.0475 - val_loss: 2.0854 - val_mean_squared_error: 2.0854\n",
            "Epoch 65/200\n",
            "16/16 [==============================] - 0s 28ms/step - loss: 0.0423 - mean_squared_error: 0.0423 - val_loss: 1.9644 - val_mean_squared_error: 1.9644\n",
            "Epoch 66/200\n",
            "16/16 [==============================] - 0s 29ms/step - loss: 0.0420 - mean_squared_error: 0.0420 - val_loss: 2.0467 - val_mean_squared_error: 2.0467\n",
            "Epoch 67/200\n",
            "16/16 [==============================] - 0s 28ms/step - loss: 0.0422 - mean_squared_error: 0.0422 - val_loss: 2.0478 - val_mean_squared_error: 2.0478\n",
            "Epoch 68/200\n",
            "16/16 [==============================] - 0s 27ms/step - loss: 0.0396 - mean_squared_error: 0.0396 - val_loss: 2.0601 - val_mean_squared_error: 2.0601\n",
            "Epoch 69/200\n",
            "16/16 [==============================] - 0s 28ms/step - loss: 0.0440 - mean_squared_error: 0.0440 - val_loss: 2.0777 - val_mean_squared_error: 2.0777\n",
            "Epoch 70/200\n",
            "16/16 [==============================] - 0s 27ms/step - loss: 0.0398 - mean_squared_error: 0.0398 - val_loss: 2.0491 - val_mean_squared_error: 2.0491\n",
            "Epoch 71/200\n",
            "13/16 [=======================>......] - ETA: 0s - loss: 0.0409 - mean_squared_error: 0.0409"
          ]
        }
      ]
    }
  ],
  "metadata": {
    "colab": {
      "provenance": [],
      "collapsed_sections": [
        "yVvQ9Z8Rsd2f",
        "jB-EAEVccXUJ",
        "8dkuG_ezMsGD",
        "RjxZ_AHQ-_FT",
        "8ihdBctyMbys",
        "PCx1p8RRQgX5",
        "_u0fQTUCSlPj",
        "ebd9tP9fmQoO",
        "iH4Ywzc2kcT_",
        "nw9tHkuCm9-T",
        "kep1-oWon9bT",
        "yY8vlv0FpkoI",
        "79bIyfGxDaNG",
        "mTJ6jyW4KaKf"
      ]
    },
    "kernelspec": {
      "display_name": "Python 3",
      "name": "python3"
    },
    "language_info": {
      "name": "python"
    },
    "accelerator": "GPU",
    "gpuClass": "standard"
  },
  "nbformat": 4,
  "nbformat_minor": 0
}